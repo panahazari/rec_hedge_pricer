{
 "cells": [
  {
   "cell_type": "markdown",
   "id": "879c1017",
   "metadata": {},
   "source": [
    "\n",
    "# Asset Report — Wind 1 (ERCOT)\n",
    "This notebook executes **all core steps** from the project brief for one asset (Wind 1 in ERCOT), and presents the results clearly with tables and plots.\n",
    "\n",
    "**Scope covered:**\n",
    "- Expected generation (by month, Peak/Off-Peak)\n",
    "- Four 5-year **fixed prices** ($/MWh): RT/DA × Hub/Node\n",
    "- **Price breakdown** (Hub capture, Basis, DA–RT spread, Negative-price clause, Risk add-on)\n",
    "- Risk target **P75** (and P50 / P90 sensitivity)\n",
    "- Discussion prompts: volume & price risk, negative price impact\n"
   ]
  },
  {
   "cell_type": "code",
   "execution_count": null,
   "id": "1750ec33",
   "metadata": {},
   "outputs": [],
   "source": [
    "\n",
    "import yaml\n",
    "import numpy as np\n",
    "import pandas as pd\n",
    "from pathlib import Path\n",
    "import matplotlib.pyplot as plt\n",
    "\n",
    "from src.data.loader import load_data\n",
    "from src.features.calendar import make_calendar_index\n",
    "from src.models.shape import hub_hourly_shape\n",
    "from src.models.price import (\n",
    "    shape_monthly_to_hourly,\n",
    "    basis_stats,\n",
    "    da_spread_stats,\n",
    "    simulate_prices\n",
    ")\n",
    "from src.models.volume import bootstrap_generation\n",
    "from src.pricing.solve_price import (\n",
    "    solve_product_prices,\n",
    "    expected_generation_monthly,\n",
    "    compute_price_breakdown,\n",
    "    solve_prices_for_levels,\n",
    ")\n",
    "\n",
    "CONFIG_PATH = \"configs/project.yaml\"\n",
    "ASSET_NAME = \"Wind_A\"\n",
    "MARKET = \"ERCOT\"\n",
    "P_LEVEL = 0.75\n",
    "P_GRID = [0.50, 0.75, 0.90]\n",
    "SEED = 42\n",
    "SCENARIOS = 1000\n",
    "np.set_printoptions(suppress=True, linewidth=120)\n",
    "\n",
    "cfg = yaml.safe_load(open(CONFIG_PATH, \"r\"))\n",
    "start_year = cfg[\"start_year\"]\n",
    "end_year = cfg[\"end_year\"]\n",
    "neg_rule = cfg.get(\"negative_price_rule\", \"include\")\n"
   ]
  },
  {
   "cell_type": "code",
   "execution_count": null,
   "id": "ad761cf5",
   "metadata": {},
   "outputs": [],
   "source": [
    "\n",
    "hist_all, fwd_all = load_data(cfg)\n",
    "hist = hist_all[hist_all[\"market\"] == MARKET].copy()\n",
    "hist_asset = hist_all[(hist_all[\"market\"] == MARKET) & (hist_all[\"asset\"] == ASSET_NAME)].copy()\n",
    "\n",
    "print(\"Historical rows (market):\", len(hist))\n",
    "print(\"Historical rows (asset):\", len(hist_asset))\n",
    "display(hist_asset.head(3))\n",
    "\n",
    "num_cols = [\"gen_mwh\",\"rt_hub\",\"rt_node\",\"da_hub\",\"da_node\"]\n",
    "print(\"Numeric dtype check (asset):\")\n",
    "display(hist_asset[num_cols].dtypes)\n"
   ]
  },
  {
   "cell_type": "code",
   "execution_count": null,
   "id": "98053d32",
   "metadata": {},
   "outputs": [],
   "source": [
    "\n",
    "cal = make_calendar_index(start_year, end_year)\n",
    "cal.head()\n"
   ]
  },
  {
   "cell_type": "code",
   "execution_count": null,
   "id": "ce4cb5af",
   "metadata": {},
   "outputs": [],
   "source": [
    "\n",
    "shape_tbl = hub_hourly_shape(hist)\n",
    "bs_rt = basis_stats(hist, price_col_hub=\"rt_hub\", price_col_node=\"rt_node\")\n",
    "spr_hub = da_spread_stats(hist, level=\"hub\")\n",
    "spr_node = da_spread_stats(hist, level=\"node\")\n",
    "\n",
    "print(\"Shape rows:\", len(shape_tbl), \"| Basis rows:\", len(bs_rt), \"| Spread rows:\", len(spr_hub), len(spr_node))\n"
   ]
  },
  {
   "cell_type": "code",
   "execution_count": null,
   "id": "541a9ab1",
   "metadata": {},
   "outputs": [],
   "source": [
    "\n",
    "hh_all = shape_monthly_to_hourly(fwd_all, shape_tbl, cal)\n",
    "hh = hh_all[hh_all[\"market\"] == MARKET].copy().sort_values(\"ts\").reset_index(drop=True)\n",
    "print(\"Hourly hub forward rows (ERCOT):\", len(hh))\n",
    "display(hh.head(5))\n"
   ]
  },
  {
   "cell_type": "code",
   "execution_count": null,
   "id": "3b511f95",
   "metadata": {},
   "outputs": [],
   "source": [
    "\n",
    "sims_all = simulate_prices(hh, bs_rt, spr_hub, spr_node, n_scenarios=SCENARIOS, seed=SEED)\n",
    "sims = sims_all[sims_all[\"market\"] == MARKET].copy()\n",
    "display(sims.head(3))\n"
   ]
  },
  {
   "cell_type": "code",
   "execution_count": null,
   "id": "c4047b2b",
   "metadata": {},
   "outputs": [],
   "source": [
    "\n",
    "vol_tbl = (\n",
    "    hist_all.assign(month=hist_all[\"date\"].dt.to_period(\"M\").dt.to_timestamp(), hour=hist_all[\"he\"])\n",
    "            .groupby([\"asset\",\"market\",\"month\",\"hour\"])[\"gen_mwh\"]\n",
    "            .apply(list).reset_index(name=\"samples\")\n",
    ")\n",
    "\n",
    "rng = np.random.default_rng(SEED)\n",
    "gen_all = bootstrap_generation(cal, vol_tbl, n_scenarios=SCENARIOS, rng=rng)\n",
    "gen = gen_all[(gen_all[\"asset\"] == ASSET_NAME) & (gen_all[\"market\"] == MARKET)].copy()\n",
    "\n",
    "display(gen.head(3))\n",
    "print(\"Generation scenarios rows (asset):\", len(gen))\n"
   ]
  },
  {
   "cell_type": "code",
   "execution_count": null,
   "id": "80c323df",
   "metadata": {},
   "outputs": [],
   "source": [
    "\n",
    "eg = expected_generation_monthly(gen)\n",
    "eg_asset = eg[eg[\"asset\"] == ASSET_NAME].copy()\n",
    "display(eg_asset.head(6))\n",
    "\n",
    "Path(\"results\").mkdir(exist_ok=True)\n",
    "eg_asset.to_csv(\"results/expected_generation_wind1.csv\", index=False)\n",
    "print(\"Saved results/expected_generation_wind1.csv\")\n"
   ]
  },
  {
   "cell_type": "code",
   "execution_count": null,
   "id": "b792ecca",
   "metadata": {},
   "outputs": [],
   "source": [
    "\n",
    "products = [\"RT_HUB\",\"RT_NODE\",\"DA_HUB\",\"DA_NODE\"]\n",
    "\n",
    "sims_mkt = sims.copy()\n",
    "\n",
    "prices_p75 = solve_product_prices(sims_mkt, gen, products, p_level=P_LEVEL, negative_rule=neg_rule)\n",
    "prices_p75 = prices_p75[prices_p75[\"asset\"] == ASSET_NAME].copy().reset_index(drop=True)\n",
    "display(prices_p75)\n",
    "\n",
    "prices_grid = solve_prices_for_levels(sims_mkt, gen, products, P_GRID, negative_rule=neg_rule)\n",
    "prices_grid = prices_grid[prices_grid[\"asset\"] == ASSET_NAME].copy().reset_index(drop=True)\n",
    "display(prices_grid.head(8))\n",
    "\n",
    "prices_p75.to_csv(\"results/fixed_prices_wind1_p75.csv\", index=False)\n",
    "prices_grid.to_csv(\"results/fixed_prices_wind1_pgrid.csv\", index=False)\n",
    "print(\"Saved fixed price results for Wind 1.\")\n"
   ]
  },
  {
   "cell_type": "code",
   "execution_count": null,
   "id": "687c4c82",
   "metadata": {},
   "outputs": [],
   "source": [
    "\n",
    "breakdown_all = compute_price_breakdown(\n",
    "    hourly_hub_fwd=hh,\n",
    "    basis_mean_rt=bs_rt[[\"market\",\"month\",\"hour\",\"mean\"]],\n",
    "    da_spr_mean_hub=spr_hub[[\"market\",\"month\",\"hour\",\"mean\"]],\n",
    "    da_spr_mean_node=spr_node[[\"market\",\"month\",\"hour\",\"mean\"]],\n",
    "    sims=sims,\n",
    "    gen_df=gen,\n",
    "    products=products,\n",
    "    p_level=P_LEVEL\n",
    ")\n",
    "bk = breakdown_all[breakdown_all[\"asset\"] == ASSET_NAME].copy().reset_index(drop=True)\n",
    "display(bk)\n",
    "\n",
    "bk.to_csv(\"results/price_breakdown_wind1.csv\", index=False)\n",
    "print(\"Saved results/price_breakdown_wind1.csv\")\n"
   ]
  },
  {
   "cell_type": "code",
   "execution_count": null,
   "id": "ee902019",
   "metadata": {},
   "outputs": [],
   "source": [
    "\n",
    "plt.figure()\n",
    "x = np.arange(len(products))\n",
    "vals = [float(prices_p75[prices_p75['product']==p]['fixed_price'].values[0]) for p in products]\n",
    "plt.bar(x, vals)\n",
    "plt.xticks(x, products, rotation=0)\n",
    "plt.ylabel(\"$/MWh\")\n",
    "plt.title(\"Wind 1 — Fixed Prices (P75)\")\n",
    "plt.tight_layout()\n",
    "plt.show()\n"
   ]
  },
  {
   "cell_type": "code",
   "execution_count": null,
   "id": "3a3bddec",
   "metadata": {},
   "outputs": [],
   "source": [
    "\n",
    "prod = \"DA_NODE\"\n",
    "row = bk[bk[\"product\"] == prod].iloc[0].to_dict()\n",
    "\n",
    "steps = [\"A_hub_capture\",\"B_basis\",\"C_da_rt\",\"D_neg_rule\",\"E_risk\"]\n",
    "values = [row[s] for s in steps]\n",
    "labels = [\"A: Hub\",\"B: Basis\",\"C: DA-RT\",\"D: Neg Rule\",\"E: Risk\"]\n",
    "\n",
    "plt.figure()\n",
    "plt.bar(range(len(values)), values)\n",
    "plt.xticks(range(len(values)), labels, rotation=0)\n",
    "plt.ylabel(\"$/MWh\")\n",
    "plt.title(f\"Wind 1 — Price Breakdown Waterfall ({prod})\\nSum = P* (include): {row['P_star_include']:.2f},  P* (zero): {row['P_star_zero']:.2f}\")\n",
    "plt.tight_layout()\n",
    "plt.show()\n"
   ]
  },
  {
   "cell_type": "code",
   "execution_count": null,
   "id": "006fd289",
   "metadata": {},
   "outputs": [],
   "source": [
    "\n",
    "plt.figure()\n",
    "for p in products:\n",
    "    sub = prices_grid[prices_grid[\"product\"] == p]\n",
    "    xs = sub[\"p_level\"].values\n",
    "    ys = sub[\"fixed_price\"].values\n",
    "    plt.plot(xs, ys, marker=\"o\", label=p)\n",
    "plt.xlabel(\"P-level target\")\n",
    "plt.ylabel(\"Fixed price ($/MWh)\")\n",
    "plt.title(\"Wind 1 — Fixed Price vs Risk Appetite\")\n",
    "plt.legend()\n",
    "plt.tight_layout()\n",
    "plt.show()\n"
   ]
  },
  {
   "cell_type": "code",
   "execution_count": null,
   "id": "be55a1d1",
   "metadata": {},
   "outputs": [],
   "source": [
    "\n",
    "summary = sims.groupby(\"ts\")[[\"hub_rt\",\"node_rt\"]].mean().reset_index()\n",
    "first = summary.iloc[:24*60]\n",
    "plt.figure()\n",
    "plt.plot(first[\"ts\"], first[\"hub_rt\"], label=\"Hub RT (mean)\")\n",
    "plt.plot(first[\"ts\"], first[\"node_rt\"], label=\"Node RT (mean)\")\n",
    "plt.title(\"Wind 1 Market (ERCOT) — First 60 Days RT Mean\")\n",
    "plt.xlabel(\"Time\")\n",
    "plt.ylabel(\"$/MWh\")\n",
    "plt.legend()\n",
    "plt.xticks(rotation=45)\n",
    "plt.tight_layout()\n",
    "plt.show()\n"
   ]
  },
  {
   "cell_type": "markdown",
   "id": "4e865361",
   "metadata": {},
   "source": [
    "\n",
    "## Interpretation & Recommendations (for Wind 1)\n",
    "\n",
    "**Volume & Price Risk** — Volume risk from bootstrap, price risk from shaped hub, basis, and DA–RT spread. The **E_risk** term quantifies the premium to meet the P75 risk appetite.\n",
    "\n",
    "**Negative Prices** — `D_neg_rule` quantifies the uplift to exclude negatives. A larger `D` suggests more exposure to negative hours.\n",
    "\n",
    "**Product choice** — Compare RT/DA × Hub/Node. If B (basis) is materially negative (hub>node), node-settled prices will be lower; hub-settled leaves basis risk but may price higher. DA products incorporate expected DA–RT spread.\n",
    "\n",
    "**Stay merchant?** — Contrast expected merchant distribution against P-grid fixed prices. If expected merchant < P75 fixed price and tails are concerning, recontracting at P75 looks prudent; otherwise, staying merchant may be defendable with active risk monitoring.\n"
   ]
  }
 ],
 "metadata": {
  "kernelspec": {
   "display_name": "base",
   "language": "python",
   "name": "python3"
  },
  "language_info": {
   "name": "python",
   "version": "3.11.8"
  }
 },
 "nbformat": 4,
 "nbformat_minor": 5
}
