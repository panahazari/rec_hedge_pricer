{
 "cells": [
  {
   "cell_type": "markdown",
   "id": "41679c2c",
   "metadata": {},
   "source": [
    "\n",
    "# End-to-End Valuation — From Monthly Forwards to Fixed Price (One Asset)\n",
    "\n",
    "This notebook starts from **monthly Peak/Off-Peak forwards** and produces :\n",
    "- Build **hourly hub forward curve (HPFC)** from monthly forwards\n",
    "- Add **basis** (hub↔node) and **DA–RT spread** structure from history\n",
    "- Generate **hourly simulations** for RT/DA at hub & node\n",
    "- Bootstrap **generation** from history\n",
    "- Solve **4 fixed prices** (RT/DA × Hub/Node) at **P75** and show sensitivity (P50/P90)\n",
    "- Plot **merchant vs fixed** and show a **price breakdown** waterfall\n"
   ]
  },
  {
   "cell_type": "code",
   "execution_count": 1,
   "id": "1d138ea3",
   "metadata": {},
   "outputs": [],
   "source": [
    "\n",
    "import yaml\n",
    "import numpy as np\n",
    "import pandas as pd\n",
    "from pathlib import Path\n",
    "import matplotlib.pyplot as plt\n",
    "\n",
    "from src.data.loader import load_data\n",
    "from src.features.calendar import make_calendar_index\n",
    "from src.models.shape import hub_hourly_shape\n",
    "from src.models.price import (\n",
    "    shape_monthly_to_hourly,\n",
    "    basis_stats,\n",
    "    da_spread_stats,\n",
    "    simulate_prices\n",
    ")\n",
    "from src.models.volume import bootstrap_generation\n",
    "from src.pricing.solve_price import (\n",
    "    solve_product_prices,\n",
    "    expected_generation_monthly,\n",
    "    compute_price_breakdown,\n",
    "    solve_prices_for_levels,\n",
    ")\n",
    "\n",
    "CONFIG_PATH = \"configs/project.yaml\"\n",
    "ASSET_NAME  = \"Wind_A\"\n",
    "MARKET      = \"ERCOT\"\n",
    "SEED        = 42\n",
    "SCENARIOS   = 100\n",
    "P_LEVEL     = 0.75\n",
    "P_GRID      = [0.50, 0.75, 0.90]\n",
    "\n",
    "cfg = yaml.safe_load(open(CONFIG_PATH, \"r\"))\n",
    "start_year = cfg[\"start_year\"]\n",
    "end_year   = cfg[\"end_year\"]\n",
    "neg_rule   = cfg.get(\"negative_price_rule\", \"include\")\n"
   ]
  },
  {
   "cell_type": "code",
   "execution_count": 2,
   "id": "66a27869",
   "metadata": {},
   "outputs": [
    {
     "name": "stderr",
     "output_type": "stream",
     "text": [
      "c:\\Users\\mpanah01\\Documents\\GitHub\\rec_hedge_pricer\\src\\data\\loader.py:28: UserWarning: Could not infer format, so each element will be parsed individually, falling back to `dateutil`. To ensure parsing is consistent and as-expected, please specify a format.\n",
      "  df['date'] = pd.to_datetime(df['date'])\n",
      "c:\\Users\\mpanah01\\Documents\\GitHub\\rec_hedge_pricer\\src\\data\\loader.py:28: UserWarning: Could not infer format, so each element will be parsed individually, falling back to `dateutil`. To ensure parsing is consistent and as-expected, please specify a format.\n",
      "  df['date'] = pd.to_datetime(df['date'])\n"
     ]
    },
    {
     "name": "stdout",
     "output_type": "stream",
     "text": [
      "Historical rows (market): 26304\n",
      "Historical rows (asset): 26304\n"
     ]
    },
    {
     "name": "stderr",
     "output_type": "stream",
     "text": [
      "c:\\Users\\mpanah01\\Documents\\GitHub\\rec_hedge_pricer\\src\\data\\loader.py:28: UserWarning: Could not infer format, so each element will be parsed individually, falling back to `dateutil`. To ensure parsing is consistent and as-expected, please specify a format.\n",
      "  df['date'] = pd.to_datetime(df['date'])\n",
      "c:\\Users\\mpanah01\\Documents\\GitHub\\rec_hedge_pricer\\src\\data\\loader.py:93: UserWarning: Could not infer format, so each element will be parsed individually, falling back to `dateutil`. To ensure parsing is consistent and as-expected, please specify a format.\n",
      "  parsed = parsed.fillna(pd.to_datetime(s, errors=\"coerce\"))\n",
      "c:\\Users\\mpanah01\\Documents\\GitHub\\rec_hedge_pricer\\src\\data\\loader.py:93: UserWarning: Could not infer format, so each element will be parsed individually, falling back to `dateutil`. To ensure parsing is consistent and as-expected, please specify a format.\n",
      "  parsed = parsed.fillna(pd.to_datetime(s, errors=\"coerce\"))\n",
      "c:\\Users\\mpanah01\\Documents\\GitHub\\rec_hedge_pricer\\src\\data\\loader.py:93: UserWarning: Could not infer format, so each element will be parsed individually, falling back to `dateutil`. To ensure parsing is consistent and as-expected, please specify a format.\n",
      "  parsed = parsed.fillna(pd.to_datetime(s, errors=\"coerce\"))\n"
     ]
    },
    {
     "data": {
      "application/vnd.microsoft.datawrangler.viewer.v0+json": {
       "columns": [
        {
         "name": "index",
         "rawType": "int64",
         "type": "integer"
        },
        {
         "name": "date",
         "rawType": "datetime64[ns]",
         "type": "datetime"
        },
        {
         "name": "he",
         "rawType": "int32",
         "type": "integer"
        },
        {
         "name": "peak_flag",
         "rawType": "object",
         "type": "string"
        },
        {
         "name": "gen_mwh",
         "rawType": "float64",
         "type": "float"
        },
        {
         "name": "rt_node",
         "rawType": "float64",
         "type": "float"
        },
        {
         "name": "rt_hub",
         "rawType": "float64",
         "type": "float"
        },
        {
         "name": "da_node",
         "rawType": "float64",
         "type": "float"
        },
        {
         "name": "da_hub",
         "rawType": "float64",
         "type": "float"
        },
        {
         "name": "asset",
         "rawType": "object",
         "type": "string"
        },
        {
         "name": "market",
         "rawType": "object",
         "type": "string"
        }
       ],
       "ref": "26693a44-5a1e-43fd-b9d7-0b4e5cf36e22",
       "rows": [
        [
         "0",
         "2022-01-01 00:00:00",
         "1",
         "OP",
         "36.8",
         "0.74",
         "56.43",
         "5.2",
         "30.17",
         "Wind_A",
         "ERCOT"
        ],
        [
         "1",
         "2022-01-01 00:00:00",
         "2",
         "OP",
         "17.0",
         "3.78",
         "29.24",
         "1.54",
         "22.08",
         "Wind_A",
         "ERCOT"
        ],
        [
         "2",
         "2022-01-01 00:00:00",
         "3",
         "OP",
         "14.6",
         "4.0",
         "22.15",
         "1.83",
         "19.97",
         "Wind_A",
         "ERCOT"
        ]
       ],
       "shape": {
        "columns": 10,
        "rows": 3
       }
      },
      "text/html": [
       "<div>\n",
       "<style scoped>\n",
       "    .dataframe tbody tr th:only-of-type {\n",
       "        vertical-align: middle;\n",
       "    }\n",
       "\n",
       "    .dataframe tbody tr th {\n",
       "        vertical-align: top;\n",
       "    }\n",
       "\n",
       "    .dataframe thead th {\n",
       "        text-align: right;\n",
       "    }\n",
       "</style>\n",
       "<table border=\"1\" class=\"dataframe\">\n",
       "  <thead>\n",
       "    <tr style=\"text-align: right;\">\n",
       "      <th></th>\n",
       "      <th>date</th>\n",
       "      <th>he</th>\n",
       "      <th>peak_flag</th>\n",
       "      <th>gen_mwh</th>\n",
       "      <th>rt_node</th>\n",
       "      <th>rt_hub</th>\n",
       "      <th>da_node</th>\n",
       "      <th>da_hub</th>\n",
       "      <th>asset</th>\n",
       "      <th>market</th>\n",
       "    </tr>\n",
       "  </thead>\n",
       "  <tbody>\n",
       "    <tr>\n",
       "      <th>0</th>\n",
       "      <td>2022-01-01</td>\n",
       "      <td>1</td>\n",
       "      <td>OP</td>\n",
       "      <td>36.8</td>\n",
       "      <td>0.74</td>\n",
       "      <td>56.43</td>\n",
       "      <td>5.20</td>\n",
       "      <td>30.17</td>\n",
       "      <td>Wind_A</td>\n",
       "      <td>ERCOT</td>\n",
       "    </tr>\n",
       "    <tr>\n",
       "      <th>1</th>\n",
       "      <td>2022-01-01</td>\n",
       "      <td>2</td>\n",
       "      <td>OP</td>\n",
       "      <td>17.0</td>\n",
       "      <td>3.78</td>\n",
       "      <td>29.24</td>\n",
       "      <td>1.54</td>\n",
       "      <td>22.08</td>\n",
       "      <td>Wind_A</td>\n",
       "      <td>ERCOT</td>\n",
       "    </tr>\n",
       "    <tr>\n",
       "      <th>2</th>\n",
       "      <td>2022-01-01</td>\n",
       "      <td>3</td>\n",
       "      <td>OP</td>\n",
       "      <td>14.6</td>\n",
       "      <td>4.00</td>\n",
       "      <td>22.15</td>\n",
       "      <td>1.83</td>\n",
       "      <td>19.97</td>\n",
       "      <td>Wind_A</td>\n",
       "      <td>ERCOT</td>\n",
       "    </tr>\n",
       "  </tbody>\n",
       "</table>\n",
       "</div>"
      ],
      "text/plain": [
       "        date  he peak_flag  gen_mwh  rt_node  rt_hub  da_node  da_hub   asset  \\\n",
       "0 2022-01-01   1        OP     36.8     0.74   56.43     5.20   30.17  Wind_A   \n",
       "1 2022-01-01   2        OP     17.0     3.78   29.24     1.54   22.08  Wind_A   \n",
       "2 2022-01-01   3        OP     14.6     4.00   22.15     1.83   19.97  Wind_A   \n",
       "\n",
       "  market  \n",
       "0  ERCOT  \n",
       "1  ERCOT  \n",
       "2  ERCOT  "
      ]
     },
     "metadata": {},
     "output_type": "display_data"
    }
   ],
   "source": [
    "\n",
    "hist_all, fwd_all = load_data(cfg)\n",
    "hist = hist_all[hist_all['market'] == MARKET].copy()\n",
    "hist_asset = hist_all[(hist_all['market']==MARKET) & (hist_all['asset']==ASSET_NAME)].copy()\n",
    "\n",
    "print(\"Historical rows (market):\", len(hist))\n",
    "print(\"Historical rows (asset):\", len(hist_asset))\n",
    "display(hist_asset.head(3))\n",
    "\n",
    "for col in ['gen_mwh','rt_hub','rt_node','da_hub','da_node']:\n",
    "    hist[col] = pd.to_numeric(hist[col], errors='coerce')\n",
    "    hist_asset[col] = pd.to_numeric(hist_asset[col], errors='coerce')\n"
   ]
  },
  {
   "cell_type": "code",
   "execution_count": 3,
   "id": "3d213b76",
   "metadata": {},
   "outputs": [
    {
     "data": {
      "application/vnd.microsoft.datawrangler.viewer.v0+json": {
       "columns": [
        {
         "name": "index",
         "rawType": "int64",
         "type": "integer"
        },
        {
         "name": "ts",
         "rawType": "datetime64[ns]",
         "type": "datetime"
        },
        {
         "name": "date",
         "rawType": "object",
         "type": "unknown"
        },
        {
         "name": "he",
         "rawType": "int32",
         "type": "integer"
        },
        {
         "name": "month",
         "rawType": "datetime64[ns]",
         "type": "datetime"
        },
        {
         "name": "weekday",
         "rawType": "int32",
         "type": "integer"
        }
       ],
       "ref": "ea197548-bca4-4f66-bec7-1030a91a225f",
       "rows": [
        [
         "0",
         "2026-01-01 00:00:00",
         "2026-01-01",
         "1",
         "2026-01-01 00:00:00",
         "3"
        ],
        [
         "1",
         "2026-01-01 01:00:00",
         "2026-01-01",
         "2",
         "2026-01-01 00:00:00",
         "3"
        ],
        [
         "2",
         "2026-01-01 02:00:00",
         "2026-01-01",
         "3",
         "2026-01-01 00:00:00",
         "3"
        ],
        [
         "3",
         "2026-01-01 03:00:00",
         "2026-01-01",
         "4",
         "2026-01-01 00:00:00",
         "3"
        ],
        [
         "4",
         "2026-01-01 04:00:00",
         "2026-01-01",
         "5",
         "2026-01-01 00:00:00",
         "3"
        ]
       ],
       "shape": {
        "columns": 5,
        "rows": 5
       }
      },
      "text/html": [
       "<div>\n",
       "<style scoped>\n",
       "    .dataframe tbody tr th:only-of-type {\n",
       "        vertical-align: middle;\n",
       "    }\n",
       "\n",
       "    .dataframe tbody tr th {\n",
       "        vertical-align: top;\n",
       "    }\n",
       "\n",
       "    .dataframe thead th {\n",
       "        text-align: right;\n",
       "    }\n",
       "</style>\n",
       "<table border=\"1\" class=\"dataframe\">\n",
       "  <thead>\n",
       "    <tr style=\"text-align: right;\">\n",
       "      <th></th>\n",
       "      <th>ts</th>\n",
       "      <th>date</th>\n",
       "      <th>he</th>\n",
       "      <th>month</th>\n",
       "      <th>weekday</th>\n",
       "    </tr>\n",
       "  </thead>\n",
       "  <tbody>\n",
       "    <tr>\n",
       "      <th>0</th>\n",
       "      <td>2026-01-01 00:00:00</td>\n",
       "      <td>2026-01-01</td>\n",
       "      <td>1</td>\n",
       "      <td>2026-01-01</td>\n",
       "      <td>3</td>\n",
       "    </tr>\n",
       "    <tr>\n",
       "      <th>1</th>\n",
       "      <td>2026-01-01 01:00:00</td>\n",
       "      <td>2026-01-01</td>\n",
       "      <td>2</td>\n",
       "      <td>2026-01-01</td>\n",
       "      <td>3</td>\n",
       "    </tr>\n",
       "    <tr>\n",
       "      <th>2</th>\n",
       "      <td>2026-01-01 02:00:00</td>\n",
       "      <td>2026-01-01</td>\n",
       "      <td>3</td>\n",
       "      <td>2026-01-01</td>\n",
       "      <td>3</td>\n",
       "    </tr>\n",
       "    <tr>\n",
       "      <th>3</th>\n",
       "      <td>2026-01-01 03:00:00</td>\n",
       "      <td>2026-01-01</td>\n",
       "      <td>4</td>\n",
       "      <td>2026-01-01</td>\n",
       "      <td>3</td>\n",
       "    </tr>\n",
       "    <tr>\n",
       "      <th>4</th>\n",
       "      <td>2026-01-01 04:00:00</td>\n",
       "      <td>2026-01-01</td>\n",
       "      <td>5</td>\n",
       "      <td>2026-01-01</td>\n",
       "      <td>3</td>\n",
       "    </tr>\n",
       "  </tbody>\n",
       "</table>\n",
       "</div>"
      ],
      "text/plain": [
       "                   ts        date  he      month  weekday\n",
       "0 2026-01-01 00:00:00  2026-01-01   1 2026-01-01        3\n",
       "1 2026-01-01 01:00:00  2026-01-01   2 2026-01-01        3\n",
       "2 2026-01-01 02:00:00  2026-01-01   3 2026-01-01        3\n",
       "3 2026-01-01 03:00:00  2026-01-01   4 2026-01-01        3\n",
       "4 2026-01-01 04:00:00  2026-01-01   5 2026-01-01        3"
      ]
     },
     "execution_count": 3,
     "metadata": {},
     "output_type": "execute_result"
    }
   ],
   "source": [
    "\n",
    "cal = make_calendar_index(start_year, end_year)\n",
    "cal.head()\n"
   ]
  },
  {
   "cell_type": "markdown",
   "id": "2109d238",
   "metadata": {},
   "source": [
    "### Hourly Shape, Basis, and DA–RT Spreads \n",
    "\n",
    "We extract three building blocks from historical data `hist` to drive the forward-consistent hourly curve and simulations.\n",
    "\n",
    "#### 1) Hourly hub shape — `hub_hourly_shape(hist)`\n",
    "For month-of-year $m_o \\in \\{1,\\dots,12\\}$ and hour-ending $h \\in \\{1,\\dots,24\\}$, define the **hourly shape**:\n",
    "$$\n",
    "S_{m_o,h}\n",
    "= \\frac{\\mathbb{E}\\!\\left[\\text{RT}^{\\text{hub}}_{\\tau}\\mid \\text{mon}(\\tau)=m_o,\\ \\text{HE}(\\tau)=h\\right]}\n",
    "        {\\mathbb{E}\\!\\left[\\text{RT}^{\\text{hub}}_{\\tau}\\mid \\text{mon}(\\tau)=m_o\\right]}.\n",
    "$$\n",
    "- Numerator: average historical **hub RT** at $(m_o,h)$  \n",
    "- Denominator: historical monthly average for the same $m_o$  \n",
    "- Used to **shape monthly Peak/Off-Peak forwards into hourly** while preserving bucket means.\n",
    "\n",
    "**Typical columns:** `market, mon, hour, shape`.\n",
    "\n",
    "\n",
    "#### 2) Real-time hub↔node basis — `basis_stats(hist, price_col_hub='rt_hub', price_col_node='rt_node')`\n",
    "Define the **RT basis** at hour $\\tau$:\n",
    "$$\n",
    "\\text{Basis}^{\\text{RT}}_{\\tau} = \\text{RT}^{\\text{hub}}_{\\tau} - \\text{RT}^{\\text{node}}_{\\tau}.\n",
    "$$\n",
    "Aggregate by $(\\text{market}, m_o, h)$:\n",
    "$$\n",
    "B_{m_o,h}=\\mathbb{E}\\!\\left[\\text{Basis}^{\\text{RT}}_{\\tau}\\mid \\text{mon}(\\tau)=m_o,\\ \\text{HE}(\\tau)=h\\right],\\qquad\n",
    "\\sigma^{B}_{m_o,h}=\\operatorname{Std}\\!\\left[\\text{Basis}^{\\text{RT}}_{\\tau}\\mid \\cdot\\right].\n",
    "$$\n",
    "- $B_{m_o,h}$: expected hub→node conversion in RT for that seasonal hour  \n",
    "- $\\sigma^{B}_{m_o,h}$: basis volatility (used to simulate node prices)\n",
    "\n",
    "**Typical columns:** `market, mon, hour, mean, std`.\n",
    "\n",
    "\n",
    "#### 3) Day-ahead minus Real-time spreads — `da_spread_stats(hist, level='hub'|'node')`\n",
    "For **hub**:\n",
    "$$\n",
    "\\text{Spr}^{\\text{hub}}_{\\tau}=\\text{DA}^{\\text{hub}}_{\\tau}-\\text{RT}^{\\text{hub}}_{\\tau}.\n",
    "$$\n",
    "For **node**:\n",
    "$$\n",
    "\\text{Spr}^{\\text{node}}_{\\tau}=\\text{DA}^{\\text{node}}_{\\tau}-\\text{RT}^{\\text{node}}_{\\tau}.\n",
    "$$\n",
    "Aggregate by $(\\text{market}, m_o, h)$:\n",
    "$$\n",
    "S^{\\text{hub}}_{m_o,h}=\\mathbb{E}\\!\\left[\\text{Spr}^{\\text{hub}}_{\\tau}\\mid \\cdot\\right],\\quad\n",
    "\\sigma^{\\text{hub}}_{m_o,h}=\\operatorname{Std}\\!\\left[\\text{Spr}^{\\text{hub}}_{\\tau}\\mid \\cdot\\right],\n",
    "$$\n",
    "$$\n",
    "S^{\\text{node}}_{m_o,h}=\\mathbb{E}\\!\\left[\\text{Spr}^{\\text{node}}_{\\tau}\\mid \\cdot\\right],\\quad\n",
    "\\sigma^{\\text{node}}_{m_o,h}=\\operatorname{Std}\\!\\left[\\text{Spr}^{\\text{node}}_{\\tau}\\mid \\cdot\\right].\n",
    "$$\n",
    "- Expected DA uplift/discount vs RT and its volatility at hub/node by seasonal hour\n",
    "\n",
    "**Typical columns:** `market, mon, hour, mean, std`.\n",
    "\n",
    "\n"
   ]
  },
  {
   "cell_type": "code",
   "execution_count": 4,
   "id": "ae646efc",
   "metadata": {},
   "outputs": [
    {
     "name": "stdout",
     "output_type": "stream",
     "text": [
      "shape rows: 288  | basis rows: 288  | spread rows: 288 288\n"
     ]
    },
    {
     "data": {
      "application/vnd.microsoft.datawrangler.viewer.v0+json": {
       "columns": [
        {
         "name": "index",
         "rawType": "int64",
         "type": "integer"
        },
        {
         "name": "market",
         "rawType": "object",
         "type": "string"
        },
        {
         "name": "mon",
         "rawType": "int32",
         "type": "integer"
        },
        {
         "name": "hour",
         "rawType": "int32",
         "type": "integer"
        },
        {
         "name": "mean",
         "rawType": "float64",
         "type": "float"
        },
        {
         "name": "std",
         "rawType": "float64",
         "type": "float"
        }
       ],
       "ref": "42936449-1a29-4b38-86e5-6a6f78af6b81",
       "rows": [
        [
         "0",
         "ERCOT",
         "1",
         "1",
         "4.40494623655914",
         "12.626344321338268"
        ],
        [
         "1",
         "ERCOT",
         "1",
         "2",
         "4.476666666666667",
         "14.150294461011521"
        ],
        [
         "2",
         "ERCOT",
         "1",
         "3",
         "4.376021505376344",
         "14.21214882475285"
        ]
       ],
       "shape": {
        "columns": 5,
        "rows": 3
       }
      },
      "text/html": [
       "<div>\n",
       "<style scoped>\n",
       "    .dataframe tbody tr th:only-of-type {\n",
       "        vertical-align: middle;\n",
       "    }\n",
       "\n",
       "    .dataframe tbody tr th {\n",
       "        vertical-align: top;\n",
       "    }\n",
       "\n",
       "    .dataframe thead th {\n",
       "        text-align: right;\n",
       "    }\n",
       "</style>\n",
       "<table border=\"1\" class=\"dataframe\">\n",
       "  <thead>\n",
       "    <tr style=\"text-align: right;\">\n",
       "      <th></th>\n",
       "      <th>market</th>\n",
       "      <th>mon</th>\n",
       "      <th>hour</th>\n",
       "      <th>mean</th>\n",
       "      <th>std</th>\n",
       "    </tr>\n",
       "  </thead>\n",
       "  <tbody>\n",
       "    <tr>\n",
       "      <th>0</th>\n",
       "      <td>ERCOT</td>\n",
       "      <td>1</td>\n",
       "      <td>1</td>\n",
       "      <td>4.404946</td>\n",
       "      <td>12.626344</td>\n",
       "    </tr>\n",
       "    <tr>\n",
       "      <th>1</th>\n",
       "      <td>ERCOT</td>\n",
       "      <td>1</td>\n",
       "      <td>2</td>\n",
       "      <td>4.476667</td>\n",
       "      <td>14.150294</td>\n",
       "    </tr>\n",
       "    <tr>\n",
       "      <th>2</th>\n",
       "      <td>ERCOT</td>\n",
       "      <td>1</td>\n",
       "      <td>3</td>\n",
       "      <td>4.376022</td>\n",
       "      <td>14.212149</td>\n",
       "    </tr>\n",
       "  </tbody>\n",
       "</table>\n",
       "</div>"
      ],
      "text/plain": [
       "  market  mon  hour      mean        std\n",
       "0  ERCOT    1     1  4.404946  12.626344\n",
       "1  ERCOT    1     2  4.476667  14.150294\n",
       "2  ERCOT    1     3  4.376022  14.212149"
      ]
     },
     "metadata": {},
     "output_type": "display_data"
    }
   ],
   "source": [
    "\n",
    "shape_tbl = hub_hourly_shape(hist)\n",
    "bs_rt   = basis_stats(hist, price_col_hub='rt_hub', price_col_node='rt_node')\n",
    "spr_hub = da_spread_stats(hist, level='hub')\n",
    "spr_node= da_spread_stats(hist, level='node')\n",
    "\n",
    "print(\"shape rows:\", len(shape_tbl), \" | basis rows:\", len(bs_rt), \" | spread rows:\", len(spr_hub), len(spr_node))\n",
    "display(bs_rt.head(3))\n"
   ]
  },
  {
   "cell_type": "code",
   "execution_count": 5,
   "id": "16e8e65f",
   "metadata": {},
   "outputs": [
    {
     "name": "stdout",
     "output_type": "stream",
     "text": [
      "Hourly hub forward rows (market): 43824\n"
     ]
    },
    {
     "data": {
      "application/vnd.microsoft.datawrangler.viewer.v0+json": {
       "columns": [
        {
         "name": "index",
         "rawType": "int64",
         "type": "integer"
        },
        {
         "name": "ts",
         "rawType": "datetime64[ns]",
         "type": "datetime"
        },
        {
         "name": "market",
         "rawType": "object",
         "type": "string"
        },
        {
         "name": "hub_forward_hourly",
         "rawType": "float64",
         "type": "float"
        }
       ],
       "ref": "69bd1fb4-db48-4e7e-9a59-79a9ca897a33",
       "rows": [
        [
         "0",
         "2026-01-01 00:00:00",
         "ERCOT",
         "50.675116964866874"
        ],
        [
         "1",
         "2026-01-01 01:00:00",
         "ERCOT",
         "46.473503316125665"
        ],
        [
         "2",
         "2026-01-01 02:00:00",
         "ERCOT",
         "47.82040896442764"
        ],
        [
         "3",
         "2026-01-01 03:00:00",
         "ERCOT",
         "51.18005867151888"
        ],
        [
         "4",
         "2026-01-01 04:00:00",
         "ERCOT",
         "54.314692648891636"
        ]
       ],
       "shape": {
        "columns": 3,
        "rows": 5
       }
      },
      "text/html": [
       "<div>\n",
       "<style scoped>\n",
       "    .dataframe tbody tr th:only-of-type {\n",
       "        vertical-align: middle;\n",
       "    }\n",
       "\n",
       "    .dataframe tbody tr th {\n",
       "        vertical-align: top;\n",
       "    }\n",
       "\n",
       "    .dataframe thead th {\n",
       "        text-align: right;\n",
       "    }\n",
       "</style>\n",
       "<table border=\"1\" class=\"dataframe\">\n",
       "  <thead>\n",
       "    <tr style=\"text-align: right;\">\n",
       "      <th></th>\n",
       "      <th>ts</th>\n",
       "      <th>market</th>\n",
       "      <th>hub_forward_hourly</th>\n",
       "    </tr>\n",
       "  </thead>\n",
       "  <tbody>\n",
       "    <tr>\n",
       "      <th>0</th>\n",
       "      <td>2026-01-01 00:00:00</td>\n",
       "      <td>ERCOT</td>\n",
       "      <td>50.675117</td>\n",
       "    </tr>\n",
       "    <tr>\n",
       "      <th>1</th>\n",
       "      <td>2026-01-01 01:00:00</td>\n",
       "      <td>ERCOT</td>\n",
       "      <td>46.473503</td>\n",
       "    </tr>\n",
       "    <tr>\n",
       "      <th>2</th>\n",
       "      <td>2026-01-01 02:00:00</td>\n",
       "      <td>ERCOT</td>\n",
       "      <td>47.820409</td>\n",
       "    </tr>\n",
       "    <tr>\n",
       "      <th>3</th>\n",
       "      <td>2026-01-01 03:00:00</td>\n",
       "      <td>ERCOT</td>\n",
       "      <td>51.180059</td>\n",
       "    </tr>\n",
       "    <tr>\n",
       "      <th>4</th>\n",
       "      <td>2026-01-01 04:00:00</td>\n",
       "      <td>ERCOT</td>\n",
       "      <td>54.314693</td>\n",
       "    </tr>\n",
       "  </tbody>\n",
       "</table>\n",
       "</div>"
      ],
      "text/plain": [
       "                   ts market  hub_forward_hourly\n",
       "0 2026-01-01 00:00:00  ERCOT           50.675117\n",
       "1 2026-01-01 01:00:00  ERCOT           46.473503\n",
       "2 2026-01-01 02:00:00  ERCOT           47.820409\n",
       "3 2026-01-01 03:00:00  ERCOT           51.180059\n",
       "4 2026-01-01 04:00:00  ERCOT           54.314693"
      ]
     },
     "metadata": {},
     "output_type": "display_data"
    },
    {
     "data": {
      "image/png": "[encoded data removed]",
      "text/plain": [
       "<Figure size 640x480 with 1 Axes>"
      ]
     },
     "metadata": {},
     "output_type": "display_data"
    }
   ],
   "source": [
    "\n",
    "hh_all = shape_monthly_to_hourly(fwd_all, shape_tbl, cal)\n",
    "hh = hh_all[hh_all['market']==MARKET].copy().sort_values('ts').reset_index(drop=True)\n",
    "\n",
    "print(\"Hourly hub forward rows (market):\", len(hh))\n",
    "display(hh.head(5))\n",
    "\n",
    "import numpy as np\n",
    "hh_plot = hh.copy()\n",
    "hh_plot['ts'] = pd.to_datetime(hh_plot['ts'])\n",
    "t0 = hh_plot['ts'].min()\n",
    "t1 = t0 + pd.Timedelta(days=3)\n",
    "hh_3d = hh_plot[(hh_plot['ts']>=t0) & (hh_plot['ts']<t1)].copy().sort_values('ts')\n",
    "he = hh_3d['ts'].dt.hour + 1\n",
    "is_peak = (hh_3d['ts'].dt.weekday <= 4) & (he.between(7,22))\n",
    "\n",
    "m0 = pd.Timestamp(hh_3d['ts'].iloc[0]).to_period('M').to_timestamp()\n",
    "fwd_row = fwd_all[(fwd_all['market']==MARKET) & (fwd_all['month']==m0)]\n",
    "if fwd_row.empty:\n",
    "    print(\"WARNING: No fwd row for\", MARKET, m0)\n",
    "peak_val, off_val = float(fwd_row['peak'].iloc[0]), float(fwd_row['offpeak'].iloc[0])\n",
    "fwd_bucket_series = np.where(is_peak, peak_val, off_val)\n",
    "\n",
    "hist_mkt = hist.sort_values('date')\n",
    "hist_72 = hist_mkt[['date','rt_hub']].iloc[:72].copy()\n",
    "hist_72['ts'] = hh_3d['ts'].values\n",
    "\n",
    "plt.figure()\n",
    "plt.plot(hh_3d['ts'], hh_3d['hub_forward_hourly'], label='Hourly Hub Forward (shaped)')\n",
    "plt.plot(hh_3d['ts'], fwd_bucket_series, label='Monthly Forward (Peak/Off-Peak)')\n",
    "plt.plot(hist_72['ts'], hist_72['rt_hub'], label='Historical RT Hub (first 72 hrs, aligned)')\n",
    "plt.title(f'{MARKET} — First 3 Days: Hourly Hub Forward vs Monthly vs History')\n",
    "plt.xlabel('Time'); plt.ylabel('$/MWh'); plt.xticks(rotation=45); plt.legend(); plt.tight_layout(); plt.show()\n"
   ]
  },
  {
   "cell_type": "markdown",
   "id": "c2250e62",
   "metadata": {},
   "source": [
    "### Hourly Price Simulation and RT Mean Plot \n",
    "\n",
    "We generate **hourly price scenarios** for the valuation horizon using the forward-shaped hub curve and historical basis/DA–RT statistics.\n",
    "\n",
    "#### 1) Simulate RT/DA at hub and node — `simulate_prices(...)`\n",
    "\n",
    "For each hour $t$ (with month-of-year $m_o$ and hour-ending $h$) and scenario $s$:\n",
    "\n",
    "- **Hub RT** is anchored to the hourly hub forward (HPFC):\n",
    "  $$\n",
    "  \\text{RT}^{\\text{hub}}_{t,s} \\;=\\; H_t\n",
    "  $$\n",
    "\n",
    "- **RT basis** (hub→node) is stochastic with seasonal-hour mean/vol:\n",
    "  $$\n",
    "  \\text{Basis}^{\\text{RT}}_{t,s}\n",
    "  \\;=\\; B_{m_o,h} \\;+\\; \\sigma^B_{m_o,h}\\,\\epsilon^B_{t,s},\n",
    "  \\qquad \\epsilon^B_{t,s}\\sim \\mathcal{N}(0,1)\n",
    "  $$\n",
    "\n",
    "- **Node RT** subtracts that basis from hub RT:\n",
    "  $$\n",
    "  \\text{RT}^{\\text{node}}_{t,s} \\;=\\; \\text{RT}^{\\text{hub}}_{t,s} \\;-\\; \\text{Basis}^{\\text{RT}}_{t,s}\n",
    "  $$\n",
    "\n",
    "- **DA–RT spreads** at hub/node are also stochastic with seasonal-hour mean/vol:\n",
    "  $$\n",
    "  \\text{Spr}^{\\text{hub}}_{t,s}\n",
    "  \\;=\\; S^{\\text{hub}}_{m_o,h} \\;+\\; \\sigma^{\\text{hub}}_{m_o,h}\\,\\epsilon^{\\text{hub}}_{t,s},\n",
    "  \\qquad \\epsilon^{\\text{hub}}_{t,s}\\sim \\mathcal{N}(0,1)\n",
    "  $$\n",
    "  $$\n",
    "  \\text{Spr}^{\\text{node}}_{t,s}\n",
    "  \\;=\\; S^{\\text{node}}_{m_o,h} \\;+\\; \\sigma^{\\text{node}}_{m_o,h}\\,\\epsilon^{\\text{node}}_{t,s},\n",
    "  \\qquad \\epsilon^{\\text{node}}_{t,s}\\sim \\mathcal{N}(0,1)\n",
    "  $$\n",
    "\n",
    "- **DA prices** are RT plus the DA–RT spread:\n",
    "  $$\n",
    "  \\text{DA}^{\\text{hub}}_{t,s} \\;=\\; \\text{RT}^{\\text{hub}}_{t,s} \\;+\\; \\text{Spr}^{\\text{hub}}_{t,s},\n",
    "  \\qquad\n",
    "  \\text{DA}^{\\text{node}}_{t,s} \\;=\\; \\text{RT}^{\\text{node}}_{t,s} \\;+\\; \\text{Spr}^{\\text{node}}_{t,s}\n",
    "  $$\n",
    "\n",
    "Inputs:\n",
    "- `hh` provides $H_t$ (hourly hub forward).\n",
    "- `bs_rt` provides $B_{m_o,h}, \\sigma^B_{m_o,h}$.\n",
    "- `spr_hub`, `spr_node` provide $S^{\\text{hub}}_{m_o,h}, \\sigma^{\\text{hub}}_{m_o,h}$ and $S^{\\text{node}}_{m_o,h}, \\sigma^{\\text{node}}_{m_o,h}$.\n",
    "\n",
    "The result `sims_all` contains hourly paths for `hub_rt`, `node_rt`, `hub_da`, `node_da` for all scenarios.\n",
    "\n",
    "```python\n",
    "sims_all = simulate_prices(hh, bs_rt, spr_hub, spr_node, n_scenarios=SCENARIOS, seed=SEED)\n",
    "sims = sims_all[sims_all['market']==MARKET].copy()\n",
    "display(sims.head(3))\n"
   ]
  },
  {
   "cell_type": "code",
   "execution_count": 6,
   "id": "2db258a2",
   "metadata": {},
   "outputs": [
    {
     "data": {
      "application/vnd.microsoft.datawrangler.viewer.v0+json": {
       "columns": [
        {
         "name": "index",
         "rawType": "int64",
         "type": "integer"
        },
        {
         "name": "s",
         "rawType": "int64",
         "type": "integer"
        },
        {
         "name": "ts",
         "rawType": "datetime64[ns]",
         "type": "datetime"
        },
        {
         "name": "market",
         "rawType": "object",
         "type": "string"
        },
        {
         "name": "hub_rt",
         "rawType": "float64",
         "type": "float"
        },
        {
         "name": "node_rt",
         "rawType": "float64",
         "type": "float"
        },
        {
         "name": "hub_da",
         "rawType": "float64",
         "type": "float"
        },
        {
         "name": "node_da",
         "rawType": "float64",
         "type": "float"
        }
       ],
       "ref": "a5857c8c-7f6b-49d8-8226-bc64efc5cefa",
       "rows": [
        [
         "0",
         "0",
         "2026-01-01 00:00:00",
         "ERCOT",
         "50.675116964866874",
         "42.422707958735586",
         "17.40052327158056",
         "40.64207707161825"
        ],
        [
         "1",
         "0",
         "2026-01-01 01:00:00",
         "ERCOT",
         "46.473503316125665",
         "56.7129179875339",
         "32.49264058371529",
         "51.21645687115594"
        ],
        [
         "2",
         "0",
         "2026-01-01 02:00:00",
         "ERCOT",
         "47.82040896442764",
         "32.77886337853619",
         "64.24472169293773",
         "29.603394461437475"
        ]
       ],
       "shape": {
        "columns": 7,
        "rows": 3
       }
      },
      "text/html": [
       "<div>\n",
       "<style scoped>\n",
       "    .dataframe tbody tr th:only-of-type {\n",
       "        vertical-align: middle;\n",
       "    }\n",
       "\n",
       "    .dataframe tbody tr th {\n",
       "        vertical-align: top;\n",
       "    }\n",
       "\n",
       "    .dataframe thead th {\n",
       "        text-align: right;\n",
       "    }\n",
       "</style>\n",
       "<table border=\"1\" class=\"dataframe\">\n",
       "  <thead>\n",
       "    <tr style=\"text-align: right;\">\n",
       "      <th></th>\n",
       "      <th>s</th>\n",
       "      <th>ts</th>\n",
       "      <th>market</th>\n",
       "      <th>hub_rt</th>\n",
       "      <th>node_rt</th>\n",
       "      <th>hub_da</th>\n",
       "      <th>node_da</th>\n",
       "    </tr>\n",
       "  </thead>\n",
       "  <tbody>\n",
       "    <tr>\n",
       "      <th>0</th>\n",
       "      <td>0</td>\n",
       "      <td>2026-01-01 00:00:00</td>\n",
       "      <td>ERCOT</td>\n",
       "      <td>50.675117</td>\n",
       "      <td>42.422708</td>\n",
       "      <td>17.400523</td>\n",
       "      <td>40.642077</td>\n",
       "    </tr>\n",
       "    <tr>\n",
       "      <th>1</th>\n",
       "      <td>0</td>\n",
       "      <td>2026-01-01 01:00:00</td>\n",
       "      <td>ERCOT</td>\n",
       "      <td>46.473503</td>\n",
       "      <td>56.712918</td>\n",
       "      <td>32.492641</td>\n",
       "      <td>51.216457</td>\n",
       "    </tr>\n",
       "    <tr>\n",
       "      <th>2</th>\n",
       "      <td>0</td>\n",
       "      <td>2026-01-01 02:00:00</td>\n",
       "      <td>ERCOT</td>\n",
       "      <td>47.820409</td>\n",
       "      <td>32.778863</td>\n",
       "      <td>64.244722</td>\n",
       "      <td>29.603394</td>\n",
       "    </tr>\n",
       "  </tbody>\n",
       "</table>\n",
       "</div>"
      ],
      "text/plain": [
       "   s                  ts market     hub_rt    node_rt     hub_da    node_da\n",
       "0  0 2026-01-01 00:00:00  ERCOT  50.675117  42.422708  17.400523  40.642077\n",
       "1  0 2026-01-01 01:00:00  ERCOT  46.473503  56.712918  32.492641  51.216457\n",
       "2  0 2026-01-01 02:00:00  ERCOT  47.820409  32.778863  64.244722  29.603394"
      ]
     },
     "metadata": {},
     "output_type": "display_data"
    },
    {
     "data": {
      "image/png": "[encoded data removed]",
      "text/plain": [
       "<Figure size 640x480 with 1 Axes>"
      ]
     },
     "metadata": {},
     "output_type": "display_data"
    }
   ],
   "source": [
    "\n",
    "sims_all = simulate_prices(hh, bs_rt, spr_hub, spr_node, n_scenarios=SCENARIOS, seed=SEED)\n",
    "sims = sims_all[sims_all['market']==MARKET].copy()\n",
    "display(sims.head(3))\n",
    "\n",
    "summary = sims.groupby('ts')[['hub_rt','node_rt']].mean().reset_index()\n",
    "first = summary.iloc[:24*60]\n",
    "plt.figure()\n",
    "plt.plot(first['ts'], first['hub_rt'], label='Hub RT (mean)')\n",
    "plt.plot(first['ts'], first['node_rt'], label='Node RT (mean)')\n",
    "plt.title(f'{MARKET} — First 60 Days RT Mean (Hub vs Node)')\n",
    "plt.xlabel('Time'); plt.ylabel('$/MWh'); plt.legend(); plt.xticks(rotation=45); plt.tight_layout(); plt.show()\n"
   ]
  },
  {
   "cell_type": "code",
   "execution_count": 7,
   "id": "b4548d0f",
   "metadata": {},
   "outputs": [
    {
     "name": "stdout",
     "output_type": "stream",
     "text": [
      "Non-empty sample buckets: 288\n",
      "Generation bucket match rate: 100.0%\n"
     ]
    }
   ],
   "source": [
    "# --- 1) Build volume samples by month-of-year & HE 1..24 ---\n",
    "hist_filt = hist_all[(hist_all['asset'] == ASSET_NAME) & (hist_all['market'] == MARKET)].copy()\n",
    "hist_filt['gen_mwh'] = pd.to_numeric(hist_filt['gen_mwh'], errors='coerce').fillna(0.0)\n",
    "\n",
    "hist_filt['mon']  = hist_filt['date'].dt.month               # 1..12\n",
    "hist_filt['hour'] = hist_filt['he']                           # HE 1..24 (ensure your 'he' is 1..24)\n",
    "\n",
    "vol_tbl = (hist_filt\n",
    "           .groupby(['asset','market','mon','hour'])['gen_mwh']\n",
    "           .apply(list).reset_index(name='samples'))\n",
    "\n",
    "print(\"Non-empty sample buckets:\", (vol_tbl['samples'].apply(lambda x: isinstance(x, list) and len(x) > 0)).sum())\n",
    "\n",
    "# --- 2) Calendar keyed the same way (mon + HE) ---\n",
    "cal_mon = cal.copy()\n",
    "cal_mon['ts']   = pd.to_datetime(cal_mon['ts'])\n",
    "cal_mon['mon']  = cal_mon['ts'].dt.month\n",
    "cal_mon['hour'] = cal_mon['ts'].dt.hour + 1      # HE 1..24\n",
    "\n",
    "# --- 3) Bootstrap using month-of-year + HE buckets ---\n",
    "rng = np.random.default_rng(SEED)\n",
    "\n",
    "base = (cal_mon.assign(_k=1)\n",
    "        .merge(vol_tbl.assign(_k=1), on='_k', how='left')\n",
    "        .drop(columns=['_k']))\n",
    "\n",
    "# Keep only this asset/market rows (vol_tbl has those identifiers)\n",
    "base = base[(base['asset'] == ASSET_NAME) & (base['market'] == MARKET)]\n",
    "\n",
    "# Match diagnostics: what share of hours have a sample list available?\n",
    "match_rate = 1.0 - base['samples'].isna().mean()\n",
    "print(f\"Generation bucket match rate: {match_rate:.1%}\")\n",
    "\n",
    "\n"
   ]
  },
  {
   "cell_type": "markdown",
   "id": "aefe5c9a",
   "metadata": {},
   "source": [
    "### Bootstrapped Hourly Generation Scenarios \n",
    "\n",
    "We create empirical, scenario-based **generation** paths by sampling historical output in matching **seasonal-hour** buckets.\n",
    "\n",
    "#### 1) Build historical volume table — `build_volume_table(...)`\n",
    "For each asset/market, we collect historical generation into buckets keyed by **month-of-year** and **hour-ending (HE 1..24)**.\n",
    "\n",
    "- Keys: $m_o \\in \\{1,\\dots,12\\}$ and $h \\in \\{1,\\dots,24\\}$\n",
    "- Bucket definition (plain text):\n",
    "  $\\;\\text{Bucket}(m_o,h)=\\{\\text{gen\\_mwh}_\\tau:\\ \\text{mon}(\\tau)=m_o,\\ \\text{HE}(\\tau)=h\\}$\n",
    "- Stored as a NumPy array per bucket:\n",
    "  $\\; \\text{samples}[m_o,h] = \\big(\\text{gen\\_mwh}^1,\\dots,\\text{gen\\_mwh}^{N_{m_o,h}}\\big)$\n",
    "\n",
    "This preserves the **empirical distribution** of generation for each seasonal hour.\n",
    "\n",
    "**Code:**\n",
    "```python\n",
    "vol_tbl = build_volume_table(hist_all, ASSET_NAME, MARKET)\n"
   ]
  },
  {
   "cell_type": "code",
   "execution_count": 8,
   "id": "ec086e56",
   "metadata": {},
   "outputs": [
    {
     "name": "stdout",
     "output_type": "stream",
     "text": [
      "gen rows: 4382400 | mean: 20.729087829589844\n"
     ]
    },
    {
     "data": {
      "application/vnd.microsoft.datawrangler.viewer.v0+json": {
       "columns": [
        {
         "name": "index",
         "rawType": "int64",
         "type": "integer"
        },
        {
         "name": "s",
         "rawType": "int32",
         "type": "integer"
        },
        {
         "name": "ts",
         "rawType": "datetime64[ns]",
         "type": "datetime"
        },
        {
         "name": "asset",
         "rawType": "object",
         "type": "string"
        },
        {
         "name": "market",
         "rawType": "object",
         "type": "string"
        },
        {
         "name": "gen_mwh",
         "rawType": "float32",
         "type": "float"
        }
       ],
       "ref": "c6a9d44c-4f0a-4bed-9aa1-4d5419d78341",
       "rows": [
        [
         "0",
         "0",
         "2026-01-01 00:00:00",
         "Wind_A",
         "ERCOT",
         "34.1"
        ],
        [
         "1",
         "0",
         "2026-01-01 01:00:00",
         "Wind_A",
         "ERCOT",
         "24.1"
        ],
        [
         "2",
         "0",
         "2026-01-01 02:00:00",
         "Wind_A",
         "ERCOT",
         "29.5"
        ]
       ],
       "shape": {
        "columns": 5,
        "rows": 3
       }
      },
      "text/html": [
       "<div>\n",
       "<style scoped>\n",
       "    .dataframe tbody tr th:only-of-type {\n",
       "        vertical-align: middle;\n",
       "    }\n",
       "\n",
       "    .dataframe tbody tr th {\n",
       "        vertical-align: top;\n",
       "    }\n",
       "\n",
       "    .dataframe thead th {\n",
       "        text-align: right;\n",
       "    }\n",
       "</style>\n",
       "<table border=\"1\" class=\"dataframe\">\n",
       "  <thead>\n",
       "    <tr style=\"text-align: right;\">\n",
       "      <th></th>\n",
       "      <th>s</th>\n",
       "      <th>ts</th>\n",
       "      <th>asset</th>\n",
       "      <th>market</th>\n",
       "      <th>gen_mwh</th>\n",
       "    </tr>\n",
       "  </thead>\n",
       "  <tbody>\n",
       "    <tr>\n",
       "      <th>0</th>\n",
       "      <td>0</td>\n",
       "      <td>2026-01-01 00:00:00</td>\n",
       "      <td>Wind_A</td>\n",
       "      <td>ERCOT</td>\n",
       "      <td>34.099998</td>\n",
       "    </tr>\n",
       "    <tr>\n",
       "      <th>1</th>\n",
       "      <td>0</td>\n",
       "      <td>2026-01-01 01:00:00</td>\n",
       "      <td>Wind_A</td>\n",
       "      <td>ERCOT</td>\n",
       "      <td>24.100000</td>\n",
       "    </tr>\n",
       "    <tr>\n",
       "      <th>2</th>\n",
       "      <td>0</td>\n",
       "      <td>2026-01-01 02:00:00</td>\n",
       "      <td>Wind_A</td>\n",
       "      <td>ERCOT</td>\n",
       "      <td>29.500000</td>\n",
       "    </tr>\n",
       "  </tbody>\n",
       "</table>\n",
       "</div>"
      ],
      "text/plain": [
       "   s                  ts   asset market    gen_mwh\n",
       "0  0 2026-01-01 00:00:00  Wind_A  ERCOT  34.099998\n",
       "1  0 2026-01-01 01:00:00  Wind_A  ERCOT  24.100000\n",
       "2  0 2026-01-01 02:00:00  Wind_A  ERCOT  29.500000"
      ]
     },
     "metadata": {},
     "output_type": "display_data"
    }
   ],
   "source": [
    "from src.models.volume import build_volume_table, bootstrap_generation\n",
    "\n",
    "vol_tbl = build_volume_table(hist_all, ASSET_NAME, MARKET)\n",
    "rng = np.random.default_rng(SEED)\n",
    "gen = bootstrap_generation(cal, vol_tbl, n_scenarios=SCENARIOS, rng=rng)\n",
    "\n",
    "print(\"gen rows:\", len(gen), \"| mean:\", float(gen['gen_mwh'].mean()))\n",
    "display(gen.head(3))\n"
   ]
  },
  {
   "cell_type": "code",
   "execution_count": 9,
   "id": "d7364504",
   "metadata": {},
   "outputs": [
    {
     "data": {
      "application/vnd.microsoft.datawrangler.viewer.v0+json": {
       "columns": [
        {
         "name": "index",
         "rawType": "int64",
         "type": "integer"
        },
        {
         "name": "asset",
         "rawType": "object",
         "type": "string"
        },
        {
         "name": "month",
         "rawType": "datetime64[ns]",
         "type": "datetime"
        },
        {
         "name": "bucket",
         "rawType": "object",
         "type": "string"
        },
        {
         "name": "expected_mwh",
         "rawType": "float32",
         "type": "float"
        }
       ],
       "ref": "c9cc1fbc-43be-4df5-9f51-4b534bac6988",
       "rows": [
        [
         "0",
         "Wind_A",
         "2026-01-01 00:00:00",
         "Off-Peak",
         "18.138584"
        ],
        [
         "1",
         "Wind_A",
         "2026-01-01 00:00:00",
         "Peak",
         "19.501377"
        ],
        [
         "2",
         "Wind_A",
         "2026-02-01 00:00:00",
         "Off-Peak",
         "16.322048"
        ],
        [
         "3",
         "Wind_A",
         "2026-02-01 00:00:00",
         "Peak",
         "18.180319"
        ],
        [
         "4",
         "Wind_A",
         "2026-03-01 00:00:00",
         "Off-Peak",
         "21.078482"
        ],
        [
         "5",
         "Wind_A",
         "2026-03-01 00:00:00",
         "Peak",
         "22.480635"
        ]
       ],
       "shape": {
        "columns": 4,
        "rows": 6
       }
      },
      "text/html": [
       "<div>\n",
       "<style scoped>\n",
       "    .dataframe tbody tr th:only-of-type {\n",
       "        vertical-align: middle;\n",
       "    }\n",
       "\n",
       "    .dataframe tbody tr th {\n",
       "        vertical-align: top;\n",
       "    }\n",
       "\n",
       "    .dataframe thead th {\n",
       "        text-align: right;\n",
       "    }\n",
       "</style>\n",
       "<table border=\"1\" class=\"dataframe\">\n",
       "  <thead>\n",
       "    <tr style=\"text-align: right;\">\n",
       "      <th></th>\n",
       "      <th>asset</th>\n",
       "      <th>month</th>\n",
       "      <th>bucket</th>\n",
       "      <th>expected_mwh</th>\n",
       "    </tr>\n",
       "  </thead>\n",
       "  <tbody>\n",
       "    <tr>\n",
       "      <th>0</th>\n",
       "      <td>Wind_A</td>\n",
       "      <td>2026-01-01</td>\n",
       "      <td>Off-Peak</td>\n",
       "      <td>18.138584</td>\n",
       "    </tr>\n",
       "    <tr>\n",
       "      <th>1</th>\n",
       "      <td>Wind_A</td>\n",
       "      <td>2026-01-01</td>\n",
       "      <td>Peak</td>\n",
       "      <td>19.501377</td>\n",
       "    </tr>\n",
       "    <tr>\n",
       "      <th>2</th>\n",
       "      <td>Wind_A</td>\n",
       "      <td>2026-02-01</td>\n",
       "      <td>Off-Peak</td>\n",
       "      <td>16.322048</td>\n",
       "    </tr>\n",
       "    <tr>\n",
       "      <th>3</th>\n",
       "      <td>Wind_A</td>\n",
       "      <td>2026-02-01</td>\n",
       "      <td>Peak</td>\n",
       "      <td>18.180319</td>\n",
       "    </tr>\n",
       "    <tr>\n",
       "      <th>4</th>\n",
       "      <td>Wind_A</td>\n",
       "      <td>2026-03-01</td>\n",
       "      <td>Off-Peak</td>\n",
       "      <td>21.078482</td>\n",
       "    </tr>\n",
       "    <tr>\n",
       "      <th>5</th>\n",
       "      <td>Wind_A</td>\n",
       "      <td>2026-03-01</td>\n",
       "      <td>Peak</td>\n",
       "      <td>22.480635</td>\n",
       "    </tr>\n",
       "  </tbody>\n",
       "</table>\n",
       "</div>"
      ],
      "text/plain": [
       "    asset      month    bucket  expected_mwh\n",
       "0  Wind_A 2026-01-01  Off-Peak     18.138584\n",
       "1  Wind_A 2026-01-01      Peak     19.501377\n",
       "2  Wind_A 2026-02-01  Off-Peak     16.322048\n",
       "3  Wind_A 2026-02-01      Peak     18.180319\n",
       "4  Wind_A 2026-03-01  Off-Peak     21.078482\n",
       "5  Wind_A 2026-03-01      Peak     22.480635"
      ]
     },
     "metadata": {},
     "output_type": "display_data"
    }
   ],
   "source": [
    "\n",
    "eg = expected_generation_monthly(gen)\n",
    "eg_asset = eg[eg['asset']==ASSET_NAME].copy()\n",
    "display(eg_asset.head(6))\n",
    "\n",
    "Path('results').mkdir(exist_ok=True)\n",
    "eg_asset.to_csv('results/expected_generation_asset.csv', index=False)\n"
   ]
  },
  {
   "cell_type": "markdown",
   "id": "6324e333",
   "metadata": {},
   "source": [
    "\n",
    "\n",
    "We compute the **flat fixed price** $P^*$ for each product so that, across scenarios, the hedge is at least as good as merchant with probability $p$ (e.g., $p=0.75$ for **P75**).\n",
    "\n",
    "#### Products\n",
    "- `RT_HUB`: sell as-generated at **node RT** vs fixed at **hub** reference  \n",
    "- `RT_NODE`: sell as-generated at **node RT** vs fixed at **node** reference  \n",
    "- `DA_HUB`: sell as-generated at **node RT** vs fixed at **hub DA** reference  \n",
    "- `DA_NODE`: sell as-generated at **node RT** vs fixed at **node DA** reference\n",
    "\n",
    "> Rationale: Merchant value uses **as-generated node RT** cashflow; the fixed product settles vs a reference price (hub/node; RT/DA).\n",
    "\n",
    "#### Decision Rule (per product)\n",
    "For hour $t$ and scenario $s$, let volume be $G_{t,s}$ (bootstrapped generation).  \n",
    "- Merchant cashflow (per scenario):  \n",
    "  $\\mathrm{Merch}_s = \\sum_t G_{t,s}\\cdot \\mathrm{RT}^{\\text{node}}_{t,s}$\n",
    "- Hedge cashflow (per scenario), with reference price $R_{t,s}$ matching the selected product:  \n",
    "  $\\mathrm{Hedge}_s(P) = \\sum_t (P - R_{t,s})\\cdot \\tilde{G}_{t,s}$\n",
    "\n",
    "Negative-price rule:\n",
    "- If `negative_rule = 'zero'`, use $\\tilde{G}_{t,s} = 0$ whenever $R_{t,s} < 0$; else $\\tilde{G}_{t,s} = G_{t,s}$.\n",
    "\n",
    "**Target fixed price** $P^*$ solves:\n",
    "\n",
    "$$\n",
    "\\operatorname{Quantile}_{1-p}\\!\\left(\\mathrm{Hedge}_s(P^*) - \\mathrm{Merch}_s\\right) = 0\n",
    "$$\n",
    "i.e., the $(1-p)$ tail of (hedge − merchant) is zero → at least a $p$ fraction of scenarios prefer the hedge.\n",
    "\n"
   ]
  },
  {
   "cell_type": "code",
   "execution_count": 10,
   "id": "20651e38",
   "metadata": {},
   "outputs": [
    {
     "data": {
      "application/vnd.microsoft.datawrangler.viewer.v0+json": {
       "columns": [
        {
         "name": "index",
         "rawType": "int64",
         "type": "integer"
        },
        {
         "name": "asset",
         "rawType": "object",
         "type": "string"
        },
        {
         "name": "product",
         "rawType": "object",
         "type": "string"
        },
        {
         "name": "p_level",
         "rawType": "float64",
         "type": "float"
        },
        {
         "name": "negative_rule",
         "rawType": "object",
         "type": "string"
        },
        {
         "name": "fixed_price",
         "rawType": "float64",
         "type": "float"
        }
       ],
       "ref": "3a3be5d3-6702-4016-8d6f-d281b43d90d7",
       "rows": [
        [
         "0",
         "Wind_A",
         "RT_HUB",
         "0.75",
         "include",
         "105.93923848757302"
        ],
        [
         "1",
         "Wind_A",
         "RT_NODE",
         "0.75",
         "include",
         "97.16806425123269"
        ],
        [
         "2",
         "Wind_A",
         "DA_HUB",
         "0.75",
         "include",
         "113.49716549050103"
        ],
        [
         "3",
         "Wind_A",
         "DA_NODE",
         "0.75",
         "include",
         "104.60565252018395"
        ]
       ],
       "shape": {
        "columns": 5,
        "rows": 4
       }
      },
      "text/html": [
       "<div>\n",
       "<style scoped>\n",
       "    .dataframe tbody tr th:only-of-type {\n",
       "        vertical-align: middle;\n",
       "    }\n",
       "\n",
       "    .dataframe tbody tr th {\n",
       "        vertical-align: top;\n",
       "    }\n",
       "\n",
       "    .dataframe thead th {\n",
       "        text-align: right;\n",
       "    }\n",
       "</style>\n",
       "<table border=\"1\" class=\"dataframe\">\n",
       "  <thead>\n",
       "    <tr style=\"text-align: right;\">\n",
       "      <th></th>\n",
       "      <th>asset</th>\n",
       "      <th>product</th>\n",
       "      <th>p_level</th>\n",
       "      <th>negative_rule</th>\n",
       "      <th>fixed_price</th>\n",
       "    </tr>\n",
       "  </thead>\n",
       "  <tbody>\n",
       "    <tr>\n",
       "      <th>0</th>\n",
       "      <td>Wind_A</td>\n",
       "      <td>RT_HUB</td>\n",
       "      <td>0.75</td>\n",
       "      <td>include</td>\n",
       "      <td>105.939238</td>\n",
       "    </tr>\n",
       "    <tr>\n",
       "      <th>1</th>\n",
       "      <td>Wind_A</td>\n",
       "      <td>RT_NODE</td>\n",
       "      <td>0.75</td>\n",
       "      <td>include</td>\n",
       "      <td>97.168064</td>\n",
       "    </tr>\n",
       "    <tr>\n",
       "      <th>2</th>\n",
       "      <td>Wind_A</td>\n",
       "      <td>DA_HUB</td>\n",
       "      <td>0.75</td>\n",
       "      <td>include</td>\n",
       "      <td>113.497165</td>\n",
       "    </tr>\n",
       "    <tr>\n",
       "      <th>3</th>\n",
       "      <td>Wind_A</td>\n",
       "      <td>DA_NODE</td>\n",
       "      <td>0.75</td>\n",
       "      <td>include</td>\n",
       "      <td>104.605653</td>\n",
       "    </tr>\n",
       "  </tbody>\n",
       "</table>\n",
       "</div>"
      ],
      "text/plain": [
       "    asset  product  p_level negative_rule  fixed_price\n",
       "0  Wind_A   RT_HUB     0.75       include   105.939238\n",
       "1  Wind_A  RT_NODE     0.75       include    97.168064\n",
       "2  Wind_A   DA_HUB     0.75       include   113.497165\n",
       "3  Wind_A  DA_NODE     0.75       include   104.605653"
      ]
     },
     "metadata": {},
     "output_type": "display_data"
    },
    {
     "data": {
      "application/vnd.microsoft.datawrangler.viewer.v0+json": {
       "columns": [
        {
         "name": "index",
         "rawType": "int64",
         "type": "integer"
        },
        {
         "name": "asset",
         "rawType": "object",
         "type": "string"
        },
        {
         "name": "product",
         "rawType": "object",
         "type": "string"
        },
        {
         "name": "p_level",
         "rawType": "float64",
         "type": "float"
        },
        {
         "name": "negative_rule",
         "rawType": "object",
         "type": "string"
        },
        {
         "name": "fixed_price",
         "rawType": "float64",
         "type": "float"
        }
       ],
       "ref": "c12ec0ba-7227-4825-96ac-86f8d0eafe04",
       "rows": [
        [
         "0",
         "Wind_A",
         "RT_HUB",
         "0.5",
         "include",
         "105.70119313129479"
        ],
        [
         "1",
         "Wind_A",
         "RT_NODE",
         "0.5",
         "include",
         "96.75342844574519"
        ],
        [
         "2",
         "Wind_A",
         "DA_HUB",
         "0.5",
         "include",
         "113.22840635549892"
        ],
        [
         "3",
         "Wind_A",
         "DA_NODE",
         "0.5",
         "include",
         "104.08737711578286"
        ],
        [
         "4",
         "Wind_A",
         "RT_HUB",
         "0.75",
         "include",
         "105.93923848757302"
        ],
        [
         "5",
         "Wind_A",
         "RT_NODE",
         "0.75",
         "include",
         "97.16806425123269"
        ],
        [
         "6",
         "Wind_A",
         "DA_HUB",
         "0.75",
         "include",
         "113.49716549050103"
        ],
        [
         "7",
         "Wind_A",
         "DA_NODE",
         "0.75",
         "include",
         "104.60565252018395"
        ],
        [
         "8",
         "Wind_A",
         "RT_HUB",
         "0.9",
         "include",
         "106.0715278399611"
        ],
        [
         "9",
         "Wind_A",
         "RT_NODE",
         "0.9",
         "include",
         "97.47947670914226"
        ],
        [
         "10",
         "Wind_A",
         "DA_HUB",
         "0.9",
         "include",
         "114.00386905696624"
        ],
        [
         "11",
         "Wind_A",
         "DA_NODE",
         "0.9",
         "include",
         "104.8200087060982"
        ]
       ],
       "shape": {
        "columns": 5,
        "rows": 12
       }
      },
      "text/html": [
       "<div>\n",
       "<style scoped>\n",
       "    .dataframe tbody tr th:only-of-type {\n",
       "        vertical-align: middle;\n",
       "    }\n",
       "\n",
       "    .dataframe tbody tr th {\n",
       "        vertical-align: top;\n",
       "    }\n",
       "\n",
       "    .dataframe thead th {\n",
       "        text-align: right;\n",
       "    }\n",
       "</style>\n",
       "<table border=\"1\" class=\"dataframe\">\n",
       "  <thead>\n",
       "    <tr style=\"text-align: right;\">\n",
       "      <th></th>\n",
       "      <th>asset</th>\n",
       "      <th>product</th>\n",
       "      <th>p_level</th>\n",
       "      <th>negative_rule</th>\n",
       "      <th>fixed_price</th>\n",
       "    </tr>\n",
       "  </thead>\n",
       "  <tbody>\n",
       "    <tr>\n",
       "      <th>0</th>\n",
       "      <td>Wind_A</td>\n",
       "      <td>RT_HUB</td>\n",
       "      <td>0.50</td>\n",
       "      <td>include</td>\n",
       "      <td>105.701193</td>\n",
       "    </tr>\n",
       "    <tr>\n",
       "      <th>1</th>\n",
       "      <td>Wind_A</td>\n",
       "      <td>RT_NODE</td>\n",
       "      <td>0.50</td>\n",
       "      <td>include</td>\n",
       "      <td>96.753428</td>\n",
       "    </tr>\n",
       "    <tr>\n",
       "      <th>2</th>\n",
       "      <td>Wind_A</td>\n",
       "      <td>DA_HUB</td>\n",
       "      <td>0.50</td>\n",
       "      <td>include</td>\n",
       "      <td>113.228406</td>\n",
       "    </tr>\n",
       "    <tr>\n",
       "      <th>3</th>\n",
       "      <td>Wind_A</td>\n",
       "      <td>DA_NODE</td>\n",
       "      <td>0.50</td>\n",
       "      <td>include</td>\n",
       "      <td>104.087377</td>\n",
       "    </tr>\n",
       "    <tr>\n",
       "      <th>4</th>\n",
       "      <td>Wind_A</td>\n",
       "      <td>RT_HUB</td>\n",
       "      <td>0.75</td>\n",
       "      <td>include</td>\n",
       "      <td>105.939238</td>\n",
       "    </tr>\n",
       "    <tr>\n",
       "      <th>5</th>\n",
       "      <td>Wind_A</td>\n",
       "      <td>RT_NODE</td>\n",
       "      <td>0.75</td>\n",
       "      <td>include</td>\n",
       "      <td>97.168064</td>\n",
       "    </tr>\n",
       "    <tr>\n",
       "      <th>6</th>\n",
       "      <td>Wind_A</td>\n",
       "      <td>DA_HUB</td>\n",
       "      <td>0.75</td>\n",
       "      <td>include</td>\n",
       "      <td>113.497165</td>\n",
       "    </tr>\n",
       "    <tr>\n",
       "      <th>7</th>\n",
       "      <td>Wind_A</td>\n",
       "      <td>DA_NODE</td>\n",
       "      <td>0.75</td>\n",
       "      <td>include</td>\n",
       "      <td>104.605653</td>\n",
       "    </tr>\n",
       "    <tr>\n",
       "      <th>8</th>\n",
       "      <td>Wind_A</td>\n",
       "      <td>RT_HUB</td>\n",
       "      <td>0.90</td>\n",
       "      <td>include</td>\n",
       "      <td>106.071528</td>\n",
       "    </tr>\n",
       "    <tr>\n",
       "      <th>9</th>\n",
       "      <td>Wind_A</td>\n",
       "      <td>RT_NODE</td>\n",
       "      <td>0.90</td>\n",
       "      <td>include</td>\n",
       "      <td>97.479477</td>\n",
       "    </tr>\n",
       "    <tr>\n",
       "      <th>10</th>\n",
       "      <td>Wind_A</td>\n",
       "      <td>DA_HUB</td>\n",
       "      <td>0.90</td>\n",
       "      <td>include</td>\n",
       "      <td>114.003869</td>\n",
       "    </tr>\n",
       "    <tr>\n",
       "      <th>11</th>\n",
       "      <td>Wind_A</td>\n",
       "      <td>DA_NODE</td>\n",
       "      <td>0.90</td>\n",
       "      <td>include</td>\n",
       "      <td>104.820009</td>\n",
       "    </tr>\n",
       "  </tbody>\n",
       "</table>\n",
       "</div>"
      ],
      "text/plain": [
       "     asset  product  p_level negative_rule  fixed_price\n",
       "0   Wind_A   RT_HUB     0.50       include   105.701193\n",
       "1   Wind_A  RT_NODE     0.50       include    96.753428\n",
       "2   Wind_A   DA_HUB     0.50       include   113.228406\n",
       "3   Wind_A  DA_NODE     0.50       include   104.087377\n",
       "4   Wind_A   RT_HUB     0.75       include   105.939238\n",
       "5   Wind_A  RT_NODE     0.75       include    97.168064\n",
       "6   Wind_A   DA_HUB     0.75       include   113.497165\n",
       "7   Wind_A  DA_NODE     0.75       include   104.605653\n",
       "8   Wind_A   RT_HUB     0.90       include   106.071528\n",
       "9   Wind_A  RT_NODE     0.90       include    97.479477\n",
       "10  Wind_A   DA_HUB     0.90       include   114.003869\n",
       "11  Wind_A  DA_NODE     0.90       include   104.820009"
      ]
     },
     "metadata": {},
     "output_type": "display_data"
    }
   ],
   "source": [
    "\n",
    "products = ['RT_HUB','RT_NODE','DA_HUB','DA_NODE']\n",
    "prices_p75 = solve_product_prices(sims, gen, products, p_level=P_LEVEL, negative_rule=neg_rule)\n",
    "prices_p75 = prices_p75[prices_p75['asset']==ASSET_NAME].copy().reset_index(drop=True)\n",
    "display(prices_p75)\n",
    "\n",
    "\n",
    "prices_grid = solve_prices_for_levels(sims, gen, products, P_GRID, negative_rule=neg_rule)\n",
    "prices_grid = prices_grid[prices_grid['asset']==ASSET_NAME].copy().reset_index(drop=True)\n",
    "display(prices_grid.head(12))\n",
    "\n",
    "prices_p75.to_csv('results/fixed_prices_asset_p75.csv', index=False)\n",
    "prices_grid.to_csv('results/fixed_prices_asset_pgrid.csv', index=False)\n"
   ]
  },
  {
   "cell_type": "code",
   "execution_count": 11,
   "id": "7a04e689",
   "metadata": {},
   "outputs": [
    {
     "data": {
      "application/vnd.microsoft.datawrangler.viewer.v0+json": {
       "columns": [
        {
         "name": "index",
         "rawType": "int64",
         "type": "integer"
        },
        {
         "name": "asset",
         "rawType": "object",
         "type": "string"
        },
        {
         "name": "product",
         "rawType": "object",
         "type": "string"
        },
        {
         "name": "p_level",
         "rawType": "float64",
         "type": "float"
        },
        {
         "name": "hub_mean",
         "rawType": "float64",
         "type": "float"
        },
        {
         "name": "basis_mean",
         "rawType": "float64",
         "type": "float"
        },
        {
         "name": "da_spr_hub_mean",
         "rawType": "float64",
         "type": "float"
        },
        {
         "name": "da_spr_node_mean",
         "rawType": "float64",
         "type": "float"
        },
        {
         "name": "expected_ref_price",
         "rawType": "float64",
         "type": "float"
        },
        {
         "name": "fixed_price",
         "rawType": "float64",
         "type": "float"
        },
        {
         "name": "risk_premium",
         "rawType": "float64",
         "type": "float"
        }
       ],
       "ref": "e011c1fd-a94f-4f6d-a010-e4300a384684",
       "rows": [
        [
         "0",
         "Wind_A",
         "RT_HUB",
         "0.75",
         "57.29506463174156",
         "8.96435716138334",
         "7.4520242652977755",
         "7.181563715609927",
         "57.29506463174156",
         "105.93923848757302",
         "48.64417385583146"
        ],
        [
         "1",
         "Wind_A",
         "RT_NODE",
         "0.75",
         "57.29506463174156",
         "8.96435716138334",
         "7.4520242652977755",
         "7.181563715609927",
         "48.33070747035822",
         "106.27668840615544",
         "57.94598093579722"
        ],
        [
         "2",
         "Wind_A",
         "DA_HUB",
         "0.75",
         "57.29506463174156",
         "8.96435716138334",
         "7.4520242652977755",
         "7.181563715609927",
         "64.74708889703933",
         "124.08447360456609",
         "59.33738470752675"
        ],
        [
         "3",
         "Wind_A",
         "DA_NODE",
         "0.75",
         "57.29506463174156",
         "8.96435716138334",
         "7.4520242652977755",
         "7.181563715609927",
         "55.512271185968146",
         "124.53352056977795",
         "69.0212493838098"
        ]
       ],
       "shape": {
        "columns": 10,
        "rows": 4
       }
      },
      "text/html": [
       "<div>\n",
       "<style scoped>\n",
       "    .dataframe tbody tr th:only-of-type {\n",
       "        vertical-align: middle;\n",
       "    }\n",
       "\n",
       "    .dataframe tbody tr th {\n",
       "        vertical-align: top;\n",
       "    }\n",
       "\n",
       "    .dataframe thead th {\n",
       "        text-align: right;\n",
       "    }\n",
       "</style>\n",
       "<table border=\"1\" class=\"dataframe\">\n",
       "  <thead>\n",
       "    <tr style=\"text-align: right;\">\n",
       "      <th></th>\n",
       "      <th>asset</th>\n",
       "      <th>product</th>\n",
       "      <th>p_level</th>\n",
       "      <th>hub_mean</th>\n",
       "      <th>basis_mean</th>\n",
       "      <th>da_spr_hub_mean</th>\n",
       "      <th>da_spr_node_mean</th>\n",
       "      <th>expected_ref_price</th>\n",
       "      <th>fixed_price</th>\n",
       "      <th>risk_premium</th>\n",
       "    </tr>\n",
       "  </thead>\n",
       "  <tbody>\n",
       "    <tr>\n",
       "      <th>0</th>\n",
       "      <td>Wind_A</td>\n",
       "      <td>RT_HUB</td>\n",
       "      <td>0.75</td>\n",
       "      <td>57.295065</td>\n",
       "      <td>8.964357</td>\n",
       "      <td>7.452024</td>\n",
       "      <td>7.181564</td>\n",
       "      <td>57.295065</td>\n",
       "      <td>105.939238</td>\n",
       "      <td>48.644174</td>\n",
       "    </tr>\n",
       "    <tr>\n",
       "      <th>1</th>\n",
       "      <td>Wind_A</td>\n",
       "      <td>RT_NODE</td>\n",
       "      <td>0.75</td>\n",
       "      <td>57.295065</td>\n",
       "      <td>8.964357</td>\n",
       "      <td>7.452024</td>\n",
       "      <td>7.181564</td>\n",
       "      <td>48.330707</td>\n",
       "      <td>106.276688</td>\n",
       "      <td>57.945981</td>\n",
       "    </tr>\n",
       "    <tr>\n",
       "      <th>2</th>\n",
       "      <td>Wind_A</td>\n",
       "      <td>DA_HUB</td>\n",
       "      <td>0.75</td>\n",
       "      <td>57.295065</td>\n",
       "      <td>8.964357</td>\n",
       "      <td>7.452024</td>\n",
       "      <td>7.181564</td>\n",
       "      <td>64.747089</td>\n",
       "      <td>124.084474</td>\n",
       "      <td>59.337385</td>\n",
       "    </tr>\n",
       "    <tr>\n",
       "      <th>3</th>\n",
       "      <td>Wind_A</td>\n",
       "      <td>DA_NODE</td>\n",
       "      <td>0.75</td>\n",
       "      <td>57.295065</td>\n",
       "      <td>8.964357</td>\n",
       "      <td>7.452024</td>\n",
       "      <td>7.181564</td>\n",
       "      <td>55.512271</td>\n",
       "      <td>124.533521</td>\n",
       "      <td>69.021249</td>\n",
       "    </tr>\n",
       "  </tbody>\n",
       "</table>\n",
       "</div>"
      ],
      "text/plain": [
       "    asset  product  p_level   hub_mean  basis_mean  da_spr_hub_mean  \\\n",
       "0  Wind_A   RT_HUB     0.75  57.295065    8.964357         7.452024   \n",
       "1  Wind_A  RT_NODE     0.75  57.295065    8.964357         7.452024   \n",
       "2  Wind_A   DA_HUB     0.75  57.295065    8.964357         7.452024   \n",
       "3  Wind_A  DA_NODE     0.75  57.295065    8.964357         7.452024   \n",
       "\n",
       "   da_spr_node_mean  expected_ref_price  fixed_price  risk_premium  \n",
       "0          7.181564           57.295065   105.939238     48.644174  \n",
       "1          7.181564           48.330707   106.276688     57.945981  \n",
       "2          7.181564           64.747089   124.084474     59.337385  \n",
       "3          7.181564           55.512271   124.533521     69.021249  "
      ]
     },
     "metadata": {},
     "output_type": "display_data"
    }
   ],
   "source": [
    "\n",
    "breakdown_all = compute_price_breakdown(\n",
    "    hourly_hub_fwd=hh,\n",
    "    basis_mean_rt=bs_rt[['market','mon','hour','mean']],\n",
    "    da_spr_mean_hub=spr_hub[['market','mon','hour','mean']],\n",
    "    da_spr_mean_node=spr_node[['market','mon','hour','mean']],\n",
    "    sims=sims,\n",
    "    gen_df=gen,\n",
    "    products=products,\n",
    "    p_level=P_LEVEL\n",
    ")\n",
    "bk = breakdown_all[breakdown_all['asset']==ASSET_NAME].copy().reset_index(drop=True)\n",
    "display(bk)\n",
    "bk.to_csv('results/price_breakdown_asset.csv', index=False)\n"
   ]
  },
  {
   "cell_type": "code",
   "execution_count": 12,
   "id": "5fe75b73",
   "metadata": {},
   "outputs": [
    {
     "name": "stderr",
     "output_type": "stream",
     "text": [
      "C:\\Users\\mpanah01\\AppData\\Local\\Temp\\ipykernel_26232\\778916926.py:3: FutureWarning: Calling float on a single element Series is deprecated and will raise a TypeError in the future. Use float(ser.iloc[0]) instead\n",
      "  vals = [float(prices_p75[prices_p75['product']==p]['fixed_price']) for p in products]\n"
     ]
    },
    {
     "data": {
      "image/png": "[encoded data removed]",
      "text/plain": [
       "<Figure size 640x480 with 1 Axes>"
      ]
     },
     "metadata": {},
     "output_type": "display_data"
    }
   ],
   "source": [
    "\n",
    "plt.figure()\n",
    "x = np.arange(len(products))\n",
    "vals = [float(prices_p75[prices_p75['product']==p]['fixed_price']) for p in products]\n",
    "plt.bar(x, vals)\n",
    "plt.xticks(x, products); plt.ylabel('$/MWh'); plt.title(f'{ASSET_NAME} — Fixed Prices (P75)')\n",
    "plt.tight_layout(); plt.show()\n"
   ]
  },
  {
   "cell_type": "code",
   "execution_count": 17,
   "id": "424792c2",
   "metadata": {},
   "outputs": [
    {
     "data": {
      "image/png": "[encoded data removed]",
      "text/plain": [
       "<Figure size 640x480 with 1 Axes>"
      ]
     },
     "metadata": {},
     "output_type": "display_data"
    }
   ],
   "source": [
    "row = bk.iloc[2]  # choose the product row you want to plot\n",
    "\n",
    "# pick mapping by product\n",
    "prod = row['product']\n",
    "if   prod == 'RT_HUB':\n",
    "    A = float(row['hub_mean'])\n",
    "    B = 0.0\n",
    "    C = 0.0\n",
    "elif prod == 'RT_NODE':\n",
    "    A = float(row['hub_mean'])\n",
    "    B = float(-row['basis_mean'])\n",
    "    C = 0.0\n",
    "elif prod == 'DA_HUB':\n",
    "    A = float(row['hub_mean'])\n",
    "    B = 0.0\n",
    "    C = float(row['da_spr_hub_mean'])\n",
    "elif prod == 'DA_NODE':\n",
    "    A = float(row['hub_mean'])\n",
    "    B = float(-row['basis_mean'])\n",
    "    C = float(row['da_spr_node_mean'])\n",
    "else:\n",
    "    raise ValueError(f\"Unknown product {prod}\")\n",
    "\n",
    "D = 0.0  # we didn't compute negative-rule effect separately here\n",
    "E = float(row['risk_premium'])  # includes neg-rule + volatility residual\n",
    "\n",
    "steps  = ['A_hub_capture','B_basis','C_da_rt','D_neg_rule','E_risk']\n",
    "labels = ['A: Hub','B: Basis','C: DA-RT','D: Neg','E: Risk']\n",
    "values = [A,B,C,D,E]\n",
    "\n",
    "import matplotlib.pyplot as plt\n",
    "plt.figure()\n",
    "plt.bar(range(len(values)), values)\n",
    "plt.xticks(range(len(values)), labels, rotation=0)\n",
    "plt.title(f\"{row['asset']} — {row['product']} Price Breakdown\")\n",
    "plt.ylabel(\"$/MWh\")\n",
    "plt.tight_layout(); plt.show()\n"
   ]
  },
  {
   "cell_type": "code",
   "execution_count": 18,
   "id": "81959eba",
   "metadata": {},
   "outputs": [
    {
     "data": {
      "image/png": "[encoded data removed]",
      "text/plain": [
       "<Figure size 640x480 with 1 Axes>"
      ]
     },
     "metadata": {},
     "output_type": "display_data"
    },
    {
     "data": {
      "image/png": "[encoded data removed]",
      "text/plain": [
       "<Figure size 640x480 with 1 Axes>"
      ]
     },
     "metadata": {},
     "output_type": "display_data"
    }
   ],
   "source": [
    "\n",
    "dfm = gen.merge(sims, on=['s','ts','market'])\n",
    "dfm['merchant_rt_node'] = dfm['gen_mwh'] * dfm['node_rt']\n",
    "agg = dfm.groupby(['s'])['merchant_rt_node'].sum().reset_index()\n",
    "\n",
    "plt.figure()\n",
    "plt.hist(agg['merchant_rt_node'], bins=40, alpha=0.7)\n",
    "plt.xlabel('Merchant value over 5 years ($)'); plt.ylabel('Frequency')\n",
    "plt.title(f'{ASSET_NAME} — Merchant Distribution (RT Node, as-generated)')\n",
    "plt.tight_layout(); plt.show()\n",
    "\n",
    "exp_mwh = gen.groupby('s')['gen_mwh'].sum().mean()\n",
    "for p in [0.50, 0.75, 0.90]:\n",
    "    for prod in products:\n",
    "        P_star = float(prices_grid[(prices_grid['p_level']==p) & (prices_grid['product']==prod)]['fixed_price'].iloc[0])\n",
    "        plt.axvline(P_star * exp_mwh, linestyle='--')\n",
    "plt.show()\n"
   ]
  }
 ],
 "metadata": {
  "kernelspec": {
   "display_name": "base",
   "language": "python",
   "name": "python3"
  },
  "language_info": {
   "codemirror_mode": {
    "name": "ipython",
    "version": 3
   },
   "file_extension": ".py",
   "mimetype": "text/x-python",
   "name": "python",
   "nbconvert_exporter": "python",
   "pygments_lexer": "ipython3",
   "version": "3.11.5"
  }
 },
 "nbformat": 4,
 "nbformat_minor": 5
}
