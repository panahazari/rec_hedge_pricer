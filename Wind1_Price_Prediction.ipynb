{
 "cells": [
  {
   "cell_type": "markdown",
   "id": "0b920e92",
   "metadata": {},
   "source": [
    "\n",
    "# Wind 1 — Price Prediction (ERCOT)\n",
    "\n",
    "This notebook loads **Wind 1 (ERCOT)** data using the repo modules and performs the **price prediction step**:\n",
    "1. Load per-asset CSV data (history + forwards) from `configs/project.yaml`  \n",
    "2. Build **hourly hub forward** for 2026–2030 (Peak/Off-Peak monthly → hourly shaping)  \n",
    "3. Compute **basis stats** and **simulate** hourly **hub/node** RT/DA prices for ERCOT  \n",
    "4. Save outputs to `results/` for downstream use\n"
   ]
  },
  {
   "cell_type": "code",
   "execution_count": 1,
   "id": "f08916ec",
   "metadata": {},
   "outputs": [],
   "source": [
    "\n",
    "import yaml\n",
    "import pandas as pd\n",
    "import numpy as np\n",
    "from pathlib import Path\n",
    "from src.data.loader import load_data\n",
    "from src.features.calendar import make_calendar_index\n",
    "from src.models.shape import hub_hourly_shape, basis_stats\n",
    "from src.models.price import shape_monthly_to_hourly, simulate_prices\n",
    "\n",
    "CONFIG_PATH = \"configs/project.yaml\"\n",
    "ASSET_NAME = \"Wind_A\"     # Wind 1\n",
    "MARKET = \"ERCOT\"\n",
    "SCENARIOS = 500\n",
    "SEED = 42\n",
    "\n",
    "cfg = yaml.safe_load(open(CONFIG_PATH, \"r\"))\n",
    "start_year = cfg[\"start_year\"]\n",
    "end_year = cfg[\"end_year\"]\n"
   ]
  },
  {
   "cell_type": "code",
   "execution_count": 2,
   "id": "2a4c313b",
   "metadata": {},
   "outputs": [
    {
     "name": "stderr",
     "output_type": "stream",
     "text": [
      "/Users/mohammad/Documents/rec_hedge_pricer/src/data/loader.py:28: UserWarning: Could not infer format, so each element will be parsed individually, falling back to `dateutil`. To ensure parsing is consistent and as-expected, please specify a format.\n",
      "  df['date'] = pd.to_datetime(df['date'])\n",
      "/Users/mohammad/Documents/rec_hedge_pricer/src/data/loader.py:28: UserWarning: Could not infer format, so each element will be parsed individually, falling back to `dateutil`. To ensure parsing is consistent and as-expected, please specify a format.\n",
      "  df['date'] = pd.to_datetime(df['date'])\n",
      "/Users/mohammad/Documents/rec_hedge_pricer/src/data/loader.py:28: UserWarning: Could not infer format, so each element will be parsed individually, falling back to `dateutil`. To ensure parsing is consistent and as-expected, please specify a format.\n",
      "  df['date'] = pd.to_datetime(df['date'])\n",
      "/Users/mohammad/Documents/rec_hedge_pricer/src/data/loader.py:93: UserWarning: Could not infer format, so each element will be parsed individually, falling back to `dateutil`. To ensure parsing is consistent and as-expected, please specify a format.\n",
      "  parsed = parsed.fillna(pd.to_datetime(s, errors=\"coerce\"))\n",
      "/Users/mohammad/Documents/rec_hedge_pricer/src/data/loader.py:93: UserWarning: Could not infer format, so each element will be parsed individually, falling back to `dateutil`. To ensure parsing is consistent and as-expected, please specify a format.\n",
      "  parsed = parsed.fillna(pd.to_datetime(s, errors=\"coerce\"))\n",
      "/Users/mohammad/Documents/rec_hedge_pricer/src/data/loader.py:93: UserWarning: Could not infer format, so each element will be parsed individually, falling back to `dateutil`. To ensure parsing is consistent and as-expected, please specify a format.\n",
      "  parsed = parsed.fillna(pd.to_datetime(s, errors=\"coerce\"))\n"
     ]
    },
    {
     "data": {
      "text/html": [
       "<div>\n",
       "<style scoped>\n",
       "    .dataframe tbody tr th:only-of-type {\n",
       "        vertical-align: middle;\n",
       "    }\n",
       "\n",
       "    .dataframe tbody tr th {\n",
       "        vertical-align: top;\n",
       "    }\n",
       "\n",
       "    .dataframe thead th {\n",
       "        text-align: right;\n",
       "    }\n",
       "</style>\n",
       "<table border=\"1\" class=\"dataframe\">\n",
       "  <thead>\n",
       "    <tr style=\"text-align: right;\">\n",
       "      <th></th>\n",
       "      <th>date</th>\n",
       "      <th>he</th>\n",
       "      <th>peak_flag</th>\n",
       "      <th>gen_mwh</th>\n",
       "      <th>rt_node</th>\n",
       "      <th>rt_hub</th>\n",
       "      <th>da_node</th>\n",
       "      <th>da_hub</th>\n",
       "      <th>asset</th>\n",
       "      <th>market</th>\n",
       "    </tr>\n",
       "  </thead>\n",
       "  <tbody>\n",
       "    <tr>\n",
       "      <th>0</th>\n",
       "      <td>2022-01-01</td>\n",
       "      <td>1</td>\n",
       "      <td>OP</td>\n",
       "      <td>36.8</td>\n",
       "      <td>0.74</td>\n",
       "      <td>56.43</td>\n",
       "      <td>5.20</td>\n",
       "      <td>30.17</td>\n",
       "      <td>Wind_A</td>\n",
       "      <td>ERCOT</td>\n",
       "    </tr>\n",
       "    <tr>\n",
       "      <th>1</th>\n",
       "      <td>2022-01-01</td>\n",
       "      <td>2</td>\n",
       "      <td>OP</td>\n",
       "      <td>17.0</td>\n",
       "      <td>3.78</td>\n",
       "      <td>29.24</td>\n",
       "      <td>1.54</td>\n",
       "      <td>22.08</td>\n",
       "      <td>Wind_A</td>\n",
       "      <td>ERCOT</td>\n",
       "    </tr>\n",
       "    <tr>\n",
       "      <th>2</th>\n",
       "      <td>2022-01-01</td>\n",
       "      <td>3</td>\n",
       "      <td>OP</td>\n",
       "      <td>14.6</td>\n",
       "      <td>4.00</td>\n",
       "      <td>22.15</td>\n",
       "      <td>1.83</td>\n",
       "      <td>19.97</td>\n",
       "      <td>Wind_A</td>\n",
       "      <td>ERCOT</td>\n",
       "    </tr>\n",
       "  </tbody>\n",
       "</table>\n",
       "</div>"
      ],
      "text/plain": [
       "        date  he peak_flag  gen_mwh  rt_node  rt_hub  da_node  da_hub   asset  \\\n",
       "0 2022-01-01   1        OP     36.8     0.74   56.43     5.20   30.17  Wind_A   \n",
       "1 2022-01-01   2        OP     17.0     3.78   29.24     1.54   22.08  Wind_A   \n",
       "2 2022-01-01   3        OP     14.6     4.00   22.15     1.83   19.97  Wind_A   \n",
       "\n",
       "  market  \n",
       "0  ERCOT  \n",
       "1  ERCOT  \n",
       "2  ERCOT  "
      ]
     },
     "metadata": {},
     "output_type": "display_data"
    },
    {
     "data": {
      "text/html": [
       "<div>\n",
       "<style scoped>\n",
       "    .dataframe tbody tr th:only-of-type {\n",
       "        vertical-align: middle;\n",
       "    }\n",
       "\n",
       "    .dataframe tbody tr th {\n",
       "        vertical-align: top;\n",
       "    }\n",
       "\n",
       "    .dataframe thead th {\n",
       "        text-align: right;\n",
       "    }\n",
       "</style>\n",
       "<table border=\"1\" class=\"dataframe\">\n",
       "  <thead>\n",
       "    <tr style=\"text-align: right;\">\n",
       "      <th></th>\n",
       "      <th>month</th>\n",
       "      <th>market</th>\n",
       "      <th>peak</th>\n",
       "      <th>offpeak</th>\n",
       "    </tr>\n",
       "  </thead>\n",
       "  <tbody>\n",
       "    <tr>\n",
       "      <th>0</th>\n",
       "      <td>2026-01-01</td>\n",
       "      <td>ERCOT</td>\n",
       "      <td>66.41</td>\n",
       "      <td>61.71</td>\n",
       "    </tr>\n",
       "    <tr>\n",
       "      <th>1</th>\n",
       "      <td>2026-02-01</td>\n",
       "      <td>ERCOT</td>\n",
       "      <td>66.38</td>\n",
       "      <td>59.84</td>\n",
       "    </tr>\n",
       "    <tr>\n",
       "      <th>2</th>\n",
       "      <td>2026-03-01</td>\n",
       "      <td>ERCOT</td>\n",
       "      <td>47.90</td>\n",
       "      <td>37.77</td>\n",
       "    </tr>\n",
       "  </tbody>\n",
       "</table>\n",
       "</div>"
      ],
      "text/plain": [
       "       month market   peak  offpeak\n",
       "0 2026-01-01  ERCOT  66.41    61.71\n",
       "1 2026-02-01  ERCOT  66.38    59.84\n",
       "2 2026-03-01  ERCOT  47.90    37.77"
      ]
     },
     "metadata": {},
     "output_type": "display_data"
    },
    {
     "name": "stdout",
     "output_type": "stream",
     "text": [
      "Hist rows (ERCOT): 26304\n",
      "Fwd rows (all markets): 180\n"
     ]
    }
   ],
   "source": [
    "\n",
    "hist_all, fwd_all = load_data(cfg)\n",
    "hist = hist_all[hist_all[\"market\"] == MARKET].copy()\n",
    "\n",
    "display(hist.head(3))\n",
    "display(fwd_all[fwd_all[\"market\"] == MARKET].head(3))\n",
    "\n",
    "print(\"Hist rows (ERCOT):\", len(hist))\n",
    "print(\"Fwd rows (all markets):\", len(fwd_all))\n"
   ]
  },
  {
   "cell_type": "code",
   "execution_count": 3,
   "id": "9c604750",
   "metadata": {},
   "outputs": [
    {
     "data": {
      "text/html": [
       "<div>\n",
       "<style scoped>\n",
       "    .dataframe tbody tr th:only-of-type {\n",
       "        vertical-align: middle;\n",
       "    }\n",
       "\n",
       "    .dataframe tbody tr th {\n",
       "        vertical-align: top;\n",
       "    }\n",
       "\n",
       "    .dataframe thead th {\n",
       "        text-align: right;\n",
       "    }\n",
       "</style>\n",
       "<table border=\"1\" class=\"dataframe\">\n",
       "  <thead>\n",
       "    <tr style=\"text-align: right;\">\n",
       "      <th></th>\n",
       "      <th>ts</th>\n",
       "      <th>date</th>\n",
       "      <th>he</th>\n",
       "      <th>month</th>\n",
       "      <th>weekday</th>\n",
       "    </tr>\n",
       "  </thead>\n",
       "  <tbody>\n",
       "    <tr>\n",
       "      <th>0</th>\n",
       "      <td>2026-01-01 00:00:00</td>\n",
       "      <td>2026-01-01</td>\n",
       "      <td>1</td>\n",
       "      <td>2026-01-01</td>\n",
       "      <td>3</td>\n",
       "    </tr>\n",
       "    <tr>\n",
       "      <th>1</th>\n",
       "      <td>2026-01-01 01:00:00</td>\n",
       "      <td>2026-01-01</td>\n",
       "      <td>2</td>\n",
       "      <td>2026-01-01</td>\n",
       "      <td>3</td>\n",
       "    </tr>\n",
       "    <tr>\n",
       "      <th>2</th>\n",
       "      <td>2026-01-01 02:00:00</td>\n",
       "      <td>2026-01-01</td>\n",
       "      <td>3</td>\n",
       "      <td>2026-01-01</td>\n",
       "      <td>3</td>\n",
       "    </tr>\n",
       "    <tr>\n",
       "      <th>3</th>\n",
       "      <td>2026-01-01 03:00:00</td>\n",
       "      <td>2026-01-01</td>\n",
       "      <td>4</td>\n",
       "      <td>2026-01-01</td>\n",
       "      <td>3</td>\n",
       "    </tr>\n",
       "    <tr>\n",
       "      <th>4</th>\n",
       "      <td>2026-01-01 04:00:00</td>\n",
       "      <td>2026-01-01</td>\n",
       "      <td>5</td>\n",
       "      <td>2026-01-01</td>\n",
       "      <td>3</td>\n",
       "    </tr>\n",
       "  </tbody>\n",
       "</table>\n",
       "</div>"
      ],
      "text/plain": [
       "                   ts        date  he      month  weekday\n",
       "0 2026-01-01 00:00:00  2026-01-01   1 2026-01-01        3\n",
       "1 2026-01-01 01:00:00  2026-01-01   2 2026-01-01        3\n",
       "2 2026-01-01 02:00:00  2026-01-01   3 2026-01-01        3\n",
       "3 2026-01-01 03:00:00  2026-01-01   4 2026-01-01        3\n",
       "4 2026-01-01 04:00:00  2026-01-01   5 2026-01-01        3"
      ]
     },
     "execution_count": 3,
     "metadata": {},
     "output_type": "execute_result"
    }
   ],
   "source": [
    "\n",
    "cal = make_calendar_index(start_year, end_year)\n",
    "cal.head()\n"
   ]
  },
  {
   "cell_type": "code",
   "execution_count": 4,
   "id": "a3e37608",
   "metadata": {},
   "outputs": [
    {
     "data": {
      "text/html": [
       "<div>\n",
       "<style scoped>\n",
       "    .dataframe tbody tr th:only-of-type {\n",
       "        vertical-align: middle;\n",
       "    }\n",
       "\n",
       "    .dataframe tbody tr th {\n",
       "        vertical-align: top;\n",
       "    }\n",
       "\n",
       "    .dataframe thead th {\n",
       "        text-align: right;\n",
       "    }\n",
       "</style>\n",
       "<table border=\"1\" class=\"dataframe\">\n",
       "  <thead>\n",
       "    <tr style=\"text-align: right;\">\n",
       "      <th></th>\n",
       "      <th>market</th>\n",
       "      <th>month</th>\n",
       "      <th>hour</th>\n",
       "      <th>shape</th>\n",
       "    </tr>\n",
       "  </thead>\n",
       "  <tbody>\n",
       "    <tr>\n",
       "      <th>0</th>\n",
       "      <td>ERCOT</td>\n",
       "      <td>2022-01-01</td>\n",
       "      <td>1</td>\n",
       "      <td>1.027560</td>\n",
       "    </tr>\n",
       "    <tr>\n",
       "      <th>1</th>\n",
       "      <td>ERCOT</td>\n",
       "      <td>2022-01-01</td>\n",
       "      <td>2</td>\n",
       "      <td>0.815155</td>\n",
       "    </tr>\n",
       "    <tr>\n",
       "      <th>2</th>\n",
       "      <td>ERCOT</td>\n",
       "      <td>2022-01-01</td>\n",
       "      <td>3</td>\n",
       "      <td>0.816499</td>\n",
       "    </tr>\n",
       "    <tr>\n",
       "      <th>3</th>\n",
       "      <td>ERCOT</td>\n",
       "      <td>2022-01-01</td>\n",
       "      <td>4</td>\n",
       "      <td>0.837539</td>\n",
       "    </tr>\n",
       "    <tr>\n",
       "      <th>4</th>\n",
       "      <td>ERCOT</td>\n",
       "      <td>2022-01-01</td>\n",
       "      <td>5</td>\n",
       "      <td>0.861922</td>\n",
       "    </tr>\n",
       "  </tbody>\n",
       "</table>\n",
       "</div>"
      ],
      "text/plain": [
       "  market      month  hour     shape\n",
       "0  ERCOT 2022-01-01     1  1.027560\n",
       "1  ERCOT 2022-01-01     2  0.815155\n",
       "2  ERCOT 2022-01-01     3  0.816499\n",
       "3  ERCOT 2022-01-01     4  0.837539\n",
       "4  ERCOT 2022-01-01     5  0.861922"
      ]
     },
     "execution_count": 4,
     "metadata": {},
     "output_type": "execute_result"
    }
   ],
   "source": [
    "\n",
    "shape_tbl = hub_hourly_shape(hist)\n",
    "shape_tbl.head()\n"
   ]
  },
  {
   "cell_type": "code",
   "execution_count": 9,
   "id": "6d2b53a3",
   "metadata": {},
   "outputs": [
    {
     "data": {
      "text/plain": [
       "[<matplotlib.lines.Line2D at 0x127f922d0>]"
      ]
     },
     "execution_count": 9,
     "metadata": {},
     "output_type": "execute_result"
    },
    {
     "data": {
      "image/png": "[encoded data removed]",
      "text/plain": [
       "<Figure size 640x480 with 1 Axes>"
      ]
     },
     "metadata": {},
     "output_type": "display_data"
    }
   ],
   "source": [
    "import matplotlib.pyplot as plt\n",
    "plt.plot(np.array(shape_tbl['shape'].head(24)))"
   ]
  },
  {
   "cell_type": "code",
   "execution_count": 5,
   "id": "b69a2df6",
   "metadata": {},
   "outputs": [
    {
     "ename": "TypeError",
     "evalue": "unsupported Type RangeIndex",
     "output_type": "error",
     "traceback": [
      "\u001b[0;31m---------------------------------------------------------------------------\u001b[0m",
      "\u001b[0;31mTypeError\u001b[0m                                 Traceback (most recent call last)",
      "Cell \u001b[0;32mIn[5], line 1\u001b[0m\n\u001b[0;32m----> 1\u001b[0m hh_all \u001b[38;5;241m=\u001b[39m shape_monthly_to_hourly(fwd_all, shape_tbl, cal)\n\u001b[1;32m      2\u001b[0m hh \u001b[38;5;241m=\u001b[39m hh_all[hh_all[\u001b[38;5;124m\"\u001b[39m\u001b[38;5;124mmarket\u001b[39m\u001b[38;5;124m\"\u001b[39m] \u001b[38;5;241m==\u001b[39m MARKET]\u001b[38;5;241m.\u001b[39mcopy()\u001b[38;5;241m.\u001b[39msort_values(\u001b[38;5;124m\"\u001b[39m\u001b[38;5;124mts\u001b[39m\u001b[38;5;124m\"\u001b[39m)\u001b[38;5;241m.\u001b[39mreset_index(drop\u001b[38;5;241m=\u001b[39m\u001b[38;5;28;01mTrue\u001b[39;00m)\n\u001b[1;32m      3\u001b[0m \u001b[38;5;28mprint\u001b[39m(\u001b[38;5;124m\"\u001b[39m\u001b[38;5;124mHourly hub forward rows (ERCOT):\u001b[39m\u001b[38;5;124m\"\u001b[39m, \u001b[38;5;28mlen\u001b[39m(hh))\n",
      "File \u001b[0;32m~/Documents/rec_hedge_pricer/src/models/price.py:9\u001b[0m, in \u001b[0;36mshape_monthly_to_hourly\u001b[0;34m(forwards, shape, calendar)\u001b[0m\n\u001b[1;32m      7\u001b[0m fwd \u001b[38;5;241m=\u001b[39m forwards\u001b[38;5;241m.\u001b[39mcopy()\n\u001b[1;32m      8\u001b[0m cal \u001b[38;5;241m=\u001b[39m calendar\u001b[38;5;241m.\u001b[39mcopy()\n\u001b[0;32m----> 9\u001b[0m cal[\u001b[38;5;124m'\u001b[39m\u001b[38;5;124mmonth\u001b[39m\u001b[38;5;124m'\u001b[39m] \u001b[38;5;241m=\u001b[39m cal[\u001b[38;5;124m'\u001b[39m\u001b[38;5;124mts\u001b[39m\u001b[38;5;124m'\u001b[39m]\u001b[38;5;241m.\u001b[39mto_period(\u001b[38;5;124m'\u001b[39m\u001b[38;5;124mM\u001b[39m\u001b[38;5;124m'\u001b[39m)\u001b[38;5;241m.\u001b[39mdt\u001b[38;5;241m.\u001b[39mto_timestamp()\n\u001b[1;32m     10\u001b[0m cal[\u001b[38;5;124m'\u001b[39m\u001b[38;5;124mhour\u001b[39m\u001b[38;5;124m'\u001b[39m] \u001b[38;5;241m=\u001b[39m cal[\u001b[38;5;124m'\u001b[39m\u001b[38;5;124mhe\u001b[39m\u001b[38;5;124m'\u001b[39m]\n\u001b[1;32m     11\u001b[0m out \u001b[38;5;241m=\u001b[39m cal\u001b[38;5;241m.\u001b[39mmerge(fwd, on\u001b[38;5;241m=\u001b[39m[\u001b[38;5;124m'\u001b[39m\u001b[38;5;124mmarket\u001b[39m\u001b[38;5;124m'\u001b[39m,\u001b[38;5;124m'\u001b[39m\u001b[38;5;124mmonth\u001b[39m\u001b[38;5;124m'\u001b[39m], how\u001b[38;5;241m=\u001b[39m\u001b[38;5;124m'\u001b[39m\u001b[38;5;124mleft\u001b[39m\u001b[38;5;124m'\u001b[39m)\u001b[38;5;241m.\u001b[39mmerge(shape, on\u001b[38;5;241m=\u001b[39m[\u001b[38;5;124m'\u001b[39m\u001b[38;5;124mmarket\u001b[39m\u001b[38;5;124m'\u001b[39m,\u001b[38;5;124m'\u001b[39m\u001b[38;5;124mmonth\u001b[39m\u001b[38;5;124m'\u001b[39m,\u001b[38;5;124m'\u001b[39m\u001b[38;5;124mhour\u001b[39m\u001b[38;5;124m'\u001b[39m], how\u001b[38;5;241m=\u001b[39m\u001b[38;5;124m'\u001b[39m\u001b[38;5;124mleft\u001b[39m\u001b[38;5;124m'\u001b[39m)\n",
      "File \u001b[0;32m~/anaconda3/lib/python3.11/site-packages/pandas/core/series.py:5826\u001b[0m, in \u001b[0;36mSeries.to_period\u001b[0;34m(self, freq, copy)\u001b[0m\n\u001b[1;32m   5794\u001b[0m \u001b[38;5;250m\u001b[39m\u001b[38;5;124;03m\"\"\"\u001b[39;00m\n\u001b[1;32m   5795\u001b[0m \u001b[38;5;124;03mConvert Series from DatetimeIndex to PeriodIndex.\u001b[39;00m\n\u001b[1;32m   5796\u001b[0m \n\u001b[0;32m   (...)\u001b[0m\n\u001b[1;32m   5823\u001b[0m \u001b[38;5;124;03mPeriodIndex(['2023', '2024', '2025'], dtype='period[A-DEC]')\u001b[39;00m\n\u001b[1;32m   5824\u001b[0m \u001b[38;5;124;03m\"\"\"\u001b[39;00m\n\u001b[1;32m   5825\u001b[0m \u001b[38;5;28;01mif\u001b[39;00m \u001b[38;5;129;01mnot\u001b[39;00m \u001b[38;5;28misinstance\u001b[39m(\u001b[38;5;28mself\u001b[39m\u001b[38;5;241m.\u001b[39mindex, DatetimeIndex):\n\u001b[0;32m-> 5826\u001b[0m     \u001b[38;5;28;01mraise\u001b[39;00m \u001b[38;5;167;01mTypeError\u001b[39;00m(\u001b[38;5;124mf\u001b[39m\u001b[38;5;124m\"\u001b[39m\u001b[38;5;124munsupported Type \u001b[39m\u001b[38;5;132;01m{\u001b[39;00m\u001b[38;5;28mtype\u001b[39m(\u001b[38;5;28mself\u001b[39m\u001b[38;5;241m.\u001b[39mindex)\u001b[38;5;241m.\u001b[39m\u001b[38;5;18m__name__\u001b[39m\u001b[38;5;132;01m}\u001b[39;00m\u001b[38;5;124m\"\u001b[39m)\n\u001b[1;32m   5828\u001b[0m new_obj \u001b[38;5;241m=\u001b[39m \u001b[38;5;28mself\u001b[39m\u001b[38;5;241m.\u001b[39mcopy(deep\u001b[38;5;241m=\u001b[39mcopy \u001b[38;5;129;01mand\u001b[39;00m \u001b[38;5;129;01mnot\u001b[39;00m using_copy_on_write())\n\u001b[1;32m   5829\u001b[0m new_index \u001b[38;5;241m=\u001b[39m \u001b[38;5;28mself\u001b[39m\u001b[38;5;241m.\u001b[39mindex\u001b[38;5;241m.\u001b[39mto_period(freq\u001b[38;5;241m=\u001b[39mfreq)\n",
      "\u001b[0;31mTypeError\u001b[0m: unsupported Type RangeIndex"
     ]
    }
   ],
   "source": [
    "\n",
    "hh_all = shape_monthly_to_hourly(fwd_all, shape_tbl, cal)\n",
    "hh = hh_all[hh_all[\"market\"] == MARKET].copy().sort_values(\"ts\").reset_index(drop=True)\n",
    "print(\"Hourly hub forward rows (ERCOT):\", len(hh))\n",
    "hh.head()\n"
   ]
  },
  {
   "cell_type": "code",
   "execution_count": null,
   "id": "49f6a0bd",
   "metadata": {},
   "outputs": [],
   "source": [
    "\n",
    "bs_rt = basis_stats(hist, price_col_hub=\"rt_hub\", price_col_node=\"rt_node\")\n",
    "sims_all = simulate_prices(hh, bs_rt, n_scenarios=SCENARIOS, seed=SEED)\n",
    "sims = sims_all[sims_all[\"market\"] == MARKET].copy().sort_values([\"s\",\"ts\"]).reset_index(drop=True)\n",
    "sims.head()\n"
   ]
  },
  {
   "cell_type": "code",
   "execution_count": null,
   "id": "92292fee",
   "metadata": {},
   "outputs": [],
   "source": [
    "\n",
    "summary = sims.groupby(\"ts\")[[\"hub_rt\",\"node_rt\",\"hub_da\",\"node_da\"]].agg([\"mean\",\"median\",\"min\",\"max\"])\n",
    "summary.columns = [\"_\".join(col) for col in summary.columns]\n",
    "summary = summary.reset_index()\n",
    "summary.head()\n"
   ]
  },
  {
   "cell_type": "code",
   "execution_count": null,
   "id": "e39b9ae0",
   "metadata": {},
   "outputs": [],
   "source": [
    "\n",
    "import matplotlib.pyplot as plt\n",
    "\n",
    "first_period = summary.iloc[:24*30]\n",
    "plt.figure()\n",
    "plt.plot(first_period[\"ts\"], first_period[\"hub_rt_mean\"], label=\"Hub RT (mean)\")\n",
    "plt.plot(first_period[\"ts\"], first_period[\"node_rt_mean\"], label=\"Node RT (mean)\")\n",
    "plt.legend()\n",
    "plt.title(\"ERCOT Hourly Price (Scenario Mean) — First 30 Days\")\n",
    "plt.xlabel(\"Time\")\n",
    "plt.ylabel(\"$/MWh\")\n",
    "plt.xticks(rotation=45)\n",
    "plt.tight_layout()\n",
    "plt.show()\n"
   ]
  },
  {
   "cell_type": "code",
   "execution_count": null,
   "id": "ad06ffec",
   "metadata": {},
   "outputs": [],
   "source": [
    "\n",
    "results_dir = Path(\"results\")\n",
    "results_dir.mkdir(exist_ok=True)\n",
    "\n",
    "hh.to_csv(results_dir / \"wind1_hourly_hub_forward.csv\", index=False)\n",
    "sims.to_parquet(results_dir / \"wind1_sim_prices.parquet\", index=False)\n",
    "\n",
    "print(\"Saved:\")\n",
    "print(\" - results/wind1_hourly_hub_forward.csv\")\n",
    "print(\" - results/wind1_sim_prices.parquet\")\n"
   ]
  },
  {
   "cell_type": "code",
   "execution_count": null,
   "id": "30a7f634",
   "metadata": {},
   "outputs": [],
   "source": [
    "\n",
    "import pandas as pd\n",
    "pd.read_csv(\"results/wind1_hourly_hub_forward.csv\").head(3)\n"
   ]
  }
 ],
 "metadata": {
  "kernelspec": {
   "display_name": "base",
   "language": "python",
   "name": "python3"
  },
  "language_info": {
   "codemirror_mode": {
    "name": "ipython",
    "version": 3
   },
   "file_extension": ".py",
   "mimetype": "text/x-python",
   "name": "python",
   "nbconvert_exporter": "python",
   "pygments_lexer": "ipython3",
   "version": "3.11.8"
  }
 },
 "nbformat": 4,
 "nbformat_minor": 5
}
