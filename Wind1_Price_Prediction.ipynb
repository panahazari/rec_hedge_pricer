{
 "cells": [
  {
   "cell_type": "markdown",
   "id": "0b920e92",
   "metadata": {},
   "source": [
    "\n",
    "# Wind 1 — Price Prediction (ERCOT)\n",
    "\n",
    "This notebook loads **Wind 1 (ERCOT)** data using the repo modules and performs the **price prediction step**:\n",
    "1. Load per-asset CSV data (history + forwards) from `configs/project.yaml`  \n",
    "2. Build **hourly hub forward** for 2026–2030 (Peak/Off-Peak monthly → hourly shaping)  \n",
    "3. Compute **basis stats** and **simulate** hourly **hub/node** RT/DA prices for ERCOT  \n",
    "4. Save outputs to `results/` for downstream use\n"
   ]
  },
  {
   "cell_type": "code",
   "execution_count": 1,
   "id": "f08916ec",
   "metadata": {},
   "outputs": [],
   "source": [
    "\n",
    "import yaml\n",
    "import pandas as pd\n",
    "import numpy as np\n",
    "from pathlib import Path\n",
    "from src.data.loader import load_data\n",
    "from src.features.calendar import make_calendar_index\n",
    "from src.models.shape import hub_hourly_shape, basis_stats\n",
    "from src.models.price import shape_monthly_to_hourly, simulate_prices\n",
    "\n",
    "CONFIG_PATH = \"configs/project.yaml\"\n",
    "ASSET_NAME = \"Wind_A\"     # Wind 1\n",
    "MARKET = \"ERCOT\"\n",
    "SCENARIOS = 500\n",
    "SEED = 42\n",
    "\n",
    "cfg = yaml.safe_load(open(CONFIG_PATH, \"r\"))\n",
    "start_year = cfg[\"start_year\"]\n",
    "end_year = cfg[\"end_year\"]\n"
   ]
  },
  {
   "cell_type": "code",
   "execution_count": 2,
   "id": "2a4c313b",
   "metadata": {},
   "outputs": [
    {
     "name": "stderr",
     "output_type": "stream",
     "text": [
      "c:\\Users\\mpanah01\\Documents\\GitHub\\rec_hedge_pricer\\src\\data\\loader.py:28: UserWarning: Could not infer format, so each element will be parsed individually, falling back to `dateutil`. To ensure parsing is consistent and as-expected, please specify a format.\n",
      "  df['date'] = pd.to_datetime(df['date'])\n",
      "c:\\Users\\mpanah01\\Documents\\GitHub\\rec_hedge_pricer\\src\\data\\loader.py:28: UserWarning: Could not infer format, so each element will be parsed individually, falling back to `dateutil`. To ensure parsing is consistent and as-expected, please specify a format.\n",
      "  df['date'] = pd.to_datetime(df['date'])\n",
      "c:\\Users\\mpanah01\\Documents\\GitHub\\rec_hedge_pricer\\src\\data\\loader.py:28: UserWarning: Could not infer format, so each element will be parsed individually, falling back to `dateutil`. To ensure parsing is consistent and as-expected, please specify a format.\n",
      "  df['date'] = pd.to_datetime(df['date'])\n",
      "c:\\Users\\mpanah01\\Documents\\GitHub\\rec_hedge_pricer\\src\\data\\loader.py:93: UserWarning: Could not infer format, so each element will be parsed individually, falling back to `dateutil`. To ensure parsing is consistent and as-expected, please specify a format.\n",
      "  parsed = parsed.fillna(pd.to_datetime(s, errors=\"coerce\"))\n",
      "c:\\Users\\mpanah01\\Documents\\GitHub\\rec_hedge_pricer\\src\\data\\loader.py:93: UserWarning: Could not infer format, so each element will be parsed individually, falling back to `dateutil`. To ensure parsing is consistent and as-expected, please specify a format.\n",
      "  parsed = parsed.fillna(pd.to_datetime(s, errors=\"coerce\"))\n",
      "c:\\Users\\mpanah01\\Documents\\GitHub\\rec_hedge_pricer\\src\\data\\loader.py:93: UserWarning: Could not infer format, so each element will be parsed individually, falling back to `dateutil`. To ensure parsing is consistent and as-expected, please specify a format.\n",
      "  parsed = parsed.fillna(pd.to_datetime(s, errors=\"coerce\"))\n"
     ]
    },
    {
     "data": {
      "application/vnd.microsoft.datawrangler.viewer.v0+json": {
       "columns": [
        {
         "name": "index",
         "rawType": "int64",
         "type": "integer"
        },
        {
         "name": "date",
         "rawType": "datetime64[ns]",
         "type": "datetime"
        },
        {
         "name": "he",
         "rawType": "int32",
         "type": "integer"
        },
        {
         "name": "peak_flag",
         "rawType": "object",
         "type": "string"
        },
        {
         "name": "gen_mwh",
         "rawType": "float64",
         "type": "float"
        },
        {
         "name": "rt_node",
         "rawType": "float64",
         "type": "float"
        },
        {
         "name": "rt_hub",
         "rawType": "float64",
         "type": "float"
        },
        {
         "name": "da_node",
         "rawType": "float64",
         "type": "float"
        },
        {
         "name": "da_hub",
         "rawType": "float64",
         "type": "float"
        },
        {
         "name": "asset",
         "rawType": "object",
         "type": "string"
        },
        {
         "name": "market",
         "rawType": "object",
         "type": "string"
        }
       ],
       "ref": "fec9d727-b0d0-4919-878b-80ca1b95817c",
       "rows": [
        [
         "0",
         "2022-01-01 00:00:00",
         "1",
         "OP",
         "36.8",
         "0.74",
         "56.43",
         "5.2",
         "30.17",
         "Wind_A",
         "ERCOT"
        ],
        [
         "1",
         "2022-01-01 00:00:00",
         "2",
         "OP",
         "17.0",
         "3.78",
         "29.24",
         "1.54",
         "22.08",
         "Wind_A",
         "ERCOT"
        ],
        [
         "2",
         "2022-01-01 00:00:00",
         "3",
         "OP",
         "14.6",
         "4.0",
         "22.15",
         "1.83",
         "19.97",
         "Wind_A",
         "ERCOT"
        ]
       ],
       "shape": {
        "columns": 10,
        "rows": 3
       }
      },
      "text/html": [
       "<div>\n",
       "<style scoped>\n",
       "    .dataframe tbody tr th:only-of-type {\n",
       "        vertical-align: middle;\n",
       "    }\n",
       "\n",
       "    .dataframe tbody tr th {\n",
       "        vertical-align: top;\n",
       "    }\n",
       "\n",
       "    .dataframe thead th {\n",
       "        text-align: right;\n",
       "    }\n",
       "</style>\n",
       "<table border=\"1\" class=\"dataframe\">\n",
       "  <thead>\n",
       "    <tr style=\"text-align: right;\">\n",
       "      <th></th>\n",
       "      <th>date</th>\n",
       "      <th>he</th>\n",
       "      <th>peak_flag</th>\n",
       "      <th>gen_mwh</th>\n",
       "      <th>rt_node</th>\n",
       "      <th>rt_hub</th>\n",
       "      <th>da_node</th>\n",
       "      <th>da_hub</th>\n",
       "      <th>asset</th>\n",
       "      <th>market</th>\n",
       "    </tr>\n",
       "  </thead>\n",
       "  <tbody>\n",
       "    <tr>\n",
       "      <th>0</th>\n",
       "      <td>2022-01-01</td>\n",
       "      <td>1</td>\n",
       "      <td>OP</td>\n",
       "      <td>36.8</td>\n",
       "      <td>0.74</td>\n",
       "      <td>56.43</td>\n",
       "      <td>5.20</td>\n",
       "      <td>30.17</td>\n",
       "      <td>Wind_A</td>\n",
       "      <td>ERCOT</td>\n",
       "    </tr>\n",
       "    <tr>\n",
       "      <th>1</th>\n",
       "      <td>2022-01-01</td>\n",
       "      <td>2</td>\n",
       "      <td>OP</td>\n",
       "      <td>17.0</td>\n",
       "      <td>3.78</td>\n",
       "      <td>29.24</td>\n",
       "      <td>1.54</td>\n",
       "      <td>22.08</td>\n",
       "      <td>Wind_A</td>\n",
       "      <td>ERCOT</td>\n",
       "    </tr>\n",
       "    <tr>\n",
       "      <th>2</th>\n",
       "      <td>2022-01-01</td>\n",
       "      <td>3</td>\n",
       "      <td>OP</td>\n",
       "      <td>14.6</td>\n",
       "      <td>4.00</td>\n",
       "      <td>22.15</td>\n",
       "      <td>1.83</td>\n",
       "      <td>19.97</td>\n",
       "      <td>Wind_A</td>\n",
       "      <td>ERCOT</td>\n",
       "    </tr>\n",
       "  </tbody>\n",
       "</table>\n",
       "</div>"
      ],
      "text/plain": [
       "        date  he peak_flag  gen_mwh  rt_node  rt_hub  da_node  da_hub   asset  \\\n",
       "0 2022-01-01   1        OP     36.8     0.74   56.43     5.20   30.17  Wind_A   \n",
       "1 2022-01-01   2        OP     17.0     3.78   29.24     1.54   22.08  Wind_A   \n",
       "2 2022-01-01   3        OP     14.6     4.00   22.15     1.83   19.97  Wind_A   \n",
       "\n",
       "  market  \n",
       "0  ERCOT  \n",
       "1  ERCOT  \n",
       "2  ERCOT  "
      ]
     },
     "metadata": {},
     "output_type": "display_data"
    },
    {
     "data": {
      "application/vnd.microsoft.datawrangler.viewer.v0+json": {
       "columns": [
        {
         "name": "index",
         "rawType": "int64",
         "type": "integer"
        },
        {
         "name": "month",
         "rawType": "datetime64[ns]",
         "type": "datetime"
        },
        {
         "name": "market",
         "rawType": "object",
         "type": "string"
        },
        {
         "name": "peak",
         "rawType": "float64",
         "type": "float"
        },
        {
         "name": "offpeak",
         "rawType": "float64",
         "type": "float"
        }
       ],
       "ref": "27382fdd-a6ec-4091-83bc-049758f2711a",
       "rows": [
        [
         "0",
         "2026-01-01 00:00:00",
         "ERCOT",
         "66.41",
         "61.71"
        ],
        [
         "1",
         "2026-02-01 00:00:00",
         "ERCOT",
         "66.38",
         "59.84"
        ],
        [
         "2",
         "2026-03-01 00:00:00",
         "ERCOT",
         "47.9",
         "37.77"
        ]
       ],
       "shape": {
        "columns": 4,
        "rows": 3
       }
      },
      "text/html": [
       "<div>\n",
       "<style scoped>\n",
       "    .dataframe tbody tr th:only-of-type {\n",
       "        vertical-align: middle;\n",
       "    }\n",
       "\n",
       "    .dataframe tbody tr th {\n",
       "        vertical-align: top;\n",
       "    }\n",
       "\n",
       "    .dataframe thead th {\n",
       "        text-align: right;\n",
       "    }\n",
       "</style>\n",
       "<table border=\"1\" class=\"dataframe\">\n",
       "  <thead>\n",
       "    <tr style=\"text-align: right;\">\n",
       "      <th></th>\n",
       "      <th>month</th>\n",
       "      <th>market</th>\n",
       "      <th>peak</th>\n",
       "      <th>offpeak</th>\n",
       "    </tr>\n",
       "  </thead>\n",
       "  <tbody>\n",
       "    <tr>\n",
       "      <th>0</th>\n",
       "      <td>2026-01-01</td>\n",
       "      <td>ERCOT</td>\n",
       "      <td>66.41</td>\n",
       "      <td>61.71</td>\n",
       "    </tr>\n",
       "    <tr>\n",
       "      <th>1</th>\n",
       "      <td>2026-02-01</td>\n",
       "      <td>ERCOT</td>\n",
       "      <td>66.38</td>\n",
       "      <td>59.84</td>\n",
       "    </tr>\n",
       "    <tr>\n",
       "      <th>2</th>\n",
       "      <td>2026-03-01</td>\n",
       "      <td>ERCOT</td>\n",
       "      <td>47.90</td>\n",
       "      <td>37.77</td>\n",
       "    </tr>\n",
       "  </tbody>\n",
       "</table>\n",
       "</div>"
      ],
      "text/plain": [
       "       month market   peak  offpeak\n",
       "0 2026-01-01  ERCOT  66.41    61.71\n",
       "1 2026-02-01  ERCOT  66.38    59.84\n",
       "2 2026-03-01  ERCOT  47.90    37.77"
      ]
     },
     "metadata": {},
     "output_type": "display_data"
    },
    {
     "name": "stdout",
     "output_type": "stream",
     "text": [
      "Hist rows (ERCOT): 26304\n",
      "Fwd rows (all markets): 180\n"
     ]
    }
   ],
   "source": [
    "\n",
    "hist_all, fwd_all = load_data(cfg)\n",
    "hist = hist_all[hist_all[\"market\"] == MARKET].copy()\n",
    "\n",
    "display(hist.head(3))\n",
    "display(fwd_all[fwd_all[\"market\"] == MARKET].head(3))\n",
    "\n",
    "print(\"Hist rows (ERCOT):\", len(hist))\n",
    "print(\"Fwd rows (all markets):\", len(fwd_all))\n"
   ]
  },
  {
   "cell_type": "code",
   "execution_count": 3,
   "id": "9c604750",
   "metadata": {},
   "outputs": [
    {
     "data": {
      "application/vnd.microsoft.datawrangler.viewer.v0+json": {
       "columns": [
        {
         "name": "index",
         "rawType": "int64",
         "type": "integer"
        },
        {
         "name": "ts",
         "rawType": "datetime64[ns]",
         "type": "datetime"
        },
        {
         "name": "date",
         "rawType": "object",
         "type": "unknown"
        },
        {
         "name": "he",
         "rawType": "int32",
         "type": "integer"
        },
        {
         "name": "month",
         "rawType": "datetime64[ns]",
         "type": "datetime"
        },
        {
         "name": "weekday",
         "rawType": "int32",
         "type": "integer"
        }
       ],
       "ref": "193581f2-7ab0-420c-b3de-43c77049f9a5",
       "rows": [
        [
         "0",
         "2026-01-01 00:00:00",
         "2026-01-01",
         "1",
         "2026-01-01 00:00:00",
         "3"
        ],
        [
         "1",
         "2026-01-01 01:00:00",
         "2026-01-01",
         "2",
         "2026-01-01 00:00:00",
         "3"
        ],
        [
         "2",
         "2026-01-01 02:00:00",
         "2026-01-01",
         "3",
         "2026-01-01 00:00:00",
         "3"
        ],
        [
         "3",
         "2026-01-01 03:00:00",
         "2026-01-01",
         "4",
         "2026-01-01 00:00:00",
         "3"
        ],
        [
         "4",
         "2026-01-01 04:00:00",
         "2026-01-01",
         "5",
         "2026-01-01 00:00:00",
         "3"
        ]
       ],
       "shape": {
        "columns": 5,
        "rows": 5
       }
      },
      "text/html": [
       "<div>\n",
       "<style scoped>\n",
       "    .dataframe tbody tr th:only-of-type {\n",
       "        vertical-align: middle;\n",
       "    }\n",
       "\n",
       "    .dataframe tbody tr th {\n",
       "        vertical-align: top;\n",
       "    }\n",
       "\n",
       "    .dataframe thead th {\n",
       "        text-align: right;\n",
       "    }\n",
       "</style>\n",
       "<table border=\"1\" class=\"dataframe\">\n",
       "  <thead>\n",
       "    <tr style=\"text-align: right;\">\n",
       "      <th></th>\n",
       "      <th>ts</th>\n",
       "      <th>date</th>\n",
       "      <th>he</th>\n",
       "      <th>month</th>\n",
       "      <th>weekday</th>\n",
       "    </tr>\n",
       "  </thead>\n",
       "  <tbody>\n",
       "    <tr>\n",
       "      <th>0</th>\n",
       "      <td>2026-01-01 00:00:00</td>\n",
       "      <td>2026-01-01</td>\n",
       "      <td>1</td>\n",
       "      <td>2026-01-01</td>\n",
       "      <td>3</td>\n",
       "    </tr>\n",
       "    <tr>\n",
       "      <th>1</th>\n",
       "      <td>2026-01-01 01:00:00</td>\n",
       "      <td>2026-01-01</td>\n",
       "      <td>2</td>\n",
       "      <td>2026-01-01</td>\n",
       "      <td>3</td>\n",
       "    </tr>\n",
       "    <tr>\n",
       "      <th>2</th>\n",
       "      <td>2026-01-01 02:00:00</td>\n",
       "      <td>2026-01-01</td>\n",
       "      <td>3</td>\n",
       "      <td>2026-01-01</td>\n",
       "      <td>3</td>\n",
       "    </tr>\n",
       "    <tr>\n",
       "      <th>3</th>\n",
       "      <td>2026-01-01 03:00:00</td>\n",
       "      <td>2026-01-01</td>\n",
       "      <td>4</td>\n",
       "      <td>2026-01-01</td>\n",
       "      <td>3</td>\n",
       "    </tr>\n",
       "    <tr>\n",
       "      <th>4</th>\n",
       "      <td>2026-01-01 04:00:00</td>\n",
       "      <td>2026-01-01</td>\n",
       "      <td>5</td>\n",
       "      <td>2026-01-01</td>\n",
       "      <td>3</td>\n",
       "    </tr>\n",
       "  </tbody>\n",
       "</table>\n",
       "</div>"
      ],
      "text/plain": [
       "                   ts        date  he      month  weekday\n",
       "0 2026-01-01 00:00:00  2026-01-01   1 2026-01-01        3\n",
       "1 2026-01-01 01:00:00  2026-01-01   2 2026-01-01        3\n",
       "2 2026-01-01 02:00:00  2026-01-01   3 2026-01-01        3\n",
       "3 2026-01-01 03:00:00  2026-01-01   4 2026-01-01        3\n",
       "4 2026-01-01 04:00:00  2026-01-01   5 2026-01-01        3"
      ]
     },
     "execution_count": 3,
     "metadata": {},
     "output_type": "execute_result"
    }
   ],
   "source": [
    "\n",
    "cal = make_calendar_index(start_year, end_year)\n",
    "cal.head()\n"
   ]
  },
  {
   "cell_type": "code",
   "execution_count": 4,
   "id": "a3e37608",
   "metadata": {},
   "outputs": [
    {
     "data": {
      "application/vnd.microsoft.datawrangler.viewer.v0+json": {
       "columns": [
        {
         "name": "index",
         "rawType": "int64",
         "type": "integer"
        },
        {
         "name": "market",
         "rawType": "object",
         "type": "string"
        },
        {
         "name": "moy",
         "rawType": "int32",
         "type": "integer"
        },
        {
         "name": "hour",
         "rawType": "int32",
         "type": "integer"
        },
        {
         "name": "shape",
         "rawType": "float64",
         "type": "float"
        }
       ],
       "ref": "48f6fed3-e2a0-4086-8ba6-1f0e610b0353",
       "rows": [
        [
         "0",
         "ERCOT",
         "1",
         "1",
         "0.8211816069497143"
        ],
        [
         "1",
         "ERCOT",
         "1",
         "2",
         "0.7530951760837087"
        ],
        [
         "2",
         "ERCOT",
         "1",
         "3",
         "0.774921551846178"
        ],
        [
         "3",
         "ERCOT",
         "1",
         "4",
         "0.829364100980698"
        ],
        [
         "4",
         "ERCOT",
         "1",
         "5",
         "0.8801603086840324"
        ]
       ],
       "shape": {
        "columns": 4,
        "rows": 5
       }
      },
      "text/html": [
       "<div>\n",
       "<style scoped>\n",
       "    .dataframe tbody tr th:only-of-type {\n",
       "        vertical-align: middle;\n",
       "    }\n",
       "\n",
       "    .dataframe tbody tr th {\n",
       "        vertical-align: top;\n",
       "    }\n",
       "\n",
       "    .dataframe thead th {\n",
       "        text-align: right;\n",
       "    }\n",
       "</style>\n",
       "<table border=\"1\" class=\"dataframe\">\n",
       "  <thead>\n",
       "    <tr style=\"text-align: right;\">\n",
       "      <th></th>\n",
       "      <th>market</th>\n",
       "      <th>moy</th>\n",
       "      <th>hour</th>\n",
       "      <th>shape</th>\n",
       "    </tr>\n",
       "  </thead>\n",
       "  <tbody>\n",
       "    <tr>\n",
       "      <th>0</th>\n",
       "      <td>ERCOT</td>\n",
       "      <td>1</td>\n",
       "      <td>1</td>\n",
       "      <td>0.821182</td>\n",
       "    </tr>\n",
       "    <tr>\n",
       "      <th>1</th>\n",
       "      <td>ERCOT</td>\n",
       "      <td>1</td>\n",
       "      <td>2</td>\n",
       "      <td>0.753095</td>\n",
       "    </tr>\n",
       "    <tr>\n",
       "      <th>2</th>\n",
       "      <td>ERCOT</td>\n",
       "      <td>1</td>\n",
       "      <td>3</td>\n",
       "      <td>0.774922</td>\n",
       "    </tr>\n",
       "    <tr>\n",
       "      <th>3</th>\n",
       "      <td>ERCOT</td>\n",
       "      <td>1</td>\n",
       "      <td>4</td>\n",
       "      <td>0.829364</td>\n",
       "    </tr>\n",
       "    <tr>\n",
       "      <th>4</th>\n",
       "      <td>ERCOT</td>\n",
       "      <td>1</td>\n",
       "      <td>5</td>\n",
       "      <td>0.880160</td>\n",
       "    </tr>\n",
       "  </tbody>\n",
       "</table>\n",
       "</div>"
      ],
      "text/plain": [
       "  market  moy  hour     shape\n",
       "0  ERCOT    1     1  0.821182\n",
       "1  ERCOT    1     2  0.753095\n",
       "2  ERCOT    1     3  0.774922\n",
       "3  ERCOT    1     4  0.829364\n",
       "4  ERCOT    1     5  0.880160"
      ]
     },
     "execution_count": 4,
     "metadata": {},
     "output_type": "execute_result"
    }
   ],
   "source": [
    "\n",
    "shape_tbl = hub_hourly_shape(hist)\n",
    "shape_tbl.head()\n"
   ]
  },
  {
   "cell_type": "code",
   "execution_count": 5,
   "id": "2be83f60",
   "metadata": {},
   "outputs": [
    {
     "data": {
      "text/plain": [
       "Index(['market', 'moy', 'hour', 'shape'], dtype='object')"
      ]
     },
     "execution_count": 5,
     "metadata": {},
     "output_type": "execute_result"
    }
   ],
   "source": [
    "shape_tbl.columns"
   ]
  },
  {
   "cell_type": "code",
   "execution_count": 6,
   "id": "6d2b53a3",
   "metadata": {},
   "outputs": [
    {
     "data": {
      "text/plain": [
       "[<matplotlib.lines.Line2D at 0x280bd9134d0>]"
      ]
     },
     "execution_count": 6,
     "metadata": {},
     "output_type": "execute_result"
    },
    {
     "data": {
      "image/png": "[encoded data removed]",
      "text/plain": [
       "<Figure size 640x480 with 1 Axes>"
      ]
     },
     "metadata": {},
     "output_type": "display_data"
    }
   ],
   "source": [
    "import matplotlib.pyplot as plt\n",
    "plt.plot(np.array(shape_tbl['shape'].head(24*30)))"
   ]
  },
  {
   "cell_type": "code",
   "execution_count": 13,
   "id": "b69a2df6",
   "metadata": {},
   "outputs": [
    {
     "name": "stdout",
     "output_type": "stream",
     "text": [
      "                   ts        date  he      month  weekday  moy  hour\n",
      "0 2026-01-01 00:00:00  2026-01-01   1 2026-01-01        3    1     1\n",
      "1 2026-01-01 01:00:00  2026-01-01   2 2026-01-01        3    1     2\n",
      "2 2026-01-01 02:00:00  2026-01-01   3 2026-01-01        3    1     3\n",
      "3 2026-01-01 03:00:00  2026-01-01   4 2026-01-01        3    1     4\n",
      "4 2026-01-01 04:00:00  2026-01-01   5 2026-01-01        3    1     5\n",
      "       month market   peak  offpeak  moy\n",
      "0 2026-01-01  ERCOT  66.41    61.71    1\n",
      "1 2026-02-01  ERCOT  66.38    59.84    2\n",
      "2 2026-03-01  ERCOT  47.90    37.77    3\n",
      "3 2026-04-01  ERCOT  47.59    36.67    4\n",
      "4 2026-05-01  ERCOT  49.00    37.22    5\n",
      "                   ts        date  he      month  weekday  moy  hour market  \\\n",
      "0 2026-01-01 00:00:00  2026-01-01   1 2026-01-01        3    1     1  ERCOT   \n",
      "1 2026-01-01 00:00:00  2026-01-01   1 2026-01-01        3    1     1   MISO   \n",
      "2 2026-01-01 00:00:00  2026-01-01   1 2026-01-01        3    1     1  CAISO   \n",
      "3 2026-01-01 01:00:00  2026-01-01   2 2026-01-01        3    1     2  ERCOT   \n",
      "4 2026-01-01 01:00:00  2026-01-01   2 2026-01-01        3    1     2   MISO   \n",
      "\n",
      "    peak  offpeak  _base  \n",
      "0  66.41    61.71  61.71  \n",
      "1  63.65    50.60  50.60  \n",
      "2  66.49    74.33  74.33  \n",
      "3  66.41    61.71  61.71  \n",
      "4  63.65    50.60  50.60  \n",
      "Hourly hub forward rows (ERCOT): 43824\n"
     ]
    },
    {
     "data": {
      "application/vnd.microsoft.datawrangler.viewer.v0+json": {
       "columns": [
        {
         "name": "index",
         "rawType": "int64",
         "type": "integer"
        },
        {
         "name": "ts",
         "rawType": "datetime64[ns]",
         "type": "datetime"
        },
        {
         "name": "market",
         "rawType": "object",
         "type": "string"
        },
        {
         "name": "hub_forward_hourly",
         "rawType": "float64",
         "type": "float"
        }
       ],
       "ref": "57faced3-8096-4759-89b4-d9e25d85a46c",
       "rows": [
        [
         "0",
         "2026-01-01 00:00:00",
         "ERCOT",
         "50.675116964866874"
        ],
        [
         "1",
         "2026-01-01 01:00:00",
         "ERCOT",
         "46.473503316125665"
        ],
        [
         "2",
         "2026-01-01 02:00:00",
         "ERCOT",
         "47.82040896442764"
        ],
        [
         "3",
         "2026-01-01 03:00:00",
         "ERCOT",
         "51.18005867151888"
        ],
        [
         "4",
         "2026-01-01 04:00:00",
         "ERCOT",
         "54.314692648891636"
        ]
       ],
       "shape": {
        "columns": 3,
        "rows": 5
       }
      },
      "text/html": [
       "<div>\n",
       "<style scoped>\n",
       "    .dataframe tbody tr th:only-of-type {\n",
       "        vertical-align: middle;\n",
       "    }\n",
       "\n",
       "    .dataframe tbody tr th {\n",
       "        vertical-align: top;\n",
       "    }\n",
       "\n",
       "    .dataframe thead th {\n",
       "        text-align: right;\n",
       "    }\n",
       "</style>\n",
       "<table border=\"1\" class=\"dataframe\">\n",
       "  <thead>\n",
       "    <tr style=\"text-align: right;\">\n",
       "      <th></th>\n",
       "      <th>ts</th>\n",
       "      <th>market</th>\n",
       "      <th>hub_forward_hourly</th>\n",
       "    </tr>\n",
       "  </thead>\n",
       "  <tbody>\n",
       "    <tr>\n",
       "      <th>0</th>\n",
       "      <td>2026-01-01 00:00:00</td>\n",
       "      <td>ERCOT</td>\n",
       "      <td>50.675117</td>\n",
       "    </tr>\n",
       "    <tr>\n",
       "      <th>1</th>\n",
       "      <td>2026-01-01 01:00:00</td>\n",
       "      <td>ERCOT</td>\n",
       "      <td>46.473503</td>\n",
       "    </tr>\n",
       "    <tr>\n",
       "      <th>2</th>\n",
       "      <td>2026-01-01 02:00:00</td>\n",
       "      <td>ERCOT</td>\n",
       "      <td>47.820409</td>\n",
       "    </tr>\n",
       "    <tr>\n",
       "      <th>3</th>\n",
       "      <td>2026-01-01 03:00:00</td>\n",
       "      <td>ERCOT</td>\n",
       "      <td>51.180059</td>\n",
       "    </tr>\n",
       "    <tr>\n",
       "      <th>4</th>\n",
       "      <td>2026-01-01 04:00:00</td>\n",
       "      <td>ERCOT</td>\n",
       "      <td>54.314693</td>\n",
       "    </tr>\n",
       "  </tbody>\n",
       "</table>\n",
       "</div>"
      ],
      "text/plain": [
       "                   ts market  hub_forward_hourly\n",
       "0 2026-01-01 00:00:00  ERCOT           50.675117\n",
       "1 2026-01-01 01:00:00  ERCOT           46.473503\n",
       "2 2026-01-01 02:00:00  ERCOT           47.820409\n",
       "3 2026-01-01 03:00:00  ERCOT           51.180059\n",
       "4 2026-01-01 04:00:00  ERCOT           54.314693"
      ]
     },
     "execution_count": 13,
     "metadata": {},
     "output_type": "execute_result"
    }
   ],
   "source": [
    "\n",
    "hh_all = shape_monthly_to_hourly(fwd_all, shape_tbl, cal)\n",
    "hh = hh_all[hh_all[\"market\"] == MARKET].copy().sort_values(\"ts\").reset_index(drop=True)\n",
    "print(\"Hourly hub forward rows (ERCOT):\", len(hh))\n",
    "hh.head()\n"
   ]
  },
  {
   "cell_type": "code",
   "execution_count": 8,
   "id": "49f6a0bd",
   "metadata": {},
   "outputs": [
    {
     "data": {
      "application/vnd.microsoft.datawrangler.viewer.v0+json": {
       "columns": [
        {
         "name": "index",
         "rawType": "int64",
         "type": "integer"
        },
        {
         "name": "s",
         "rawType": "int64",
         "type": "integer"
        },
        {
         "name": "ts",
         "rawType": "datetime64[ns]",
         "type": "datetime"
        },
        {
         "name": "market",
         "rawType": "object",
         "type": "string"
        },
        {
         "name": "hub_rt",
         "rawType": "float64",
         "type": "float"
        },
        {
         "name": "node_rt",
         "rawType": "float64",
         "type": "float"
        },
        {
         "name": "hub_da",
         "rawType": "float64",
         "type": "float"
        },
        {
         "name": "node_da",
         "rawType": "float64",
         "type": "float"
        }
       ],
       "ref": "bc43b8c3-9141-4ad8-a845-71ee5a9bf608",
       "rows": [
        [
         "0",
         "0",
         "2026-01-01 00:00:00",
         "ERCOT",
         "50.675116964866874",
         "42.422707958735586",
         "50.675116964866874",
         "42.422707958735586"
        ],
        [
         "1",
         "0",
         "2026-01-01 01:00:00",
         "ERCOT",
         "46.473503316125665",
         "56.7129179875339",
         "46.473503316125665",
         "56.71291798753389"
        ],
        [
         "2",
         "0",
         "2026-01-01 02:00:00",
         "ERCOT",
         "47.82040896442764",
         "32.77886337853619",
         "47.82040896442764",
         "32.77886337853618"
        ],
        [
         "3",
         "0",
         "2026-01-01 03:00:00",
         "ERCOT",
         "51.18005867151888",
         "30.38919163487129",
         "51.18005867151888",
         "30.38919163487129"
        ],
        [
         "4",
         "0",
         "2026-01-01 04:00:00",
         "ERCOT",
         "54.314692648891636",
         "89.49592250993672",
         "54.314692648891636",
         "89.49592250993672"
        ]
       ],
       "shape": {
        "columns": 7,
        "rows": 5
       }
      },
      "text/html": [
       "<div>\n",
       "<style scoped>\n",
       "    .dataframe tbody tr th:only-of-type {\n",
       "        vertical-align: middle;\n",
       "    }\n",
       "\n",
       "    .dataframe tbody tr th {\n",
       "        vertical-align: top;\n",
       "    }\n",
       "\n",
       "    .dataframe thead th {\n",
       "        text-align: right;\n",
       "    }\n",
       "</style>\n",
       "<table border=\"1\" class=\"dataframe\">\n",
       "  <thead>\n",
       "    <tr style=\"text-align: right;\">\n",
       "      <th></th>\n",
       "      <th>s</th>\n",
       "      <th>ts</th>\n",
       "      <th>market</th>\n",
       "      <th>hub_rt</th>\n",
       "      <th>node_rt</th>\n",
       "      <th>hub_da</th>\n",
       "      <th>node_da</th>\n",
       "    </tr>\n",
       "  </thead>\n",
       "  <tbody>\n",
       "    <tr>\n",
       "      <th>0</th>\n",
       "      <td>0</td>\n",
       "      <td>2026-01-01 00:00:00</td>\n",
       "      <td>ERCOT</td>\n",
       "      <td>50.675117</td>\n",
       "      <td>42.422708</td>\n",
       "      <td>50.675117</td>\n",
       "      <td>42.422708</td>\n",
       "    </tr>\n",
       "    <tr>\n",
       "      <th>1</th>\n",
       "      <td>0</td>\n",
       "      <td>2026-01-01 01:00:00</td>\n",
       "      <td>ERCOT</td>\n",
       "      <td>46.473503</td>\n",
       "      <td>56.712918</td>\n",
       "      <td>46.473503</td>\n",
       "      <td>56.712918</td>\n",
       "    </tr>\n",
       "    <tr>\n",
       "      <th>2</th>\n",
       "      <td>0</td>\n",
       "      <td>2026-01-01 02:00:00</td>\n",
       "      <td>ERCOT</td>\n",
       "      <td>47.820409</td>\n",
       "      <td>32.778863</td>\n",
       "      <td>47.820409</td>\n",
       "      <td>32.778863</td>\n",
       "    </tr>\n",
       "    <tr>\n",
       "      <th>3</th>\n",
       "      <td>0</td>\n",
       "      <td>2026-01-01 03:00:00</td>\n",
       "      <td>ERCOT</td>\n",
       "      <td>51.180059</td>\n",
       "      <td>30.389192</td>\n",
       "      <td>51.180059</td>\n",
       "      <td>30.389192</td>\n",
       "    </tr>\n",
       "    <tr>\n",
       "      <th>4</th>\n",
       "      <td>0</td>\n",
       "      <td>2026-01-01 04:00:00</td>\n",
       "      <td>ERCOT</td>\n",
       "      <td>54.314693</td>\n",
       "      <td>89.495923</td>\n",
       "      <td>54.314693</td>\n",
       "      <td>89.495923</td>\n",
       "    </tr>\n",
       "  </tbody>\n",
       "</table>\n",
       "</div>"
      ],
      "text/plain": [
       "   s                  ts market     hub_rt    node_rt     hub_da    node_da\n",
       "0  0 2026-01-01 00:00:00  ERCOT  50.675117  42.422708  50.675117  42.422708\n",
       "1  0 2026-01-01 01:00:00  ERCOT  46.473503  56.712918  46.473503  56.712918\n",
       "2  0 2026-01-01 02:00:00  ERCOT  47.820409  32.778863  47.820409  32.778863\n",
       "3  0 2026-01-01 03:00:00  ERCOT  51.180059  30.389192  51.180059  30.389192\n",
       "4  0 2026-01-01 04:00:00  ERCOT  54.314693  89.495923  54.314693  89.495923"
      ]
     },
     "execution_count": 8,
     "metadata": {},
     "output_type": "execute_result"
    }
   ],
   "source": [
    "\n",
    "bs_rt = basis_stats(hist, price_col_hub=\"rt_hub\", price_col_node=\"rt_node\")\n",
    "sims_all = simulate_prices(hh, bs_rt, n_scenarios=SCENARIOS, seed=SEED)\n",
    "sims = sims_all[sims_all[\"market\"] == MARKET].copy().sort_values([\"s\",\"ts\"]).reset_index(drop=True)\n",
    "sims.head()\n"
   ]
  },
  {
   "cell_type": "code",
   "execution_count": 9,
   "id": "92292fee",
   "metadata": {},
   "outputs": [
    {
     "data": {
      "application/vnd.microsoft.datawrangler.viewer.v0+json": {
       "columns": [
        {
         "name": "index",
         "rawType": "int64",
         "type": "integer"
        },
        {
         "name": "ts",
         "rawType": "datetime64[ns]",
         "type": "datetime"
        },
        {
         "name": "hub_rt_mean",
         "rawType": "float64",
         "type": "float"
        },
        {
         "name": "hub_rt_median",
         "rawType": "float64",
         "type": "float"
        },
        {
         "name": "hub_rt_min",
         "rawType": "float64",
         "type": "float"
        },
        {
         "name": "hub_rt_max",
         "rawType": "float64",
         "type": "float"
        },
        {
         "name": "node_rt_mean",
         "rawType": "float64",
         "type": "float"
        },
        {
         "name": "node_rt_median",
         "rawType": "float64",
         "type": "float"
        },
        {
         "name": "node_rt_min",
         "rawType": "float64",
         "type": "float"
        },
        {
         "name": "node_rt_max",
         "rawType": "float64",
         "type": "float"
        },
        {
         "name": "hub_da_mean",
         "rawType": "float64",
         "type": "float"
        },
        {
         "name": "hub_da_median",
         "rawType": "float64",
         "type": "float"
        },
        {
         "name": "hub_da_min",
         "rawType": "float64",
         "type": "float"
        },
        {
         "name": "hub_da_max",
         "rawType": "float64",
         "type": "float"
        },
        {
         "name": "node_da_mean",
         "rawType": "float64",
         "type": "float"
        },
        {
         "name": "node_da_median",
         "rawType": "float64",
         "type": "float"
        },
        {
         "name": "node_da_min",
         "rawType": "float64",
         "type": "float"
        },
        {
         "name": "node_da_max",
         "rawType": "float64",
         "type": "float"
        }
       ],
       "ref": "af349a0b-a546-4ec0-a856-7652b4b9a867",
       "rows": [
        [
         "0",
         "2026-01-01 00:00:00",
         "50.675116964866874",
         "50.675116964866874",
         "50.675116964866874",
         "50.675116964866874",
         "46.12024664714184",
         "46.50654720252871",
         "12.944905118912743",
         "84.5810613783527",
         "50.675116964866874",
         "50.675116964866874",
         "50.675116964866874",
         "50.675116964866874",
         "46.12024664714184",
         "46.50654720252871",
         "12.944905118912743",
         "84.5810613783527"
        ],
        [
         "1",
         "2026-01-01 01:00:00",
         "46.473503316125665",
         "46.473503316125665",
         "46.473503316125665",
         "46.473503316125665",
         "41.469794670940765",
         "41.49731689070386",
         "2.3005804386365583",
         "89.1447660630549",
         "46.473503316125665",
         "46.473503316125665",
         "46.473503316125665",
         "46.473503316125665",
         "41.469794670940765",
         "41.49731689070386",
         "2.3005804386365583",
         "89.1447660630549"
        ],
        [
         "2",
         "2026-01-01 02:00:00",
         "47.82040896442764",
         "47.82040896442764",
         "47.82040896442764",
         "47.82040896442764",
         "43.248951322671395",
         "43.19984038409832",
         "-3.576474288740954",
         "92.01345493611187",
         "47.82040896442764",
         "47.82040896442764",
         "47.82040896442764",
         "47.82040896442764",
         "43.248951322671395",
         "43.19984038409832",
         "-3.576474288740954",
         "92.01345493611186"
        ],
        [
         "3",
         "2026-01-01 03:00:00",
         "51.18005867151888",
         "51.18005867151888",
         "51.18005867151888",
         "51.18005867151888",
         "47.72296636239958",
         "46.989022010268",
         "-7.539478336075497",
         "98.11774972306765",
         "51.18005867151888",
         "51.18005867151888",
         "51.18005867151888",
         "51.18005867151888",
         "47.72296636239958",
         "46.989022010268",
         "-7.539478336075497",
         "98.11774972306765"
        ],
        [
         "4",
         "2026-01-01 04:00:00",
         "54.314692648891636",
         "54.314692648891636",
         "54.314692648891636",
         "54.314692648891636",
         "50.10248589504258",
         "48.849045572316996",
         "1.7090854432828166",
         "115.62197475197246",
         "54.314692648891636",
         "54.314692648891636",
         "54.314692648891636",
         "54.314692648891636",
         "50.10248589504258",
         "48.84904557231698",
         "1.7090854432828166",
         "115.62197475197246"
        ]
       ],
       "shape": {
        "columns": 17,
        "rows": 5
       }
      },
      "text/html": [
       "<div>\n",
       "<style scoped>\n",
       "    .dataframe tbody tr th:only-of-type {\n",
       "        vertical-align: middle;\n",
       "    }\n",
       "\n",
       "    .dataframe tbody tr th {\n",
       "        vertical-align: top;\n",
       "    }\n",
       "\n",
       "    .dataframe thead th {\n",
       "        text-align: right;\n",
       "    }\n",
       "</style>\n",
       "<table border=\"1\" class=\"dataframe\">\n",
       "  <thead>\n",
       "    <tr style=\"text-align: right;\">\n",
       "      <th></th>\n",
       "      <th>ts</th>\n",
       "      <th>hub_rt_mean</th>\n",
       "      <th>hub_rt_median</th>\n",
       "      <th>hub_rt_min</th>\n",
       "      <th>hub_rt_max</th>\n",
       "      <th>node_rt_mean</th>\n",
       "      <th>node_rt_median</th>\n",
       "      <th>node_rt_min</th>\n",
       "      <th>node_rt_max</th>\n",
       "      <th>hub_da_mean</th>\n",
       "      <th>hub_da_median</th>\n",
       "      <th>hub_da_min</th>\n",
       "      <th>hub_da_max</th>\n",
       "      <th>node_da_mean</th>\n",
       "      <th>node_da_median</th>\n",
       "      <th>node_da_min</th>\n",
       "      <th>node_da_max</th>\n",
       "    </tr>\n",
       "  </thead>\n",
       "  <tbody>\n",
       "    <tr>\n",
       "      <th>0</th>\n",
       "      <td>2026-01-01 00:00:00</td>\n",
       "      <td>50.675117</td>\n",
       "      <td>50.675117</td>\n",
       "      <td>50.675117</td>\n",
       "      <td>50.675117</td>\n",
       "      <td>46.120247</td>\n",
       "      <td>46.506547</td>\n",
       "      <td>12.944905</td>\n",
       "      <td>84.581061</td>\n",
       "      <td>50.675117</td>\n",
       "      <td>50.675117</td>\n",
       "      <td>50.675117</td>\n",
       "      <td>50.675117</td>\n",
       "      <td>46.120247</td>\n",
       "      <td>46.506547</td>\n",
       "      <td>12.944905</td>\n",
       "      <td>84.581061</td>\n",
       "    </tr>\n",
       "    <tr>\n",
       "      <th>1</th>\n",
       "      <td>2026-01-01 01:00:00</td>\n",
       "      <td>46.473503</td>\n",
       "      <td>46.473503</td>\n",
       "      <td>46.473503</td>\n",
       "      <td>46.473503</td>\n",
       "      <td>41.469795</td>\n",
       "      <td>41.497317</td>\n",
       "      <td>2.300580</td>\n",
       "      <td>89.144766</td>\n",
       "      <td>46.473503</td>\n",
       "      <td>46.473503</td>\n",
       "      <td>46.473503</td>\n",
       "      <td>46.473503</td>\n",
       "      <td>41.469795</td>\n",
       "      <td>41.497317</td>\n",
       "      <td>2.300580</td>\n",
       "      <td>89.144766</td>\n",
       "    </tr>\n",
       "    <tr>\n",
       "      <th>2</th>\n",
       "      <td>2026-01-01 02:00:00</td>\n",
       "      <td>47.820409</td>\n",
       "      <td>47.820409</td>\n",
       "      <td>47.820409</td>\n",
       "      <td>47.820409</td>\n",
       "      <td>43.248951</td>\n",
       "      <td>43.199840</td>\n",
       "      <td>-3.576474</td>\n",
       "      <td>92.013455</td>\n",
       "      <td>47.820409</td>\n",
       "      <td>47.820409</td>\n",
       "      <td>47.820409</td>\n",
       "      <td>47.820409</td>\n",
       "      <td>43.248951</td>\n",
       "      <td>43.199840</td>\n",
       "      <td>-3.576474</td>\n",
       "      <td>92.013455</td>\n",
       "    </tr>\n",
       "    <tr>\n",
       "      <th>3</th>\n",
       "      <td>2026-01-01 03:00:00</td>\n",
       "      <td>51.180059</td>\n",
       "      <td>51.180059</td>\n",
       "      <td>51.180059</td>\n",
       "      <td>51.180059</td>\n",
       "      <td>47.722966</td>\n",
       "      <td>46.989022</td>\n",
       "      <td>-7.539478</td>\n",
       "      <td>98.117750</td>\n",
       "      <td>51.180059</td>\n",
       "      <td>51.180059</td>\n",
       "      <td>51.180059</td>\n",
       "      <td>51.180059</td>\n",
       "      <td>47.722966</td>\n",
       "      <td>46.989022</td>\n",
       "      <td>-7.539478</td>\n",
       "      <td>98.117750</td>\n",
       "    </tr>\n",
       "    <tr>\n",
       "      <th>4</th>\n",
       "      <td>2026-01-01 04:00:00</td>\n",
       "      <td>54.314693</td>\n",
       "      <td>54.314693</td>\n",
       "      <td>54.314693</td>\n",
       "      <td>54.314693</td>\n",
       "      <td>50.102486</td>\n",
       "      <td>48.849046</td>\n",
       "      <td>1.709085</td>\n",
       "      <td>115.621975</td>\n",
       "      <td>54.314693</td>\n",
       "      <td>54.314693</td>\n",
       "      <td>54.314693</td>\n",
       "      <td>54.314693</td>\n",
       "      <td>50.102486</td>\n",
       "      <td>48.849046</td>\n",
       "      <td>1.709085</td>\n",
       "      <td>115.621975</td>\n",
       "    </tr>\n",
       "  </tbody>\n",
       "</table>\n",
       "</div>"
      ],
      "text/plain": [
       "                   ts  hub_rt_mean  hub_rt_median  hub_rt_min  hub_rt_max  \\\n",
       "0 2026-01-01 00:00:00    50.675117      50.675117   50.675117   50.675117   \n",
       "1 2026-01-01 01:00:00    46.473503      46.473503   46.473503   46.473503   \n",
       "2 2026-01-01 02:00:00    47.820409      47.820409   47.820409   47.820409   \n",
       "3 2026-01-01 03:00:00    51.180059      51.180059   51.180059   51.180059   \n",
       "4 2026-01-01 04:00:00    54.314693      54.314693   54.314693   54.314693   \n",
       "\n",
       "   node_rt_mean  node_rt_median  node_rt_min  node_rt_max  hub_da_mean  \\\n",
       "0     46.120247       46.506547    12.944905    84.581061    50.675117   \n",
       "1     41.469795       41.497317     2.300580    89.144766    46.473503   \n",
       "2     43.248951       43.199840    -3.576474    92.013455    47.820409   \n",
       "3     47.722966       46.989022    -7.539478    98.117750    51.180059   \n",
       "4     50.102486       48.849046     1.709085   115.621975    54.314693   \n",
       "\n",
       "   hub_da_median  hub_da_min  hub_da_max  node_da_mean  node_da_median  \\\n",
       "0      50.675117   50.675117   50.675117     46.120247       46.506547   \n",
       "1      46.473503   46.473503   46.473503     41.469795       41.497317   \n",
       "2      47.820409   47.820409   47.820409     43.248951       43.199840   \n",
       "3      51.180059   51.180059   51.180059     47.722966       46.989022   \n",
       "4      54.314693   54.314693   54.314693     50.102486       48.849046   \n",
       "\n",
       "   node_da_min  node_da_max  \n",
       "0    12.944905    84.581061  \n",
       "1     2.300580    89.144766  \n",
       "2    -3.576474    92.013455  \n",
       "3    -7.539478    98.117750  \n",
       "4     1.709085   115.621975  "
      ]
     },
     "execution_count": 9,
     "metadata": {},
     "output_type": "execute_result"
    }
   ],
   "source": [
    "\n",
    "summary = sims.groupby(\"ts\")[[\"hub_rt\",\"node_rt\",\"hub_da\",\"node_da\"]].agg([\"mean\",\"median\",\"min\",\"max\"])\n",
    "summary.columns = [\"_\".join(col) for col in summary.columns]\n",
    "summary = summary.reset_index()\n",
    "summary.head()\n"
   ]
  },
  {
   "cell_type": "code",
   "execution_count": 10,
   "id": "e39b9ae0",
   "metadata": {},
   "outputs": [
    {
     "data": {
      "image/png": "[encoded data removed]",
      "text/plain": [
       "<Figure size 640x480 with 1 Axes>"
      ]
     },
     "metadata": {},
     "output_type": "display_data"
    }
   ],
   "source": [
    "\n",
    "import matplotlib.pyplot as plt\n",
    "\n",
    "first_period = summary.iloc[:24*30]\n",
    "plt.figure()\n",
    "plt.plot(first_period[\"ts\"], first_period[\"hub_rt_mean\"], label=\"Hub RT (mean)\")\n",
    "plt.plot(first_period[\"ts\"], first_period[\"node_rt_mean\"], label=\"Node RT (mean)\")\n",
    "plt.legend()\n",
    "plt.title(\"ERCOT Hourly Price (Scenario Mean) — First 30 Days\")\n",
    "plt.xlabel(\"Time\")\n",
    "plt.ylabel(\"$/MWh\")\n",
    "plt.xticks(rotation=45)\n",
    "plt.tight_layout()\n",
    "plt.show()\n"
   ]
  },
  {
   "cell_type": "code",
   "execution_count": 11,
   "id": "ad06ffec",
   "metadata": {},
   "outputs": [
    {
     "name": "stdout",
     "output_type": "stream",
     "text": [
      "Saved:\n",
      " - results/wind1_hourly_hub_forward.csv\n",
      " - results/wind1_sim_prices.parquet\n"
     ]
    }
   ],
   "source": [
    "\n",
    "results_dir = Path(\"results\")\n",
    "results_dir.mkdir(exist_ok=True)\n",
    "\n",
    "hh.to_csv(results_dir / \"wind1_hourly_hub_forward.csv\", index=False)\n",
    "sims.to_parquet(results_dir / \"wind1_sim_prices.parquet\", index=False)\n",
    "\n",
    "print(\"Saved:\")\n",
    "print(\" - results/wind1_hourly_hub_forward.csv\")\n",
    "print(\" - results/wind1_sim_prices.parquet\")\n"
   ]
  },
  {
   "cell_type": "code",
   "execution_count": 12,
   "id": "30a7f634",
   "metadata": {},
   "outputs": [
    {
     "data": {
      "application/vnd.microsoft.datawrangler.viewer.v0+json": {
       "columns": [
        {
         "name": "index",
         "rawType": "int64",
         "type": "integer"
        },
        {
         "name": "ts",
         "rawType": "object",
         "type": "string"
        },
        {
         "name": "market",
         "rawType": "object",
         "type": "string"
        },
        {
         "name": "hub_forward_hourly",
         "rawType": "float64",
         "type": "float"
        }
       ],
       "ref": "32e25110-3f06-44f3-ad00-52722c56b98a",
       "rows": [
        [
         "0",
         "2026-01-01 00:00:00",
         "ERCOT",
         "50.67511696486688"
        ],
        [
         "1",
         "2026-01-01 01:00:00",
         "ERCOT",
         "46.47350331612567"
        ],
        [
         "2",
         "2026-01-01 02:00:00",
         "ERCOT",
         "47.82040896442764"
        ]
       ],
       "shape": {
        "columns": 3,
        "rows": 3
       }
      },
      "text/html": [
       "<div>\n",
       "<style scoped>\n",
       "    .dataframe tbody tr th:only-of-type {\n",
       "        vertical-align: middle;\n",
       "    }\n",
       "\n",
       "    .dataframe tbody tr th {\n",
       "        vertical-align: top;\n",
       "    }\n",
       "\n",
       "    .dataframe thead th {\n",
       "        text-align: right;\n",
       "    }\n",
       "</style>\n",
       "<table border=\"1\" class=\"dataframe\">\n",
       "  <thead>\n",
       "    <tr style=\"text-align: right;\">\n",
       "      <th></th>\n",
       "      <th>ts</th>\n",
       "      <th>market</th>\n",
       "      <th>hub_forward_hourly</th>\n",
       "    </tr>\n",
       "  </thead>\n",
       "  <tbody>\n",
       "    <tr>\n",
       "      <th>0</th>\n",
       "      <td>2026-01-01 00:00:00</td>\n",
       "      <td>ERCOT</td>\n",
       "      <td>50.675117</td>\n",
       "    </tr>\n",
       "    <tr>\n",
       "      <th>1</th>\n",
       "      <td>2026-01-01 01:00:00</td>\n",
       "      <td>ERCOT</td>\n",
       "      <td>46.473503</td>\n",
       "    </tr>\n",
       "    <tr>\n",
       "      <th>2</th>\n",
       "      <td>2026-01-01 02:00:00</td>\n",
       "      <td>ERCOT</td>\n",
       "      <td>47.820409</td>\n",
       "    </tr>\n",
       "  </tbody>\n",
       "</table>\n",
       "</div>"
      ],
      "text/plain": [
       "                    ts market  hub_forward_hourly\n",
       "0  2026-01-01 00:00:00  ERCOT           50.675117\n",
       "1  2026-01-01 01:00:00  ERCOT           46.473503\n",
       "2  2026-01-01 02:00:00  ERCOT           47.820409"
      ]
     },
     "execution_count": 12,
     "metadata": {},
     "output_type": "execute_result"
    }
   ],
   "source": [
    "\n",
    "import pandas as pd\n",
    "pd.read_csv(\"results/wind1_hourly_hub_forward.csv\").head(3)\n"
   ]
  }
 ],
 "metadata": {
  "kernelspec": {
   "display_name": "base",
   "language": "python",
   "name": "python3"
  },
  "language_info": {
   "codemirror_mode": {
    "name": "ipython",
    "version": 3
   },
   "file_extension": ".py",
   "mimetype": "text/x-python",
   "name": "python",
   "nbconvert_exporter": "python",
   "pygments_lexer": "ipython3",
   "version": "3.11.8"
  }
 },
 "nbformat": 4,
 "nbformat_minor": 5
}
