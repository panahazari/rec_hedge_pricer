{
 "cells": [
  {
   "cell_type": "markdown",
   "id": "41679c2c",
   "metadata": {},
   "source": [
    "\n",
    "# End-to-End Valuation — From Monthly Forwards to Fixed Price (One Asset)\n",
    "\n",
    "This notebook starts from **monthly Peak/Off-Peak forwards** and produces :\n",
    "- Build **hourly hub forward curve (HPFC)** from monthly forwards\n",
    "- Add **basis** (hub↔node) and **DA–RT spread** structure from history\n",
    "- Generate **hourly simulations** for RT/DA at hub & node\n",
    "- Bootstrap **generation** from history\n",
    "- Solve **4 fixed prices** (RT/DA × Hub/Node) at **P75** and show sensitivity (P50/P90)\n",
    "- Plot **merchant vs fixed** and show a **price breakdown** waterfall\n"
   ]
  },
  {
   "cell_type": "code",
   "execution_count": 1,
   "id": "1d138ea3",
   "metadata": {},
   "outputs": [],
   "source": [
    "\n",
    "import yaml\n",
    "import numpy as np\n",
    "import pandas as pd\n",
    "from pathlib import Path\n",
    "import matplotlib.pyplot as plt\n",
    "\n",
    "from src.data.loader import load_data\n",
    "from src.features.calendar import make_calendar_index\n",
    "from src.models.shape import hub_hourly_shape\n",
    "from src.models.price import (\n",
    "    shape_monthly_to_hourly,\n",
    "    basis_stats,\n",
    "    da_spread_stats,\n",
    "    simulate_prices\n",
    ")\n",
    "from src.models.volume import bootstrap_generation\n",
    "from src.pricing.solve_price import (\n",
    "    solve_product_prices,\n",
    "    expected_generation_monthly,\n",
    "    compute_price_breakdown,\n",
    "    solve_prices_for_levels,\n",
    ")\n",
    "\n",
    "CONFIG_PATH = \"configs/project.yaml\"\n",
    "ASSET_NAME  = \"Wind_B\"\n",
    "MARKET      = \"MISO\"\n",
    "SEED        = 42\n",
    "SCENARIOS   = 100\n",
    "P_LEVEL     = 0.75\n",
    "P_GRID      = [0.50, 0.75, 0.90]\n",
    "\n",
    "cfg = yaml.safe_load(open(CONFIG_PATH, \"r\"))\n",
    "start_year = cfg[\"start_year\"]\n",
    "end_year   = cfg[\"end_year\"]\n",
    "neg_rule   = cfg.get(\"negative_price_rule\", \"include\")\n"
   ]
  },
  {
   "cell_type": "code",
   "execution_count": 2,
   "id": "66a27869",
   "metadata": {},
   "outputs": [
    {
     "name": "stderr",
     "output_type": "stream",
     "text": [
      "c:\\Users\\mpanah01\\Documents\\GitHub\\rec_hedge_pricer\\src\\data\\loader.py:28: UserWarning: Could not infer format, so each element will be parsed individually, falling back to `dateutil`. To ensure parsing is consistent and as-expected, please specify a format.\n",
      "  df['date'] = pd.to_datetime(df['date'])\n",
      "c:\\Users\\mpanah01\\Documents\\GitHub\\rec_hedge_pricer\\src\\data\\loader.py:28: UserWarning: Could not infer format, so each element will be parsed individually, falling back to `dateutil`. To ensure parsing is consistent and as-expected, please specify a format.\n",
      "  df['date'] = pd.to_datetime(df['date'])\n",
      "c:\\Users\\mpanah01\\Documents\\GitHub\\rec_hedge_pricer\\src\\data\\loader.py:28: UserWarning: Could not infer format, so each element will be parsed individually, falling back to `dateutil`. To ensure parsing is consistent and as-expected, please specify a format.\n",
      "  df['date'] = pd.to_datetime(df['date'])\n"
     ]
    },
    {
     "name": "stdout",
     "output_type": "stream",
     "text": [
      "Historical rows (market): 26304\n",
      "Historical rows (asset): 26304\n"
     ]
    },
    {
     "name": "stderr",
     "output_type": "stream",
     "text": [
      "c:\\Users\\mpanah01\\Documents\\GitHub\\rec_hedge_pricer\\src\\data\\loader.py:93: UserWarning: Could not infer format, so each element will be parsed individually, falling back to `dateutil`. To ensure parsing is consistent and as-expected, please specify a format.\n",
      "  parsed = parsed.fillna(pd.to_datetime(s, errors=\"coerce\"))\n",
      "c:\\Users\\mpanah01\\Documents\\GitHub\\rec_hedge_pricer\\src\\data\\loader.py:93: UserWarning: Could not infer format, so each element will be parsed individually, falling back to `dateutil`. To ensure parsing is consistent and as-expected, please specify a format.\n",
      "  parsed = parsed.fillna(pd.to_datetime(s, errors=\"coerce\"))\n",
      "c:\\Users\\mpanah01\\Documents\\GitHub\\rec_hedge_pricer\\src\\data\\loader.py:93: UserWarning: Could not infer format, so each element will be parsed individually, falling back to `dateutil`. To ensure parsing is consistent and as-expected, please specify a format.\n",
      "  parsed = parsed.fillna(pd.to_datetime(s, errors=\"coerce\"))\n"
     ]
    },
    {
     "data": {
      "application/vnd.microsoft.datawrangler.viewer.v0+json": {
       "columns": [
        {
         "name": "index",
         "rawType": "int64",
         "type": "integer"
        },
        {
         "name": "date",
         "rawType": "datetime64[ns]",
         "type": "datetime"
        },
        {
         "name": "he",
         "rawType": "int32",
         "type": "integer"
        },
        {
         "name": "peak_flag",
         "rawType": "object",
         "type": "string"
        },
        {
         "name": "gen_mwh",
         "rawType": "float64",
         "type": "float"
        },
        {
         "name": "rt_node",
         "rawType": "float64",
         "type": "float"
        },
        {
         "name": "rt_hub",
         "rawType": "float64",
         "type": "float"
        },
        {
         "name": "da_node",
         "rawType": "float64",
         "type": "float"
        },
        {
         "name": "da_hub",
         "rawType": "float64",
         "type": "float"
        },
        {
         "name": "asset",
         "rawType": "object",
         "type": "string"
        },
        {
         "name": "market",
         "rawType": "object",
         "type": "string"
        }
       ],
       "ref": "1720f346-cc2a-4427-b35e-00bb97d0cd73",
       "rows": [
        [
         "26304",
         "2022-01-01 00:00:00",
         "1",
         "OP",
         "15.4",
         "20.57",
         "21.01",
         "5.2",
         "22.16",
         "Wind_B",
         "MISO"
        ],
        [
         "26305",
         "2022-01-01 00:00:00",
         "2",
         "OP",
         "19.6",
         "20.87",
         "22.41",
         "5.61",
         "22.02",
         "Wind_B",
         "MISO"
        ],
        [
         "26306",
         "2022-01-01 00:00:00",
         "3",
         "OP",
         "16.4",
         "20.84",
         "20.6",
         "3.9",
         "22.34",
         "Wind_B",
         "MISO"
        ]
       ],
       "shape": {
        "columns": 10,
        "rows": 3
       }
      },
      "text/html": [
       "<div>\n",
       "<style scoped>\n",
       "    .dataframe tbody tr th:only-of-type {\n",
       "        vertical-align: middle;\n",
       "    }\n",
       "\n",
       "    .dataframe tbody tr th {\n",
       "        vertical-align: top;\n",
       "    }\n",
       "\n",
       "    .dataframe thead th {\n",
       "        text-align: right;\n",
       "    }\n",
       "</style>\n",
       "<table border=\"1\" class=\"dataframe\">\n",
       "  <thead>\n",
       "    <tr style=\"text-align: right;\">\n",
       "      <th></th>\n",
       "      <th>date</th>\n",
       "      <th>he</th>\n",
       "      <th>peak_flag</th>\n",
       "      <th>gen_mwh</th>\n",
       "      <th>rt_node</th>\n",
       "      <th>rt_hub</th>\n",
       "      <th>da_node</th>\n",
       "      <th>da_hub</th>\n",
       "      <th>asset</th>\n",
       "      <th>market</th>\n",
       "    </tr>\n",
       "  </thead>\n",
       "  <tbody>\n",
       "    <tr>\n",
       "      <th>26304</th>\n",
       "      <td>2022-01-01</td>\n",
       "      <td>1</td>\n",
       "      <td>OP</td>\n",
       "      <td>15.4</td>\n",
       "      <td>20.57</td>\n",
       "      <td>21.01</td>\n",
       "      <td>5.20</td>\n",
       "      <td>22.16</td>\n",
       "      <td>Wind_B</td>\n",
       "      <td>MISO</td>\n",
       "    </tr>\n",
       "    <tr>\n",
       "      <th>26305</th>\n",
       "      <td>2022-01-01</td>\n",
       "      <td>2</td>\n",
       "      <td>OP</td>\n",
       "      <td>19.6</td>\n",
       "      <td>20.87</td>\n",
       "      <td>22.41</td>\n",
       "      <td>5.61</td>\n",
       "      <td>22.02</td>\n",
       "      <td>Wind_B</td>\n",
       "      <td>MISO</td>\n",
       "    </tr>\n",
       "    <tr>\n",
       "      <th>26306</th>\n",
       "      <td>2022-01-01</td>\n",
       "      <td>3</td>\n",
       "      <td>OP</td>\n",
       "      <td>16.4</td>\n",
       "      <td>20.84</td>\n",
       "      <td>20.60</td>\n",
       "      <td>3.90</td>\n",
       "      <td>22.34</td>\n",
       "      <td>Wind_B</td>\n",
       "      <td>MISO</td>\n",
       "    </tr>\n",
       "  </tbody>\n",
       "</table>\n",
       "</div>"
      ],
      "text/plain": [
       "            date  he peak_flag  gen_mwh  rt_node  rt_hub  da_node  da_hub  \\\n",
       "26304 2022-01-01   1        OP     15.4    20.57   21.01     5.20   22.16   \n",
       "26305 2022-01-01   2        OP     19.6    20.87   22.41     5.61   22.02   \n",
       "26306 2022-01-01   3        OP     16.4    20.84   20.60     3.90   22.34   \n",
       "\n",
       "        asset market  \n",
       "26304  Wind_B   MISO  \n",
       "26305  Wind_B   MISO  \n",
       "26306  Wind_B   MISO  "
      ]
     },
     "metadata": {},
     "output_type": "display_data"
    }
   ],
   "source": [
    "\n",
    "hist_all, fwd_all = load_data(cfg)\n",
    "hist = hist_all[hist_all['market'] == MARKET].copy()\n",
    "hist_asset = hist_all[(hist_all['market']==MARKET) & (hist_all['asset']==ASSET_NAME)].copy()\n",
    "\n",
    "print(\"Historical rows (market):\", len(hist))\n",
    "print(\"Historical rows (asset):\", len(hist_asset))\n",
    "display(hist_asset.head(3))\n",
    "\n",
    "for col in ['gen_mwh','rt_hub','rt_node','da_hub','da_node']:\n",
    "    hist[col] = pd.to_numeric(hist[col], errors='coerce')\n",
    "    hist_asset[col] = pd.to_numeric(hist_asset[col], errors='coerce')\n"
   ]
  },
  {
   "cell_type": "code",
   "execution_count": 3,
   "id": "3d213b76",
   "metadata": {},
   "outputs": [
    {
     "data": {
      "application/vnd.microsoft.datawrangler.viewer.v0+json": {
       "columns": [
        {
         "name": "index",
         "rawType": "int64",
         "type": "integer"
        },
        {
         "name": "ts",
         "rawType": "datetime64[ns]",
         "type": "datetime"
        },
        {
         "name": "date",
         "rawType": "object",
         "type": "unknown"
        },
        {
         "name": "he",
         "rawType": "int32",
         "type": "integer"
        },
        {
         "name": "month",
         "rawType": "datetime64[ns]",
         "type": "datetime"
        },
        {
         "name": "weekday",
         "rawType": "int32",
         "type": "integer"
        }
       ],
       "ref": "78a98163-74c6-4074-9468-068a88bf798b",
       "rows": [
        [
         "0",
         "2026-01-01 00:00:00",
         "2026-01-01",
         "1",
         "2026-01-01 00:00:00",
         "3"
        ],
        [
         "1",
         "2026-01-01 01:00:00",
         "2026-01-01",
         "2",
         "2026-01-01 00:00:00",
         "3"
        ],
        [
         "2",
         "2026-01-01 02:00:00",
         "2026-01-01",
         "3",
         "2026-01-01 00:00:00",
         "3"
        ],
        [
         "3",
         "2026-01-01 03:00:00",
         "2026-01-01",
         "4",
         "2026-01-01 00:00:00",
         "3"
        ],
        [
         "4",
         "2026-01-01 04:00:00",
         "2026-01-01",
         "5",
         "2026-01-01 00:00:00",
         "3"
        ]
       ],
       "shape": {
        "columns": 5,
        "rows": 5
       }
      },
      "text/html": [
       "<div>\n",
       "<style scoped>\n",
       "    .dataframe tbody tr th:only-of-type {\n",
       "        vertical-align: middle;\n",
       "    }\n",
       "\n",
       "    .dataframe tbody tr th {\n",
       "        vertical-align: top;\n",
       "    }\n",
       "\n",
       "    .dataframe thead th {\n",
       "        text-align: right;\n",
       "    }\n",
       "</style>\n",
       "<table border=\"1\" class=\"dataframe\">\n",
       "  <thead>\n",
       "    <tr style=\"text-align: right;\">\n",
       "      <th></th>\n",
       "      <th>ts</th>\n",
       "      <th>date</th>\n",
       "      <th>he</th>\n",
       "      <th>month</th>\n",
       "      <th>weekday</th>\n",
       "    </tr>\n",
       "  </thead>\n",
       "  <tbody>\n",
       "    <tr>\n",
       "      <th>0</th>\n",
       "      <td>2026-01-01 00:00:00</td>\n",
       "      <td>2026-01-01</td>\n",
       "      <td>1</td>\n",
       "      <td>2026-01-01</td>\n",
       "      <td>3</td>\n",
       "    </tr>\n",
       "    <tr>\n",
       "      <th>1</th>\n",
       "      <td>2026-01-01 01:00:00</td>\n",
       "      <td>2026-01-01</td>\n",
       "      <td>2</td>\n",
       "      <td>2026-01-01</td>\n",
       "      <td>3</td>\n",
       "    </tr>\n",
       "    <tr>\n",
       "      <th>2</th>\n",
       "      <td>2026-01-01 02:00:00</td>\n",
       "      <td>2026-01-01</td>\n",
       "      <td>3</td>\n",
       "      <td>2026-01-01</td>\n",
       "      <td>3</td>\n",
       "    </tr>\n",
       "    <tr>\n",
       "      <th>3</th>\n",
       "      <td>2026-01-01 03:00:00</td>\n",
       "      <td>2026-01-01</td>\n",
       "      <td>4</td>\n",
       "      <td>2026-01-01</td>\n",
       "      <td>3</td>\n",
       "    </tr>\n",
       "    <tr>\n",
       "      <th>4</th>\n",
       "      <td>2026-01-01 04:00:00</td>\n",
       "      <td>2026-01-01</td>\n",
       "      <td>5</td>\n",
       "      <td>2026-01-01</td>\n",
       "      <td>3</td>\n",
       "    </tr>\n",
       "  </tbody>\n",
       "</table>\n",
       "</div>"
      ],
      "text/plain": [
       "                   ts        date  he      month  weekday\n",
       "0 2026-01-01 00:00:00  2026-01-01   1 2026-01-01        3\n",
       "1 2026-01-01 01:00:00  2026-01-01   2 2026-01-01        3\n",
       "2 2026-01-01 02:00:00  2026-01-01   3 2026-01-01        3\n",
       "3 2026-01-01 03:00:00  2026-01-01   4 2026-01-01        3\n",
       "4 2026-01-01 04:00:00  2026-01-01   5 2026-01-01        3"
      ]
     },
     "execution_count": 3,
     "metadata": {},
     "output_type": "execute_result"
    }
   ],
   "source": [
    "\n",
    "cal = make_calendar_index(start_year, end_year)\n",
    "cal.head()\n"
   ]
  },
  {
   "cell_type": "markdown",
   "id": "2109d238",
   "metadata": {},
   "source": [
    "### Hourly Shape, Basis, and DA–RT Spreads \n",
    "\n",
    "We extract three building blocks from historical data `hist` to drive the forward-consistent hourly curve and simulations.\n",
    "\n",
    "#### 1) Hourly hub shape — `hub_hourly_shape(hist)`\n",
    "For month-of-year $m_o \\in \\{1,\\dots,12\\}$ and hour-ending $h \\in \\{1,\\dots,24\\}$, define the **hourly shape**:\n",
    "$$\n",
    "S_{m_o,h}\n",
    "= \\frac{\\mathbb{E}\\!\\left[\\text{RT}^{\\text{hub}}_{\\tau}\\mid \\text{mon}(\\tau)=m_o,\\ \\text{HE}(\\tau)=h\\right]}\n",
    "        {\\mathbb{E}\\!\\left[\\text{RT}^{\\text{hub}}_{\\tau}\\mid \\text{mon}(\\tau)=m_o\\right]}.\n",
    "$$\n",
    "- Numerator: average historical **hub RT** at $(m_o,h)$  \n",
    "- Denominator: historical monthly average for the same $m_o$  \n",
    "- Used to **shape monthly Peak/Off-Peak forwards into hourly** while preserving bucket means.\n",
    "\n",
    "**Typical columns:** `market, mon, hour, shape`.\n",
    "\n",
    "\n",
    "#### 2) Real-time hub↔node basis — `basis_stats(hist, price_col_hub='rt_hub', price_col_node='rt_node')`\n",
    "Define the **RT basis** at hour $\\tau$:\n",
    "$$\n",
    "\\text{Basis}^{\\text{RT}}_{\\tau} = \\text{RT}^{\\text{hub}}_{\\tau} - \\text{RT}^{\\text{node}}_{\\tau}.\n",
    "$$\n",
    "Aggregate by $(\\text{market}, m_o, h)$:\n",
    "$$\n",
    "B_{m_o,h}=\\mathbb{E}\\!\\left[\\text{Basis}^{\\text{RT}}_{\\tau}\\mid \\text{mon}(\\tau)=m_o,\\ \\text{HE}(\\tau)=h\\right],\\qquad\n",
    "\\sigma^{B}_{m_o,h}=\\operatorname{Std}\\!\\left[\\text{Basis}^{\\text{RT}}_{\\tau}\\mid \\cdot\\right].\n",
    "$$\n",
    "- $B_{m_o,h}$: expected hub→node conversion in RT for that seasonal hour  \n",
    "- $\\sigma^{B}_{m_o,h}$: basis volatility (used to simulate node prices)\n",
    "\n",
    "**Typical columns:** `market, mon, hour, mean, std`.\n",
    "\n",
    "\n",
    "#### 3) Day-ahead minus Real-time spreads — `da_spread_stats(hist, level='hub'|'node')`\n",
    "For **hub**:\n",
    "$$\n",
    "\\text{Spr}^{\\text{hub}}_{\\tau}=\\text{DA}^{\\text{hub}}_{\\tau}-\\text{RT}^{\\text{hub}}_{\\tau}.\n",
    "$$\n",
    "For **node**:\n",
    "$$\n",
    "\\text{Spr}^{\\text{node}}_{\\tau}=\\text{DA}^{\\text{node}}_{\\tau}-\\text{RT}^{\\text{node}}_{\\tau}.\n",
    "$$\n",
    "Aggregate by $(\\text{market}, m_o, h)$:\n",
    "$$\n",
    "S^{\\text{hub}}_{m_o,h}=\\mathbb{E}\\!\\left[\\text{Spr}^{\\text{hub}}_{\\tau}\\mid \\cdot\\right],\\quad\n",
    "\\sigma^{\\text{hub}}_{m_o,h}=\\operatorname{Std}\\!\\left[\\text{Spr}^{\\text{hub}}_{\\tau}\\mid \\cdot\\right],\n",
    "$$\n",
    "$$\n",
    "S^{\\text{node}}_{m_o,h}=\\mathbb{E}\\!\\left[\\text{Spr}^{\\text{node}}_{\\tau}\\mid \\cdot\\right],\\quad\n",
    "\\sigma^{\\text{node}}_{m_o,h}=\\operatorname{Std}\\!\\left[\\text{Spr}^{\\text{node}}_{\\tau}\\mid \\cdot\\right].\n",
    "$$\n",
    "- Expected DA uplift/discount vs RT and its volatility at hub/node by seasonal hour\n",
    "\n",
    "**Typical columns:** `market, mon, hour, mean, std`.\n",
    "\n",
    "\n"
   ]
  },
  {
   "cell_type": "code",
   "execution_count": 4,
   "id": "ae646efc",
   "metadata": {},
   "outputs": [
    {
     "name": "stdout",
     "output_type": "stream",
     "text": [
      "shape rows: 288  | basis rows: 288  | spread rows: 288 288\n"
     ]
    },
    {
     "data": {
      "application/vnd.microsoft.datawrangler.viewer.v0+json": {
       "columns": [
        {
         "name": "index",
         "rawType": "int64",
         "type": "integer"
        },
        {
         "name": "market",
         "rawType": "object",
         "type": "string"
        },
        {
         "name": "mon",
         "rawType": "int32",
         "type": "integer"
        },
        {
         "name": "hour",
         "rawType": "int32",
         "type": "integer"
        },
        {
         "name": "mean",
         "rawType": "float64",
         "type": "float"
        },
        {
         "name": "std",
         "rawType": "float64",
         "type": "float"
        }
       ],
       "ref": "7b67f4b3-2a32-45b3-83be-48a3a4f38363",
       "rows": [
        [
         "0",
         "MISO",
         "1",
         "1",
         "4.976344086021505",
         "12.857869759407391"
        ],
        [
         "1",
         "MISO",
         "1",
         "2",
         "4.8569892473118275",
         "10.69619505538893"
        ],
        [
         "2",
         "MISO",
         "1",
         "3",
         "4.9286021505376345",
         "10.681773138042391"
        ]
       ],
       "shape": {
        "columns": 5,
        "rows": 3
       }
      },
      "text/html": [
       "<div>\n",
       "<style scoped>\n",
       "    .dataframe tbody tr th:only-of-type {\n",
       "        vertical-align: middle;\n",
       "    }\n",
       "\n",
       "    .dataframe tbody tr th {\n",
       "        vertical-align: top;\n",
       "    }\n",
       "\n",
       "    .dataframe thead th {\n",
       "        text-align: right;\n",
       "    }\n",
       "</style>\n",
       "<table border=\"1\" class=\"dataframe\">\n",
       "  <thead>\n",
       "    <tr style=\"text-align: right;\">\n",
       "      <th></th>\n",
       "      <th>market</th>\n",
       "      <th>mon</th>\n",
       "      <th>hour</th>\n",
       "      <th>mean</th>\n",
       "      <th>std</th>\n",
       "    </tr>\n",
       "  </thead>\n",
       "  <tbody>\n",
       "    <tr>\n",
       "      <th>0</th>\n",
       "      <td>MISO</td>\n",
       "      <td>1</td>\n",
       "      <td>1</td>\n",
       "      <td>4.976344</td>\n",
       "      <td>12.857870</td>\n",
       "    </tr>\n",
       "    <tr>\n",
       "      <th>1</th>\n",
       "      <td>MISO</td>\n",
       "      <td>1</td>\n",
       "      <td>2</td>\n",
       "      <td>4.856989</td>\n",
       "      <td>10.696195</td>\n",
       "    </tr>\n",
       "    <tr>\n",
       "      <th>2</th>\n",
       "      <td>MISO</td>\n",
       "      <td>1</td>\n",
       "      <td>3</td>\n",
       "      <td>4.928602</td>\n",
       "      <td>10.681773</td>\n",
       "    </tr>\n",
       "  </tbody>\n",
       "</table>\n",
       "</div>"
      ],
      "text/plain": [
       "  market  mon  hour      mean        std\n",
       "0   MISO    1     1  4.976344  12.857870\n",
       "1   MISO    1     2  4.856989  10.696195\n",
       "2   MISO    1     3  4.928602  10.681773"
      ]
     },
     "metadata": {},
     "output_type": "display_data"
    }
   ],
   "source": [
    "\n",
    "shape_tbl = hub_hourly_shape(hist)\n",
    "bs_rt   = basis_stats(hist, price_col_hub='rt_hub', price_col_node='rt_node')\n",
    "spr_hub = da_spread_stats(hist, level='hub')\n",
    "spr_node= da_spread_stats(hist, level='node')\n",
    "\n",
    "print(\"shape rows:\", len(shape_tbl), \" | basis rows:\", len(bs_rt), \" | spread rows:\", len(spr_hub), len(spr_node))\n",
    "display(bs_rt.head(3))\n"
   ]
  },
  {
   "cell_type": "code",
   "execution_count": 5,
   "id": "16e8e65f",
   "metadata": {},
   "outputs": [
    {
     "name": "stdout",
     "output_type": "stream",
     "text": [
      "Hourly hub forward rows (market): 43824\n"
     ]
    },
    {
     "data": {
      "application/vnd.microsoft.datawrangler.viewer.v0+json": {
       "columns": [
        {
         "name": "index",
         "rawType": "int64",
         "type": "integer"
        },
        {
         "name": "ts",
         "rawType": "datetime64[ns]",
         "type": "datetime"
        },
        {
         "name": "market",
         "rawType": "object",
         "type": "string"
        },
        {
         "name": "hub_forward_hourly",
         "rawType": "float64",
         "type": "float"
        }
       ],
       "ref": "778b4433-d985-417b-9cd3-d190a4773e02",
       "rows": [
        [
         "0",
         "2026-01-01 00:00:00",
         "MISO",
         "41.12871103744031"
        ],
        [
         "1",
         "2026-01-01 01:00:00",
         "MISO",
         "38.1274001628878"
        ],
        [
         "2",
         "2026-01-01 02:00:00",
         "MISO",
         "34.949435707325165"
        ],
        [
         "3",
         "2026-01-01 03:00:00",
         "MISO",
         "35.57902994505727"
        ],
        [
         "4",
         "2026-01-01 04:00:00",
         "MISO",
         "37.59120362274929"
        ]
       ],
       "shape": {
        "columns": 3,
        "rows": 5
       }
      },
      "text/html": [
       "<div>\n",
       "<style scoped>\n",
       "    .dataframe tbody tr th:only-of-type {\n",
       "        vertical-align: middle;\n",
       "    }\n",
       "\n",
       "    .dataframe tbody tr th {\n",
       "        vertical-align: top;\n",
       "    }\n",
       "\n",
       "    .dataframe thead th {\n",
       "        text-align: right;\n",
       "    }\n",
       "</style>\n",
       "<table border=\"1\" class=\"dataframe\">\n",
       "  <thead>\n",
       "    <tr style=\"text-align: right;\">\n",
       "      <th></th>\n",
       "      <th>ts</th>\n",
       "      <th>market</th>\n",
       "      <th>hub_forward_hourly</th>\n",
       "    </tr>\n",
       "  </thead>\n",
       "  <tbody>\n",
       "    <tr>\n",
       "      <th>0</th>\n",
       "      <td>2026-01-01 00:00:00</td>\n",
       "      <td>MISO</td>\n",
       "      <td>41.128711</td>\n",
       "    </tr>\n",
       "    <tr>\n",
       "      <th>1</th>\n",
       "      <td>2026-01-01 01:00:00</td>\n",
       "      <td>MISO</td>\n",
       "      <td>38.127400</td>\n",
       "    </tr>\n",
       "    <tr>\n",
       "      <th>2</th>\n",
       "      <td>2026-01-01 02:00:00</td>\n",
       "      <td>MISO</td>\n",
       "      <td>34.949436</td>\n",
       "    </tr>\n",
       "    <tr>\n",
       "      <th>3</th>\n",
       "      <td>2026-01-01 03:00:00</td>\n",
       "      <td>MISO</td>\n",
       "      <td>35.579030</td>\n",
       "    </tr>\n",
       "    <tr>\n",
       "      <th>4</th>\n",
       "      <td>2026-01-01 04:00:00</td>\n",
       "      <td>MISO</td>\n",
       "      <td>37.591204</td>\n",
       "    </tr>\n",
       "  </tbody>\n",
       "</table>\n",
       "</div>"
      ],
      "text/plain": [
       "                   ts market  hub_forward_hourly\n",
       "0 2026-01-01 00:00:00   MISO           41.128711\n",
       "1 2026-01-01 01:00:00   MISO           38.127400\n",
       "2 2026-01-01 02:00:00   MISO           34.949436\n",
       "3 2026-01-01 03:00:00   MISO           35.579030\n",
       "4 2026-01-01 04:00:00   MISO           37.591204"
      ]
     },
     "metadata": {},
     "output_type": "display_data"
    },
    {
     "data": {
      "image/png": "[encoded data removed]",
      "text/plain": [
       "<Figure size 640x480 with 1 Axes>"
      ]
     },
     "metadata": {},
     "output_type": "display_data"
    }
   ],
   "source": [
    "\n",
    "hh_all = shape_monthly_to_hourly(fwd_all, shape_tbl, cal)\n",
    "hh = hh_all[hh_all['market']==MARKET].copy().sort_values('ts').reset_index(drop=True)\n",
    "\n",
    "print(\"Hourly hub forward rows (market):\", len(hh))\n",
    "display(hh.head(5))\n",
    "\n",
    "import numpy as np\n",
    "hh_plot = hh.copy()\n",
    "hh_plot['ts'] = pd.to_datetime(hh_plot['ts'])\n",
    "t0 = hh_plot['ts'].min()\n",
    "t1 = t0 + pd.Timedelta(days=3)\n",
    "hh_3d = hh_plot[(hh_plot['ts']>=t0) & (hh_plot['ts']<t1)].copy().sort_values('ts')\n",
    "he = hh_3d['ts'].dt.hour + 1\n",
    "is_peak = (hh_3d['ts'].dt.weekday <= 4) & (he.between(7,22))\n",
    "\n",
    "m0 = pd.Timestamp(hh_3d['ts'].iloc[0]).to_period('M').to_timestamp()\n",
    "fwd_row = fwd_all[(fwd_all['market']==MARKET) & (fwd_all['month']==m0)]\n",
    "if fwd_row.empty:\n",
    "    print(\"WARNING: No fwd row for\", MARKET, m0)\n",
    "peak_val, off_val = float(fwd_row['peak'].iloc[0]), float(fwd_row['offpeak'].iloc[0])\n",
    "fwd_bucket_series = np.where(is_peak, peak_val, off_val)\n",
    "\n",
    "hist_mkt = hist.sort_values('date')\n",
    "hist_72 = hist_mkt[['date','rt_hub']].iloc[:72].copy()\n",
    "hist_72['ts'] = hh_3d['ts'].values\n",
    "\n",
    "plt.figure()\n",
    "plt.plot(hh_3d['ts'], hh_3d['hub_forward_hourly'], label='Hourly Hub Forward (shaped)')\n",
    "plt.plot(hh_3d['ts'], fwd_bucket_series, label='Monthly Forward (Peak/Off-Peak)')\n",
    "plt.plot(hist_72['ts'], hist_72['rt_hub'], label='Historical RT Hub (first 72 hrs, aligned)')\n",
    "plt.title(f'{MARKET} — First 3 Days: Hourly Hub Forward vs Monthly vs History')\n",
    "plt.xlabel('Time'); plt.ylabel('$/MWh'); plt.xticks(rotation=45); plt.legend(); plt.tight_layout(); plt.show()\n"
   ]
  },
  {
   "cell_type": "markdown",
   "id": "c2250e62",
   "metadata": {},
   "source": [
    "### Hourly Price Simulation and RT Mean Plot \n",
    "\n",
    "We generate **hourly price scenarios** for the valuation horizon using the forward-shaped hub curve and historical basis/DA–RT statistics.\n",
    "\n",
    "#### 1) Simulate RT/DA at hub and node — `simulate_prices(...)`\n",
    "\n",
    "For each hour $t$ (with month-of-year $m_o$ and hour-ending $h$) and scenario $s$:\n",
    "\n",
    "- **Hub RT** is anchored to the hourly hub forward (HPFC):\n",
    "  $$\n",
    "  \\text{RT}^{\\text{hub}}_{t,s} \\;=\\; H_t\n",
    "  $$\n",
    "\n",
    "- **RT basis** (hub→node) is stochastic with seasonal-hour mean/vol:\n",
    "  $$\n",
    "  \\text{Basis}^{\\text{RT}}_{t,s}\n",
    "  \\;=\\; B_{m_o,h} \\;+\\; \\sigma^B_{m_o,h}\\,\\epsilon^B_{t,s},\n",
    "  \\qquad \\epsilon^B_{t,s}\\sim \\mathcal{N}(0,1)\n",
    "  $$\n",
    "\n",
    "- **Node RT** subtracts that basis from hub RT:\n",
    "  $$\n",
    "  \\text{RT}^{\\text{node}}_{t,s} \\;=\\; \\text{RT}^{\\text{hub}}_{t,s} \\;-\\; \\text{Basis}^{\\text{RT}}_{t,s}\n",
    "  $$\n",
    "\n",
    "- **DA–RT spreads** at hub/node are also stochastic with seasonal-hour mean/vol:\n",
    "  $$\n",
    "  \\text{Spr}^{\\text{hub}}_{t,s}\n",
    "  \\;=\\; S^{\\text{hub}}_{m_o,h} \\;+\\; \\sigma^{\\text{hub}}_{m_o,h}\\,\\epsilon^{\\text{hub}}_{t,s},\n",
    "  \\qquad \\epsilon^{\\text{hub}}_{t,s}\\sim \\mathcal{N}(0,1)\n",
    "  $$\n",
    "  $$\n",
    "  \\text{Spr}^{\\text{node}}_{t,s}\n",
    "  \\;=\\; S^{\\text{node}}_{m_o,h} \\;+\\; \\sigma^{\\text{node}}_{m_o,h}\\,\\epsilon^{\\text{node}}_{t,s},\n",
    "  \\qquad \\epsilon^{\\text{node}}_{t,s}\\sim \\mathcal{N}(0,1)\n",
    "  $$\n",
    "\n",
    "- **DA prices** are RT plus the DA–RT spread:\n",
    "  $$\n",
    "  \\text{DA}^{\\text{hub}}_{t,s} \\;=\\; \\text{RT}^{\\text{hub}}_{t,s} \\;+\\; \\text{Spr}^{\\text{hub}}_{t,s},\n",
    "  \\qquad\n",
    "  \\text{DA}^{\\text{node}}_{t,s} \\;=\\; \\text{RT}^{\\text{node}}_{t,s} \\;+\\; \\text{Spr}^{\\text{node}}_{t,s}\n",
    "  $$\n",
    "\n",
    "Inputs:\n",
    "- `hh` provides $H_t$ (hourly hub forward).\n",
    "- `bs_rt` provides $B_{m_o,h}, \\sigma^B_{m_o,h}$.\n",
    "- `spr_hub`, `spr_node` provide $S^{\\text{hub}}_{m_o,h}, \\sigma^{\\text{hub}}_{m_o,h}$ and $S^{\\text{node}}_{m_o,h}, \\sigma^{\\text{node}}_{m_o,h}$.\n",
    "\n",
    "The result `sims_all` contains hourly paths for `hub_rt`, `node_rt`, `hub_da`, `node_da` for all scenarios.\n",
    "\n",
    "```python\n",
    "sims_all = simulate_prices(hh, bs_rt, spr_hub, spr_node, n_scenarios=SCENARIOS, seed=SEED)\n",
    "sims = sims_all[sims_all['market']==MARKET].copy()\n",
    "display(sims.head(3))\n"
   ]
  },
  {
   "cell_type": "code",
   "execution_count": 6,
   "id": "2db258a2",
   "metadata": {},
   "outputs": [
    {
     "data": {
      "application/vnd.microsoft.datawrangler.viewer.v0+json": {
       "columns": [
        {
         "name": "index",
         "rawType": "int64",
         "type": "integer"
        },
        {
         "name": "s",
         "rawType": "int64",
         "type": "integer"
        },
        {
         "name": "ts",
         "rawType": "datetime64[ns]",
         "type": "datetime"
        },
        {
         "name": "market",
         "rawType": "object",
         "type": "string"
        },
        {
         "name": "hub_rt",
         "rawType": "float64",
         "type": "float"
        },
        {
         "name": "node_rt",
         "rawType": "float64",
         "type": "float"
        },
        {
         "name": "hub_da",
         "rawType": "float64",
         "type": "float"
        },
        {
         "name": "node_da",
         "rawType": "float64",
         "type": "float"
        }
       ],
       "ref": "2d1d9a03-187c-4920-a7a7-c7646b4a1114",
       "rows": [
        [
         "0",
         "0",
         "2026-01-01 00:00:00",
         "MISO",
         "41.12871103744031",
         "32.23435442646937",
         "12.915769792835903",
         "27.251314774918907"
        ],
        [
         "1",
         "0",
         "2026-01-01 01:00:00",
         "MISO",
         "38.1274001628878",
         "44.394283770428636",
         "22.19354448254645",
         "34.591893417633585"
        ],
        [
         "2",
         "0",
         "2026-01-01 02:00:00",
         "MISO",
         "34.949435707325165",
         "22.004684132010325",
         "51.72930983460443",
         "18.422702276465458"
        ]
       ],
       "shape": {
        "columns": 7,
        "rows": 3
       }
      },
      "text/html": [
       "<div>\n",
       "<style scoped>\n",
       "    .dataframe tbody tr th:only-of-type {\n",
       "        vertical-align: middle;\n",
       "    }\n",
       "\n",
       "    .dataframe tbody tr th {\n",
       "        vertical-align: top;\n",
       "    }\n",
       "\n",
       "    .dataframe thead th {\n",
       "        text-align: right;\n",
       "    }\n",
       "</style>\n",
       "<table border=\"1\" class=\"dataframe\">\n",
       "  <thead>\n",
       "    <tr style=\"text-align: right;\">\n",
       "      <th></th>\n",
       "      <th>s</th>\n",
       "      <th>ts</th>\n",
       "      <th>market</th>\n",
       "      <th>hub_rt</th>\n",
       "      <th>node_rt</th>\n",
       "      <th>hub_da</th>\n",
       "      <th>node_da</th>\n",
       "    </tr>\n",
       "  </thead>\n",
       "  <tbody>\n",
       "    <tr>\n",
       "      <th>0</th>\n",
       "      <td>0</td>\n",
       "      <td>2026-01-01 00:00:00</td>\n",
       "      <td>MISO</td>\n",
       "      <td>41.128711</td>\n",
       "      <td>32.234354</td>\n",
       "      <td>12.915770</td>\n",
       "      <td>27.251315</td>\n",
       "    </tr>\n",
       "    <tr>\n",
       "      <th>1</th>\n",
       "      <td>0</td>\n",
       "      <td>2026-01-01 01:00:00</td>\n",
       "      <td>MISO</td>\n",
       "      <td>38.127400</td>\n",
       "      <td>44.394284</td>\n",
       "      <td>22.193544</td>\n",
       "      <td>34.591893</td>\n",
       "    </tr>\n",
       "    <tr>\n",
       "      <th>2</th>\n",
       "      <td>0</td>\n",
       "      <td>2026-01-01 02:00:00</td>\n",
       "      <td>MISO</td>\n",
       "      <td>34.949436</td>\n",
       "      <td>22.004684</td>\n",
       "      <td>51.729310</td>\n",
       "      <td>18.422702</td>\n",
       "    </tr>\n",
       "  </tbody>\n",
       "</table>\n",
       "</div>"
      ],
      "text/plain": [
       "   s                  ts market     hub_rt    node_rt     hub_da    node_da\n",
       "0  0 2026-01-01 00:00:00   MISO  41.128711  32.234354  12.915770  27.251315\n",
       "1  0 2026-01-01 01:00:00   MISO  38.127400  44.394284  22.193544  34.591893\n",
       "2  0 2026-01-01 02:00:00   MISO  34.949436  22.004684  51.729310  18.422702"
      ]
     },
     "metadata": {},
     "output_type": "display_data"
    },
    {
     "data": {
      "image/png": "[encoded data removed]",
      "text/plain": [
       "<Figure size 640x480 with 1 Axes>"
      ]
     },
     "metadata": {},
     "output_type": "display_data"
    }
   ],
   "source": [
    "\n",
    "sims_all = simulate_prices(hh, bs_rt, spr_hub, spr_node, n_scenarios=SCENARIOS, seed=SEED)\n",
    "sims = sims_all[sims_all['market']==MARKET].copy()\n",
    "display(sims.head(3))\n",
    "\n",
    "summary = sims.groupby('ts')[['hub_rt','node_rt']].mean().reset_index()\n",
    "first = summary.iloc[:24*60]\n",
    "plt.figure()\n",
    "plt.plot(first['ts'], first['hub_rt'], label='Hub RT (mean)')\n",
    "plt.plot(first['ts'], first['node_rt'], label='Node RT (mean)')\n",
    "plt.title(f'{MARKET} — First 60 Days RT Mean (Hub vs Node)')\n",
    "plt.xlabel('Time'); plt.ylabel('$/MWh'); plt.legend(); plt.xticks(rotation=45); plt.tight_layout(); plt.show()\n"
   ]
  },
  {
   "cell_type": "code",
   "execution_count": 7,
   "id": "b4548d0f",
   "metadata": {},
   "outputs": [
    {
     "name": "stdout",
     "output_type": "stream",
     "text": [
      "Non-empty sample buckets: 288\n",
      "Generation bucket match rate: 100.0%\n"
     ]
    }
   ],
   "source": [
    "# --- 1) Build volume samples by month-of-year & HE 1..24 ---\n",
    "hist_filt = hist_all[(hist_all['asset'] == ASSET_NAME) & (hist_all['market'] == MARKET)].copy()\n",
    "hist_filt['gen_mwh'] = pd.to_numeric(hist_filt['gen_mwh'], errors='coerce').fillna(0.0)\n",
    "\n",
    "hist_filt['mon']  = hist_filt['date'].dt.month               # 1..12\n",
    "hist_filt['hour'] = hist_filt['he']                           # HE 1..24 (ensure your 'he' is 1..24)\n",
    "\n",
    "vol_tbl = (hist_filt\n",
    "           .groupby(['asset','market','mon','hour'])['gen_mwh']\n",
    "           .apply(list).reset_index(name='samples'))\n",
    "\n",
    "print(\"Non-empty sample buckets:\", (vol_tbl['samples'].apply(lambda x: isinstance(x, list) and len(x) > 0)).sum())\n",
    "\n",
    "# --- 2) Calendar keyed the same way (mon + HE) ---\n",
    "cal_mon = cal.copy()\n",
    "cal_mon['ts']   = pd.to_datetime(cal_mon['ts'])\n",
    "cal_mon['mon']  = cal_mon['ts'].dt.month\n",
    "cal_mon['hour'] = cal_mon['ts'].dt.hour + 1      # HE 1..24\n",
    "\n",
    "# --- 3) Bootstrap using month-of-year + HE buckets ---\n",
    "rng = np.random.default_rng(SEED)\n",
    "\n",
    "base = (cal_mon.assign(_k=1)\n",
    "        .merge(vol_tbl.assign(_k=1), on='_k', how='left')\n",
    "        .drop(columns=['_k']))\n",
    "\n",
    "# Keep only this asset/market rows (vol_tbl has those identifiers)\n",
    "base = base[(base['asset'] == ASSET_NAME) & (base['market'] == MARKET)]\n",
    "\n",
    "# Match diagnostics: what share of hours have a sample list available?\n",
    "match_rate = 1.0 - base['samples'].isna().mean()\n",
    "print(f\"Generation bucket match rate: {match_rate:.1%}\")\n",
    "\n",
    "\n"
   ]
  },
  {
   "cell_type": "markdown",
   "id": "aefe5c9a",
   "metadata": {},
   "source": [
    "### Bootstrapped Hourly Generation Scenarios \n",
    "\n",
    "We create empirical, scenario-based **generation** paths by sampling historical output in matching **seasonal-hour** buckets.\n",
    "\n",
    "#### 1) Build historical volume table — `build_volume_table(...)`\n",
    "For each asset/market, we collect historical generation into buckets keyed by **month-of-year** and **hour-ending (HE 1..24)**.\n",
    "\n",
    "- Keys: $m_o \\in \\{1,\\dots,12\\}$ and $h \\in \\{1,\\dots,24\\}$\n",
    "- Bucket definition (plain text):\n",
    "  $\\;\\text{Bucket}(m_o,h)=\\{\\text{gen\\_mwh}_\\tau:\\ \\text{mon}(\\tau)=m_o,\\ \\text{HE}(\\tau)=h\\}$\n",
    "- Stored as a NumPy array per bucket:\n",
    "  $\\; \\text{samples}[m_o,h] = \\big(\\text{gen\\_mwh}^1,\\dots,\\text{gen\\_mwh}^{N_{m_o,h}}\\big)$\n",
    "\n",
    "This preserves the **empirical distribution** of generation for each seasonal hour.\n",
    "\n",
    "**Code:**\n",
    "```python\n",
    "vol_tbl = build_volume_table(hist_all, ASSET_NAME, MARKET)\n"
   ]
  },
  {
   "cell_type": "code",
   "execution_count": 8,
   "id": "ec086e56",
   "metadata": {},
   "outputs": [
    {
     "name": "stdout",
     "output_type": "stream",
     "text": [
      "gen rows: 4382400 | mean: 19.691055297851562\n"
     ]
    },
    {
     "data": {
      "application/vnd.microsoft.datawrangler.viewer.v0+json": {
       "columns": [
        {
         "name": "index",
         "rawType": "int64",
         "type": "integer"
        },
        {
         "name": "s",
         "rawType": "int32",
         "type": "integer"
        },
        {
         "name": "ts",
         "rawType": "datetime64[ns]",
         "type": "datetime"
        },
        {
         "name": "asset",
         "rawType": "object",
         "type": "string"
        },
        {
         "name": "market",
         "rawType": "object",
         "type": "string"
        },
        {
         "name": "gen_mwh",
         "rawType": "float32",
         "type": "float"
        }
       ],
       "ref": "278ea451-0411-4c80-83f1-e86aabfc2001",
       "rows": [
        [
         "0",
         "0",
         "2026-01-01 00:00:00",
         "Wind_B",
         "MISO",
         "0.0"
        ],
        [
         "1",
         "0",
         "2026-01-01 01:00:00",
         "Wind_B",
         "MISO",
         "68.8"
        ],
        [
         "2",
         "0",
         "2026-01-01 02:00:00",
         "Wind_B",
         "MISO",
         "0.0"
        ]
       ],
       "shape": {
        "columns": 5,
        "rows": 3
       }
      },
      "text/html": [
       "<div>\n",
       "<style scoped>\n",
       "    .dataframe tbody tr th:only-of-type {\n",
       "        vertical-align: middle;\n",
       "    }\n",
       "\n",
       "    .dataframe tbody tr th {\n",
       "        vertical-align: top;\n",
       "    }\n",
       "\n",
       "    .dataframe thead th {\n",
       "        text-align: right;\n",
       "    }\n",
       "</style>\n",
       "<table border=\"1\" class=\"dataframe\">\n",
       "  <thead>\n",
       "    <tr style=\"text-align: right;\">\n",
       "      <th></th>\n",
       "      <th>s</th>\n",
       "      <th>ts</th>\n",
       "      <th>asset</th>\n",
       "      <th>market</th>\n",
       "      <th>gen_mwh</th>\n",
       "    </tr>\n",
       "  </thead>\n",
       "  <tbody>\n",
       "    <tr>\n",
       "      <th>0</th>\n",
       "      <td>0</td>\n",
       "      <td>2026-01-01 00:00:00</td>\n",
       "      <td>Wind_B</td>\n",
       "      <td>MISO</td>\n",
       "      <td>0.000000</td>\n",
       "    </tr>\n",
       "    <tr>\n",
       "      <th>1</th>\n",
       "      <td>0</td>\n",
       "      <td>2026-01-01 01:00:00</td>\n",
       "      <td>Wind_B</td>\n",
       "      <td>MISO</td>\n",
       "      <td>68.800003</td>\n",
       "    </tr>\n",
       "    <tr>\n",
       "      <th>2</th>\n",
       "      <td>0</td>\n",
       "      <td>2026-01-01 02:00:00</td>\n",
       "      <td>Wind_B</td>\n",
       "      <td>MISO</td>\n",
       "      <td>0.000000</td>\n",
       "    </tr>\n",
       "  </tbody>\n",
       "</table>\n",
       "</div>"
      ],
      "text/plain": [
       "   s                  ts   asset market    gen_mwh\n",
       "0  0 2026-01-01 00:00:00  Wind_B   MISO   0.000000\n",
       "1  0 2026-01-01 01:00:00  Wind_B   MISO  68.800003\n",
       "2  0 2026-01-01 02:00:00  Wind_B   MISO   0.000000"
      ]
     },
     "metadata": {},
     "output_type": "display_data"
    }
   ],
   "source": [
    "from src.models.volume import build_volume_table, bootstrap_generation\n",
    "\n",
    "vol_tbl = build_volume_table(hist_all, ASSET_NAME, MARKET)\n",
    "rng = np.random.default_rng(SEED)\n",
    "gen = bootstrap_generation(cal, vol_tbl, n_scenarios=SCENARIOS, rng=rng)\n",
    "\n",
    "print(\"gen rows:\", len(gen), \"| mean:\", float(gen['gen_mwh'].mean()))\n",
    "display(gen.head(3))\n"
   ]
  },
  {
   "cell_type": "code",
   "execution_count": 9,
   "id": "d7364504",
   "metadata": {},
   "outputs": [
    {
     "data": {
      "application/vnd.microsoft.datawrangler.viewer.v0+json": {
       "columns": [
        {
         "name": "index",
         "rawType": "int64",
         "type": "integer"
        },
        {
         "name": "asset",
         "rawType": "object",
         "type": "string"
        },
        {
         "name": "month",
         "rawType": "datetime64[ns]",
         "type": "datetime"
        },
        {
         "name": "bucket",
         "rawType": "object",
         "type": "string"
        },
        {
         "name": "expected_mwh",
         "rawType": "float32",
         "type": "float"
        }
       ],
       "ref": "1c58efe3-f410-429f-b1ad-e9bb19c4ab01",
       "rows": [
        [
         "0",
         "Wind_B",
         "2026-01-01 00:00:00",
         "Off-Peak",
         "17.380922"
        ],
        [
         "1",
         "Wind_B",
         "2026-01-01 00:00:00",
         "Peak",
         "18.337633"
        ],
        [
         "2",
         "Wind_B",
         "2026-02-01 00:00:00",
         "Off-Peak",
         "24.945301"
        ],
        [
         "3",
         "Wind_B",
         "2026-02-01 00:00:00",
         "Peak",
         "26.620363"
        ],
        [
         "4",
         "Wind_B",
         "2026-03-01 00:00:00",
         "Off-Peak",
         "24.281693"
        ],
        [
         "5",
         "Wind_B",
         "2026-03-01 00:00:00",
         "Peak",
         "25.089003"
        ]
       ],
       "shape": {
        "columns": 4,
        "rows": 6
       }
      },
      "text/html": [
       "<div>\n",
       "<style scoped>\n",
       "    .dataframe tbody tr th:only-of-type {\n",
       "        vertical-align: middle;\n",
       "    }\n",
       "\n",
       "    .dataframe tbody tr th {\n",
       "        vertical-align: top;\n",
       "    }\n",
       "\n",
       "    .dataframe thead th {\n",
       "        text-align: right;\n",
       "    }\n",
       "</style>\n",
       "<table border=\"1\" class=\"dataframe\">\n",
       "  <thead>\n",
       "    <tr style=\"text-align: right;\">\n",
       "      <th></th>\n",
       "      <th>asset</th>\n",
       "      <th>month</th>\n",
       "      <th>bucket</th>\n",
       "      <th>expected_mwh</th>\n",
       "    </tr>\n",
       "  </thead>\n",
       "  <tbody>\n",
       "    <tr>\n",
       "      <th>0</th>\n",
       "      <td>Wind_B</td>\n",
       "      <td>2026-01-01</td>\n",
       "      <td>Off-Peak</td>\n",
       "      <td>17.380922</td>\n",
       "    </tr>\n",
       "    <tr>\n",
       "      <th>1</th>\n",
       "      <td>Wind_B</td>\n",
       "      <td>2026-01-01</td>\n",
       "      <td>Peak</td>\n",
       "      <td>18.337633</td>\n",
       "    </tr>\n",
       "    <tr>\n",
       "      <th>2</th>\n",
       "      <td>Wind_B</td>\n",
       "      <td>2026-02-01</td>\n",
       "      <td>Off-Peak</td>\n",
       "      <td>24.945301</td>\n",
       "    </tr>\n",
       "    <tr>\n",
       "      <th>3</th>\n",
       "      <td>Wind_B</td>\n",
       "      <td>2026-02-01</td>\n",
       "      <td>Peak</td>\n",
       "      <td>26.620363</td>\n",
       "    </tr>\n",
       "    <tr>\n",
       "      <th>4</th>\n",
       "      <td>Wind_B</td>\n",
       "      <td>2026-03-01</td>\n",
       "      <td>Off-Peak</td>\n",
       "      <td>24.281693</td>\n",
       "    </tr>\n",
       "    <tr>\n",
       "      <th>5</th>\n",
       "      <td>Wind_B</td>\n",
       "      <td>2026-03-01</td>\n",
       "      <td>Peak</td>\n",
       "      <td>25.089003</td>\n",
       "    </tr>\n",
       "  </tbody>\n",
       "</table>\n",
       "</div>"
      ],
      "text/plain": [
       "    asset      month    bucket  expected_mwh\n",
       "0  Wind_B 2026-01-01  Off-Peak     17.380922\n",
       "1  Wind_B 2026-01-01      Peak     18.337633\n",
       "2  Wind_B 2026-02-01  Off-Peak     24.945301\n",
       "3  Wind_B 2026-02-01      Peak     26.620363\n",
       "4  Wind_B 2026-03-01  Off-Peak     24.281693\n",
       "5  Wind_B 2026-03-01      Peak     25.089003"
      ]
     },
     "metadata": {},
     "output_type": "display_data"
    }
   ],
   "source": [
    "\n",
    "eg = expected_generation_monthly(gen)\n",
    "eg_asset = eg[eg['asset']==ASSET_NAME].copy()\n",
    "display(eg_asset.head(6))\n",
    "\n",
    "Path('results').mkdir(exist_ok=True)\n",
    "eg_asset.to_csv(f'results/expected_generation_{ASSET_NAME}.csv', index=False)\n"
   ]
  },
  {
   "cell_type": "markdown",
   "id": "6324e333",
   "metadata": {},
   "source": [
    "\n",
    "\n",
    "We compute the **flat fixed price** $P^*$ for each product so that, across scenarios, the hedge is at least as good as merchant with probability $p$ (e.g., $p=0.75$ for **P75**).\n",
    "\n",
    "#### Products\n",
    "- `RT_HUB`: sell as-generated at **node RT** vs fixed at **hub** reference  \n",
    "- `RT_NODE`: sell as-generated at **node RT** vs fixed at **node** reference  \n",
    "- `DA_HUB`: sell as-generated at **node RT** vs fixed at **hub DA** reference  \n",
    "- `DA_NODE`: sell as-generated at **node RT** vs fixed at **node DA** reference\n",
    "\n",
    "> Rationale: Merchant value uses **as-generated node RT** cashflow; the fixed product settles vs a reference price (hub/node; RT/DA).\n",
    "\n",
    "#### Decision Rule (per product)\n",
    "For hour $t$ and scenario $s$, let volume be $G_{t,s}$ (bootstrapped generation).  \n",
    "- Merchant cashflow (per scenario):  \n",
    "  $\\mathrm{Merch}_s = \\sum_t G_{t,s}\\cdot \\mathrm{RT}^{\\text{node}}_{t,s}$\n",
    "- Hedge cashflow (per scenario), with reference price $R_{t,s}$ matching the selected product:  \n",
    "  $\\mathrm{Hedge}_s(P) = \\sum_t (P - R_{t,s})\\cdot \\tilde{G}_{t,s}$\n",
    "\n",
    "Negative-price rule:\n",
    "- If `negative_rule = 'zero'`, use $\\tilde{G}_{t,s} = 0$ whenever $R_{t,s} < 0$; else $\\tilde{G}_{t,s} = G_{t,s}$.\n",
    "\n",
    "**Target fixed price** $P^*$ solves:\n",
    "\n",
    "$$\n",
    "\\operatorname{Quantile}_{1-p}\\!\\left(\\mathrm{Hedge}_s(P^*) - \\mathrm{Merch}_s\\right) = 0\n",
    "$$\n",
    "i.e., the $(1-p)$ tail of (hedge − merchant) is zero → at least a $p$ fraction of scenarios prefer the hedge.\n",
    "\n"
   ]
  },
  {
   "cell_type": "code",
   "execution_count": 10,
   "id": "20651e38",
   "metadata": {},
   "outputs": [
    {
     "data": {
      "application/vnd.microsoft.datawrangler.viewer.v0+json": {
       "columns": [
        {
         "name": "index",
         "rawType": "int64",
         "type": "integer"
        },
        {
         "name": "asset",
         "rawType": "object",
         "type": "string"
        },
        {
         "name": "product",
         "rawType": "object",
         "type": "string"
        },
        {
         "name": "p_level",
         "rawType": "float64",
         "type": "float"
        },
        {
         "name": "negative_rule",
         "rawType": "object",
         "type": "string"
        },
        {
         "name": "fixed_price",
         "rawType": "float64",
         "type": "float"
        }
       ],
       "ref": "6eafb45a-4470-42bd-8660-512fd50d1f4e",
       "rows": [
        [
         "0",
         "Wind_B",
         "RT_HUB",
         "0.75",
         "include",
         "45.295699175153636"
        ],
        [
         "1",
         "Wind_B",
         "RT_NODE",
         "0.75",
         "include",
         "40.05950758834853"
        ],
        [
         "2",
         "Wind_B",
         "DA_HUB",
         "0.75",
         "include",
         "45.5165137937934"
        ],
        [
         "3",
         "Wind_B",
         "DA_NODE",
         "0.75",
         "include",
         "36.964196207377675"
        ]
       ],
       "shape": {
        "columns": 5,
        "rows": 4
       }
      },
      "text/html": [
       "<div>\n",
       "<style scoped>\n",
       "    .dataframe tbody tr th:only-of-type {\n",
       "        vertical-align: middle;\n",
       "    }\n",
       "\n",
       "    .dataframe tbody tr th {\n",
       "        vertical-align: top;\n",
       "    }\n",
       "\n",
       "    .dataframe thead th {\n",
       "        text-align: right;\n",
       "    }\n",
       "</style>\n",
       "<table border=\"1\" class=\"dataframe\">\n",
       "  <thead>\n",
       "    <tr style=\"text-align: right;\">\n",
       "      <th></th>\n",
       "      <th>asset</th>\n",
       "      <th>product</th>\n",
       "      <th>p_level</th>\n",
       "      <th>negative_rule</th>\n",
       "      <th>fixed_price</th>\n",
       "    </tr>\n",
       "  </thead>\n",
       "  <tbody>\n",
       "    <tr>\n",
       "      <th>0</th>\n",
       "      <td>Wind_B</td>\n",
       "      <td>RT_HUB</td>\n",
       "      <td>0.75</td>\n",
       "      <td>include</td>\n",
       "      <td>45.295699</td>\n",
       "    </tr>\n",
       "    <tr>\n",
       "      <th>1</th>\n",
       "      <td>Wind_B</td>\n",
       "      <td>RT_NODE</td>\n",
       "      <td>0.75</td>\n",
       "      <td>include</td>\n",
       "      <td>40.059508</td>\n",
       "    </tr>\n",
       "    <tr>\n",
       "      <th>2</th>\n",
       "      <td>Wind_B</td>\n",
       "      <td>DA_HUB</td>\n",
       "      <td>0.75</td>\n",
       "      <td>include</td>\n",
       "      <td>45.516514</td>\n",
       "    </tr>\n",
       "    <tr>\n",
       "      <th>3</th>\n",
       "      <td>Wind_B</td>\n",
       "      <td>DA_NODE</td>\n",
       "      <td>0.75</td>\n",
       "      <td>include</td>\n",
       "      <td>36.964196</td>\n",
       "    </tr>\n",
       "  </tbody>\n",
       "</table>\n",
       "</div>"
      ],
      "text/plain": [
       "    asset  product  p_level negative_rule  fixed_price\n",
       "0  Wind_B   RT_HUB     0.75       include    45.295699\n",
       "1  Wind_B  RT_NODE     0.75       include    40.059508\n",
       "2  Wind_B   DA_HUB     0.75       include    45.516514\n",
       "3  Wind_B  DA_NODE     0.75       include    36.964196"
      ]
     },
     "metadata": {},
     "output_type": "display_data"
    },
    {
     "data": {
      "application/vnd.microsoft.datawrangler.viewer.v0+json": {
       "columns": [
        {
         "name": "index",
         "rawType": "int64",
         "type": "integer"
        },
        {
         "name": "asset",
         "rawType": "object",
         "type": "string"
        },
        {
         "name": "product",
         "rawType": "object",
         "type": "string"
        },
        {
         "name": "p_level",
         "rawType": "float64",
         "type": "float"
        },
        {
         "name": "negative_rule",
         "rawType": "object",
         "type": "string"
        },
        {
         "name": "fixed_price",
         "rawType": "float64",
         "type": "float"
        }
       ],
       "ref": "ff3ee3cd-ff19-4a6e-9a66-4dfc41c187f5",
       "rows": [
        [
         "0",
         "Wind_B",
         "RT_HUB",
         "0.5",
         "include",
         "45.25378476189612"
        ],
        [
         "1",
         "Wind_B",
         "RT_NODE",
         "0.5",
         "include",
         "39.946894557084"
        ],
        [
         "2",
         "Wind_B",
         "DA_HUB",
         "0.5",
         "include",
         "45.33835864894531"
        ],
        [
         "3",
         "Wind_B",
         "DA_NODE",
         "0.5",
         "include",
         "36.75394111478436"
        ],
        [
         "4",
         "Wind_B",
         "RT_HUB",
         "0.75",
         "include",
         "45.295699175153636"
        ],
        [
         "5",
         "Wind_B",
         "RT_NODE",
         "0.75",
         "include",
         "40.05950758834853"
        ],
        [
         "6",
         "Wind_B",
         "DA_HUB",
         "0.75",
         "include",
         "45.5165137937934"
        ],
        [
         "7",
         "Wind_B",
         "DA_NODE",
         "0.75",
         "include",
         "36.964196207377675"
        ],
        [
         "8",
         "Wind_B",
         "RT_HUB",
         "0.9",
         "include",
         "45.41306151863456"
        ],
        [
         "9",
         "Wind_B",
         "RT_NODE",
         "0.9",
         "include",
         "40.12545239727583"
        ],
        [
         "10",
         "Wind_B",
         "DA_HUB",
         "0.9",
         "include",
         "45.682417316542434"
        ],
        [
         "11",
         "Wind_B",
         "DA_NODE",
         "0.9",
         "include",
         "37.12123477655194"
        ]
       ],
       "shape": {
        "columns": 5,
        "rows": 12
       }
      },
      "text/html": [
       "<div>\n",
       "<style scoped>\n",
       "    .dataframe tbody tr th:only-of-type {\n",
       "        vertical-align: middle;\n",
       "    }\n",
       "\n",
       "    .dataframe tbody tr th {\n",
       "        vertical-align: top;\n",
       "    }\n",
       "\n",
       "    .dataframe thead th {\n",
       "        text-align: right;\n",
       "    }\n",
       "</style>\n",
       "<table border=\"1\" class=\"dataframe\">\n",
       "  <thead>\n",
       "    <tr style=\"text-align: right;\">\n",
       "      <th></th>\n",
       "      <th>asset</th>\n",
       "      <th>product</th>\n",
       "      <th>p_level</th>\n",
       "      <th>negative_rule</th>\n",
       "      <th>fixed_price</th>\n",
       "    </tr>\n",
       "  </thead>\n",
       "  <tbody>\n",
       "    <tr>\n",
       "      <th>0</th>\n",
       "      <td>Wind_B</td>\n",
       "      <td>RT_HUB</td>\n",
       "      <td>0.50</td>\n",
       "      <td>include</td>\n",
       "      <td>45.253785</td>\n",
       "    </tr>\n",
       "    <tr>\n",
       "      <th>1</th>\n",
       "      <td>Wind_B</td>\n",
       "      <td>RT_NODE</td>\n",
       "      <td>0.50</td>\n",
       "      <td>include</td>\n",
       "      <td>39.946895</td>\n",
       "    </tr>\n",
       "    <tr>\n",
       "      <th>2</th>\n",
       "      <td>Wind_B</td>\n",
       "      <td>DA_HUB</td>\n",
       "      <td>0.50</td>\n",
       "      <td>include</td>\n",
       "      <td>45.338359</td>\n",
       "    </tr>\n",
       "    <tr>\n",
       "      <th>3</th>\n",
       "      <td>Wind_B</td>\n",
       "      <td>DA_NODE</td>\n",
       "      <td>0.50</td>\n",
       "      <td>include</td>\n",
       "      <td>36.753941</td>\n",
       "    </tr>\n",
       "    <tr>\n",
       "      <th>4</th>\n",
       "      <td>Wind_B</td>\n",
       "      <td>RT_HUB</td>\n",
       "      <td>0.75</td>\n",
       "      <td>include</td>\n",
       "      <td>45.295699</td>\n",
       "    </tr>\n",
       "    <tr>\n",
       "      <th>5</th>\n",
       "      <td>Wind_B</td>\n",
       "      <td>RT_NODE</td>\n",
       "      <td>0.75</td>\n",
       "      <td>include</td>\n",
       "      <td>40.059508</td>\n",
       "    </tr>\n",
       "    <tr>\n",
       "      <th>6</th>\n",
       "      <td>Wind_B</td>\n",
       "      <td>DA_HUB</td>\n",
       "      <td>0.75</td>\n",
       "      <td>include</td>\n",
       "      <td>45.516514</td>\n",
       "    </tr>\n",
       "    <tr>\n",
       "      <th>7</th>\n",
       "      <td>Wind_B</td>\n",
       "      <td>DA_NODE</td>\n",
       "      <td>0.75</td>\n",
       "      <td>include</td>\n",
       "      <td>36.964196</td>\n",
       "    </tr>\n",
       "    <tr>\n",
       "      <th>8</th>\n",
       "      <td>Wind_B</td>\n",
       "      <td>RT_HUB</td>\n",
       "      <td>0.90</td>\n",
       "      <td>include</td>\n",
       "      <td>45.413062</td>\n",
       "    </tr>\n",
       "    <tr>\n",
       "      <th>9</th>\n",
       "      <td>Wind_B</td>\n",
       "      <td>RT_NODE</td>\n",
       "      <td>0.90</td>\n",
       "      <td>include</td>\n",
       "      <td>40.125452</td>\n",
       "    </tr>\n",
       "    <tr>\n",
       "      <th>10</th>\n",
       "      <td>Wind_B</td>\n",
       "      <td>DA_HUB</td>\n",
       "      <td>0.90</td>\n",
       "      <td>include</td>\n",
       "      <td>45.682417</td>\n",
       "    </tr>\n",
       "    <tr>\n",
       "      <th>11</th>\n",
       "      <td>Wind_B</td>\n",
       "      <td>DA_NODE</td>\n",
       "      <td>0.90</td>\n",
       "      <td>include</td>\n",
       "      <td>37.121235</td>\n",
       "    </tr>\n",
       "  </tbody>\n",
       "</table>\n",
       "</div>"
      ],
      "text/plain": [
       "     asset  product  p_level negative_rule  fixed_price\n",
       "0   Wind_B   RT_HUB     0.50       include    45.253785\n",
       "1   Wind_B  RT_NODE     0.50       include    39.946895\n",
       "2   Wind_B   DA_HUB     0.50       include    45.338359\n",
       "3   Wind_B  DA_NODE     0.50       include    36.753941\n",
       "4   Wind_B   RT_HUB     0.75       include    45.295699\n",
       "5   Wind_B  RT_NODE     0.75       include    40.059508\n",
       "6   Wind_B   DA_HUB     0.75       include    45.516514\n",
       "7   Wind_B  DA_NODE     0.75       include    36.964196\n",
       "8   Wind_B   RT_HUB     0.90       include    45.413062\n",
       "9   Wind_B  RT_NODE     0.90       include    40.125452\n",
       "10  Wind_B   DA_HUB     0.90       include    45.682417\n",
       "11  Wind_B  DA_NODE     0.90       include    37.121235"
      ]
     },
     "metadata": {},
     "output_type": "display_data"
    }
   ],
   "source": [
    "\n",
    "products = ['RT_HUB','RT_NODE','DA_HUB','DA_NODE']\n",
    "prices_p75 = solve_product_prices(sims, gen, products, p_level=P_LEVEL, negative_rule=neg_rule)\n",
    "prices_p75 = prices_p75[prices_p75['asset']==ASSET_NAME].copy().reset_index(drop=True)\n",
    "display(prices_p75)\n",
    "\n",
    "\n",
    "prices_grid = solve_prices_for_levels(sims, gen, products, P_GRID, negative_rule=neg_rule)\n",
    "prices_grid = prices_grid[prices_grid['asset']==ASSET_NAME].copy().reset_index(drop=True)\n",
    "display(prices_grid.head(12))\n",
    "\n",
    "prices_p75.to_csv(f'results/fixed_prices_{ASSET_NAME}_p75.csv', index=False)\n",
    "prices_grid.to_csv(f'results/fixed_prices_{ASSET_NAME}_pgrid.csv', index=False)\n"
   ]
  },
  {
   "cell_type": "code",
   "execution_count": 11,
   "id": "7a04e689",
   "metadata": {},
   "outputs": [
    {
     "data": {
      "application/vnd.microsoft.datawrangler.viewer.v0+json": {
       "columns": [
        {
         "name": "index",
         "rawType": "int64",
         "type": "integer"
        },
        {
         "name": "asset",
         "rawType": "object",
         "type": "string"
        },
        {
         "name": "product",
         "rawType": "object",
         "type": "string"
        },
        {
         "name": "p_level",
         "rawType": "float64",
         "type": "float"
        },
        {
         "name": "hub_mean",
         "rawType": "float64",
         "type": "float"
        },
        {
         "name": "basis_mean",
         "rawType": "float64",
         "type": "float"
        },
        {
         "name": "da_spr_hub_mean",
         "rawType": "float64",
         "type": "float"
        },
        {
         "name": "da_spr_node_mean",
         "rawType": "float64",
         "type": "float"
        },
        {
         "name": "expected_ref_price",
         "rawType": "float64",
         "type": "float"
        },
        {
         "name": "fixed_price",
         "rawType": "float64",
         "type": "float"
        },
        {
         "name": "risk_premium",
         "rawType": "float64",
         "type": "float"
        }
       ],
       "ref": "c4b46d2f-09e6-4488-8fcd-7935edf64b42",
       "rows": [
        [
         "0",
         "Wind_B",
         "RT_HUB",
         "0.75",
         "45.250939227546255",
         "5.298399351398161",
         "0.05931969092633921",
         "-3.186757595017972",
         "45.250939227546255",
         "45.295699175153636",
         "0.04475994760738189"
        ],
        [
         "1",
         "Wind_B",
         "RT_NODE",
         "0.75",
         "45.250939227546255",
         "5.298399351398161",
         "0.05931969092633921",
         "-3.186757595017972",
         "39.952539876148094",
         "41.01733987021294",
         "1.064799994064849"
        ],
        [
         "2",
         "Wind_B",
         "DA_HUB",
         "0.75",
         "45.250939227546255",
         "5.298399351398161",
         "0.05931969092633921",
         "-3.186757595017972",
         "45.31025891847259",
         "48.10446130568291",
         "2.794202387210319"
        ],
        [
         "3",
         "Wind_B",
         "DA_NODE",
         "0.75",
         "45.250939227546255",
         "5.298399351398161",
         "0.05931969092633921",
         "-3.186757595017972",
         "36.76578228113012",
         "42.954798016814344",
         "6.189015735684222"
        ]
       ],
       "shape": {
        "columns": 10,
        "rows": 4
       }
      },
      "text/html": [
       "<div>\n",
       "<style scoped>\n",
       "    .dataframe tbody tr th:only-of-type {\n",
       "        vertical-align: middle;\n",
       "    }\n",
       "\n",
       "    .dataframe tbody tr th {\n",
       "        vertical-align: top;\n",
       "    }\n",
       "\n",
       "    .dataframe thead th {\n",
       "        text-align: right;\n",
       "    }\n",
       "</style>\n",
       "<table border=\"1\" class=\"dataframe\">\n",
       "  <thead>\n",
       "    <tr style=\"text-align: right;\">\n",
       "      <th></th>\n",
       "      <th>asset</th>\n",
       "      <th>product</th>\n",
       "      <th>p_level</th>\n",
       "      <th>hub_mean</th>\n",
       "      <th>basis_mean</th>\n",
       "      <th>da_spr_hub_mean</th>\n",
       "      <th>da_spr_node_mean</th>\n",
       "      <th>expected_ref_price</th>\n",
       "      <th>fixed_price</th>\n",
       "      <th>risk_premium</th>\n",
       "    </tr>\n",
       "  </thead>\n",
       "  <tbody>\n",
       "    <tr>\n",
       "      <th>0</th>\n",
       "      <td>Wind_B</td>\n",
       "      <td>RT_HUB</td>\n",
       "      <td>0.75</td>\n",
       "      <td>45.250939</td>\n",
       "      <td>5.298399</td>\n",
       "      <td>0.05932</td>\n",
       "      <td>-3.186758</td>\n",
       "      <td>45.250939</td>\n",
       "      <td>45.295699</td>\n",
       "      <td>0.044760</td>\n",
       "    </tr>\n",
       "    <tr>\n",
       "      <th>1</th>\n",
       "      <td>Wind_B</td>\n",
       "      <td>RT_NODE</td>\n",
       "      <td>0.75</td>\n",
       "      <td>45.250939</td>\n",
       "      <td>5.298399</td>\n",
       "      <td>0.05932</td>\n",
       "      <td>-3.186758</td>\n",
       "      <td>39.952540</td>\n",
       "      <td>41.017340</td>\n",
       "      <td>1.064800</td>\n",
       "    </tr>\n",
       "    <tr>\n",
       "      <th>2</th>\n",
       "      <td>Wind_B</td>\n",
       "      <td>DA_HUB</td>\n",
       "      <td>0.75</td>\n",
       "      <td>45.250939</td>\n",
       "      <td>5.298399</td>\n",
       "      <td>0.05932</td>\n",
       "      <td>-3.186758</td>\n",
       "      <td>45.310259</td>\n",
       "      <td>48.104461</td>\n",
       "      <td>2.794202</td>\n",
       "    </tr>\n",
       "    <tr>\n",
       "      <th>3</th>\n",
       "      <td>Wind_B</td>\n",
       "      <td>DA_NODE</td>\n",
       "      <td>0.75</td>\n",
       "      <td>45.250939</td>\n",
       "      <td>5.298399</td>\n",
       "      <td>0.05932</td>\n",
       "      <td>-3.186758</td>\n",
       "      <td>36.765782</td>\n",
       "      <td>42.954798</td>\n",
       "      <td>6.189016</td>\n",
       "    </tr>\n",
       "  </tbody>\n",
       "</table>\n",
       "</div>"
      ],
      "text/plain": [
       "    asset  product  p_level   hub_mean  basis_mean  da_spr_hub_mean  \\\n",
       "0  Wind_B   RT_HUB     0.75  45.250939    5.298399          0.05932   \n",
       "1  Wind_B  RT_NODE     0.75  45.250939    5.298399          0.05932   \n",
       "2  Wind_B   DA_HUB     0.75  45.250939    5.298399          0.05932   \n",
       "3  Wind_B  DA_NODE     0.75  45.250939    5.298399          0.05932   \n",
       "\n",
       "   da_spr_node_mean  expected_ref_price  fixed_price  risk_premium  \n",
       "0         -3.186758           45.250939    45.295699      0.044760  \n",
       "1         -3.186758           39.952540    41.017340      1.064800  \n",
       "2         -3.186758           45.310259    48.104461      2.794202  \n",
       "3         -3.186758           36.765782    42.954798      6.189016  "
      ]
     },
     "metadata": {},
     "output_type": "display_data"
    }
   ],
   "source": [
    "\n",
    "breakdown_all = compute_price_breakdown(\n",
    "    hourly_hub_fwd=hh,\n",
    "    basis_mean_rt=bs_rt[['market','mon','hour','mean']],\n",
    "    da_spr_mean_hub=spr_hub[['market','mon','hour','mean']],\n",
    "    da_spr_mean_node=spr_node[['market','mon','hour','mean']],\n",
    "    sims=sims,\n",
    "    gen_df=gen,\n",
    "    products=products,\n",
    "    p_level=P_LEVEL\n",
    ")\n",
    "bk = breakdown_all[breakdown_all['asset']==ASSET_NAME].copy().reset_index(drop=True)\n",
    "display(bk)\n",
    "bk.to_csv(f'results/price_breakdown_{ASSET_NAME}.csv', index=False)\n"
   ]
  },
  {
   "cell_type": "code",
   "execution_count": 12,
   "id": "5fe75b73",
   "metadata": {},
   "outputs": [
    {
     "name": "stderr",
     "output_type": "stream",
     "text": [
      "C:\\Users\\mpanah01\\AppData\\Local\\Temp\\ipykernel_11648\\778916926.py:3: FutureWarning: Calling float on a single element Series is deprecated and will raise a TypeError in the future. Use float(ser.iloc[0]) instead\n",
      "  vals = [float(prices_p75[prices_p75['product']==p]['fixed_price']) for p in products]\n"
     ]
    },
    {
     "data": {
      "image/png": "[encoded data removed]",
      "text/plain": [
       "<Figure size 640x480 with 1 Axes>"
      ]
     },
     "metadata": {},
     "output_type": "display_data"
    }
   ],
   "source": [
    "\n",
    "plt.figure()\n",
    "x = np.arange(len(products))\n",
    "vals = [float(prices_p75[prices_p75['product']==p]['fixed_price']) for p in products]\n",
    "plt.bar(x, vals)\n",
    "plt.xticks(x, products); plt.ylabel('$/MWh'); plt.title(f'{ASSET_NAME} — Fixed Prices (P75)')\n",
    "plt.tight_layout(); plt.show()\n"
   ]
  },
  {
   "cell_type": "code",
   "execution_count": 13,
   "id": "424792c2",
   "metadata": {},
   "outputs": [
    {
     "data": {
      "image/png": "[encoded data removed]",
      "text/plain": [
       "<Figure size 640x480 with 1 Axes>"
      ]
     },
     "metadata": {},
     "output_type": "display_data"
    }
   ],
   "source": [
    "row = bk.iloc[2]  # choose the product row you want to plot\n",
    "\n",
    "# pick mapping by product\n",
    "prod = row['product']\n",
    "if   prod == 'RT_HUB':\n",
    "    A = float(row['hub_mean'])\n",
    "    B = 0.0\n",
    "    C = 0.0\n",
    "elif prod == 'RT_NODE':\n",
    "    A = float(row['hub_mean'])\n",
    "    B = float(-row['basis_mean'])\n",
    "    C = 0.0\n",
    "elif prod == 'DA_HUB':\n",
    "    A = float(row['hub_mean'])\n",
    "    B = 0.0\n",
    "    C = float(row['da_spr_hub_mean'])\n",
    "elif prod == 'DA_NODE':\n",
    "    A = float(row['hub_mean'])\n",
    "    B = float(-row['basis_mean'])\n",
    "    C = float(row['da_spr_node_mean'])\n",
    "else:\n",
    "    raise ValueError(f\"Unknown product {prod}\")\n",
    "\n",
    "D = 0.0  # we didn't compute negative-rule effect separately here\n",
    "E = float(row['risk_premium'])  # includes neg-rule + volatility residual\n",
    "\n",
    "steps  = ['A_hub_capture','B_basis','C_da_rt','D_neg_rule','E_risk']\n",
    "labels = ['A: Hub','B: Basis','C: DA-RT','D: Neg','E: Risk']\n",
    "values = [A,B,C,D,E]\n",
    "\n",
    "import matplotlib.pyplot as plt\n",
    "plt.figure()\n",
    "plt.bar(range(len(values)), values)\n",
    "plt.xticks(range(len(values)), labels, rotation=0)\n",
    "plt.title(f\"{row['asset']} — {row['product']} Price Breakdown\")\n",
    "plt.ylabel(\"$/MWh\")\n",
    "plt.tight_layout(); plt.show()\n"
   ]
  },
  {
   "cell_type": "code",
   "execution_count": 14,
   "id": "81959eba",
   "metadata": {},
   "outputs": [
    {
     "data": {
      "image/png": "[encoded data removed]",
      "text/plain": [
       "<Figure size 640x480 with 1 Axes>"
      ]
     },
     "metadata": {},
     "output_type": "display_data"
    },
    {
     "data": {
      "image/png": "[encoded data removed]",
      "text/plain": [
       "<Figure size 640x480 with 1 Axes>"
      ]
     },
     "metadata": {},
     "output_type": "display_data"
    }
   ],
   "source": [
    "\n",
    "dfm = gen.merge(sims, on=['s','ts','market'])\n",
    "dfm['merchant_rt_node'] = dfm['gen_mwh'] * dfm['node_rt']\n",
    "agg = dfm.groupby(['s'])['merchant_rt_node'].sum().reset_index()\n",
    "\n",
    "plt.figure()\n",
    "plt.hist(agg['merchant_rt_node'], bins=40, alpha=0.7)\n",
    "plt.xlabel('Merchant value over 5 years ($)'); plt.ylabel('Frequency')\n",
    "plt.title(f'{ASSET_NAME} — Merchant Distribution (RT Node, as-generated)')\n",
    "plt.tight_layout(); plt.show()\n",
    "\n",
    "exp_mwh = gen.groupby('s')['gen_mwh'].sum().mean()\n",
    "for p in [0.50, 0.75, 0.90]:\n",
    "    for prod in products:\n",
    "        P_star = float(prices_grid[(prices_grid['p_level']==p) & (prices_grid['product']==prod)]['fixed_price'].iloc[0])\n",
    "        plt.axvline(P_star * exp_mwh, linestyle='--')\n",
    "plt.show()\n"
   ]
  }
 ],
 "metadata": {
  "kernelspec": {
   "display_name": "base",
   "language": "python",
   "name": "python3"
  },
  "language_info": {
   "codemirror_mode": {
    "name": "ipython",
    "version": 3
   },
   "file_extension": ".py",
   "mimetype": "text/x-python",
   "name": "python",
   "nbconvert_exporter": "python",
   "pygments_lexer": "ipython3",
   "version": "3.11.5"
  }
 },
 "nbformat": 4,
 "nbformat_minor": 5
}
